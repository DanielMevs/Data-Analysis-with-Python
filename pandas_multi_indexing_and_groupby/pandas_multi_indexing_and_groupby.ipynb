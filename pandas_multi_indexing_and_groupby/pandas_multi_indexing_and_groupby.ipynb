{
 "cells": [
  {
   "cell_type": "markdown",
   "metadata": {
    "id": "jKoO1rwMYpgu"
   },
   "source": [
    "# 1. IMPORT AND EXPLORE DATASET"
   ]
  },
  {
   "cell_type": "code",
   "execution_count": 2,
   "metadata": {
    "id": "5xYHzxzIX96P"
   },
   "outputs": [],
   "source": [
    "import pandas as pd"
   ]
  },
  {
   "cell_type": "code",
   "execution_count": 2,
   "metadata": {
    "id": "4V9HiClKV0a9"
   },
   "outputs": [
    {
     "data": {
      "text/html": [
       "<div>\n",
       "<style scoped>\n",
       "    .dataframe tbody tr th:only-of-type {\n",
       "        vertical-align: middle;\n",
       "    }\n",
       "\n",
       "    .dataframe tbody tr th {\n",
       "        vertical-align: top;\n",
       "    }\n",
       "\n",
       "    .dataframe thead th {\n",
       "        text-align: right;\n",
       "    }\n",
       "</style>\n",
       "<table border=\"1\" class=\"dataframe\">\n",
       "  <thead>\n",
       "    <tr style=\"text-align: right;\">\n",
       "      <th></th>\n",
       "      <th>InvoiceNo</th>\n",
       "      <th>StockCode</th>\n",
       "      <th>Description</th>\n",
       "      <th>Quantity</th>\n",
       "      <th>InvoiceDate</th>\n",
       "      <th>UnitPrice</th>\n",
       "      <th>CustomerID</th>\n",
       "      <th>Country</th>\n",
       "    </tr>\n",
       "  </thead>\n",
       "  <tbody>\n",
       "    <tr>\n",
       "      <th>0</th>\n",
       "      <td>536365</td>\n",
       "      <td>85123A</td>\n",
       "      <td>WHITE HANGING HEART T-LIGHT HOLDER</td>\n",
       "      <td>6</td>\n",
       "      <td>12/1/2010 8:26</td>\n",
       "      <td>2.55</td>\n",
       "      <td>17850.0</td>\n",
       "      <td>United Kingdom</td>\n",
       "    </tr>\n",
       "    <tr>\n",
       "      <th>1</th>\n",
       "      <td>536365</td>\n",
       "      <td>71053</td>\n",
       "      <td>WHITE METAL LANTERN</td>\n",
       "      <td>6</td>\n",
       "      <td>12/1/2010 8:26</td>\n",
       "      <td>3.39</td>\n",
       "      <td>17850.0</td>\n",
       "      <td>United Kingdom</td>\n",
       "    </tr>\n",
       "    <tr>\n",
       "      <th>2</th>\n",
       "      <td>536365</td>\n",
       "      <td>84406B</td>\n",
       "      <td>CREAM CUPID HEARTS COAT HANGER</td>\n",
       "      <td>8</td>\n",
       "      <td>12/1/2010 8:26</td>\n",
       "      <td>2.75</td>\n",
       "      <td>17850.0</td>\n",
       "      <td>United Kingdom</td>\n",
       "    </tr>\n",
       "    <tr>\n",
       "      <th>3</th>\n",
       "      <td>536365</td>\n",
       "      <td>84029G</td>\n",
       "      <td>KNITTED UNION FLAG HOT WATER BOTTLE</td>\n",
       "      <td>6</td>\n",
       "      <td>12/1/2010 8:26</td>\n",
       "      <td>3.39</td>\n",
       "      <td>17850.0</td>\n",
       "      <td>United Kingdom</td>\n",
       "    </tr>\n",
       "    <tr>\n",
       "      <th>4</th>\n",
       "      <td>536365</td>\n",
       "      <td>84029E</td>\n",
       "      <td>RED WOOLLY HOTTIE WHITE HEART.</td>\n",
       "      <td>6</td>\n",
       "      <td>12/1/2010 8:26</td>\n",
       "      <td>3.39</td>\n",
       "      <td>17850.0</td>\n",
       "      <td>United Kingdom</td>\n",
       "    </tr>\n",
       "    <tr>\n",
       "      <th>...</th>\n",
       "      <td>...</td>\n",
       "      <td>...</td>\n",
       "      <td>...</td>\n",
       "      <td>...</td>\n",
       "      <td>...</td>\n",
       "      <td>...</td>\n",
       "      <td>...</td>\n",
       "      <td>...</td>\n",
       "    </tr>\n",
       "    <tr>\n",
       "      <th>541904</th>\n",
       "      <td>581587</td>\n",
       "      <td>22613</td>\n",
       "      <td>PACK OF 20 SPACEBOY NAPKINS</td>\n",
       "      <td>12</td>\n",
       "      <td>12/9/2011 12:50</td>\n",
       "      <td>0.85</td>\n",
       "      <td>12680.0</td>\n",
       "      <td>France</td>\n",
       "    </tr>\n",
       "    <tr>\n",
       "      <th>541905</th>\n",
       "      <td>581587</td>\n",
       "      <td>22899</td>\n",
       "      <td>CHILDREN'S APRON DOLLY GIRL</td>\n",
       "      <td>6</td>\n",
       "      <td>12/9/2011 12:50</td>\n",
       "      <td>2.10</td>\n",
       "      <td>12680.0</td>\n",
       "      <td>France</td>\n",
       "    </tr>\n",
       "    <tr>\n",
       "      <th>541906</th>\n",
       "      <td>581587</td>\n",
       "      <td>23254</td>\n",
       "      <td>CHILDRENS CUTLERY DOLLY GIRL</td>\n",
       "      <td>4</td>\n",
       "      <td>12/9/2011 12:50</td>\n",
       "      <td>4.15</td>\n",
       "      <td>12680.0</td>\n",
       "      <td>France</td>\n",
       "    </tr>\n",
       "    <tr>\n",
       "      <th>541907</th>\n",
       "      <td>581587</td>\n",
       "      <td>23255</td>\n",
       "      <td>CHILDRENS CUTLERY CIRCUS PARADE</td>\n",
       "      <td>4</td>\n",
       "      <td>12/9/2011 12:50</td>\n",
       "      <td>4.15</td>\n",
       "      <td>12680.0</td>\n",
       "      <td>France</td>\n",
       "    </tr>\n",
       "    <tr>\n",
       "      <th>541908</th>\n",
       "      <td>581587</td>\n",
       "      <td>22138</td>\n",
       "      <td>BAKING SET 9 PIECE RETROSPOT</td>\n",
       "      <td>3</td>\n",
       "      <td>12/9/2011 12:50</td>\n",
       "      <td>4.95</td>\n",
       "      <td>12680.0</td>\n",
       "      <td>France</td>\n",
       "    </tr>\n",
       "  </tbody>\n",
       "</table>\n",
       "<p>541909 rows × 8 columns</p>\n",
       "</div>"
      ],
      "text/plain": [
       "       InvoiceNo StockCode                          Description  Quantity  \\\n",
       "0         536365    85123A   WHITE HANGING HEART T-LIGHT HOLDER         6   \n",
       "1         536365     71053                  WHITE METAL LANTERN         6   \n",
       "2         536365    84406B       CREAM CUPID HEARTS COAT HANGER         8   \n",
       "3         536365    84029G  KNITTED UNION FLAG HOT WATER BOTTLE         6   \n",
       "4         536365    84029E       RED WOOLLY HOTTIE WHITE HEART.         6   \n",
       "...          ...       ...                                  ...       ...   \n",
       "541904    581587     22613          PACK OF 20 SPACEBOY NAPKINS        12   \n",
       "541905    581587     22899         CHILDREN'S APRON DOLLY GIRL          6   \n",
       "541906    581587     23254        CHILDRENS CUTLERY DOLLY GIRL          4   \n",
       "541907    581587     23255      CHILDRENS CUTLERY CIRCUS PARADE         4   \n",
       "541908    581587     22138        BAKING SET 9 PIECE RETROSPOT          3   \n",
       "\n",
       "            InvoiceDate  UnitPrice  CustomerID         Country  \n",
       "0        12/1/2010 8:26       2.55     17850.0  United Kingdom  \n",
       "1        12/1/2010 8:26       3.39     17850.0  United Kingdom  \n",
       "2        12/1/2010 8:26       2.75     17850.0  United Kingdom  \n",
       "3        12/1/2010 8:26       3.39     17850.0  United Kingdom  \n",
       "4        12/1/2010 8:26       3.39     17850.0  United Kingdom  \n",
       "...                 ...        ...         ...             ...  \n",
       "541904  12/9/2011 12:50       0.85     12680.0          France  \n",
       "541905  12/9/2011 12:50       2.10     12680.0          France  \n",
       "541906  12/9/2011 12:50       4.15     12680.0          France  \n",
       "541907  12/9/2011 12:50       4.15     12680.0          France  \n",
       "541908  12/9/2011 12:50       4.95     12680.0          France  \n",
       "\n",
       "[541909 rows x 8 columns]"
      ]
     },
     "execution_count": 2,
     "metadata": {},
     "output_type": "execute_result"
    }
   ],
   "source": [
    "# Import dataset using Pandas\n",
    "# Link to Dataset: https://www.kaggle.com/carrie1/ecommerce-data\n",
    "# Data contains transactions details between 01/12/2010 and 09/12/2011 for a UK-based non-store online retail.\n",
    "# The company specializes in selling unique gifts\n",
    "sales_df = pd.read_csv('ecommerce_sales.csv', encoding='unicode_escape')\n",
    "sales_df"
   ]
  },
  {
   "cell_type": "code",
   "execution_count": 3,
   "metadata": {
    "id": "SUvuMDoaXfmR"
   },
   "outputs": [
    {
     "name": "stdout",
     "output_type": "stream",
     "text": [
      "<class 'pandas.core.frame.DataFrame'>\n",
      "RangeIndex: 541909 entries, 0 to 541908\n",
      "Data columns (total 8 columns):\n",
      " #   Column       Non-Null Count   Dtype  \n",
      "---  ------       --------------   -----  \n",
      " 0   InvoiceNo    541909 non-null  object \n",
      " 1   StockCode    541909 non-null  object \n",
      " 2   Description  540455 non-null  object \n",
      " 3   Quantity     541909 non-null  int64  \n",
      " 4   InvoiceDate  541909 non-null  object \n",
      " 5   UnitPrice    541909 non-null  float64\n",
      " 6   CustomerID   406829 non-null  float64\n",
      " 7   Country      541909 non-null  object \n",
      "dtypes: float64(2), int64(1), object(5)\n",
      "memory usage: 33.1+ MB\n"
     ]
    }
   ],
   "source": [
    "# Let's view the types of data\n",
    "# Note that InvoiceDate is in object format, we will need to convert it into Datetime format\n",
    "sales_df.info()"
   ]
  },
  {
   "cell_type": "code",
   "execution_count": 4,
   "metadata": {
    "id": "3OqZHku_kte7"
   },
   "outputs": [],
   "source": [
    "# Convert Invoice date to datetime format\n",
    "sales_df['InvoiceDate'] = pd.to_datetime(sales_df['InvoiceDate'])"
   ]
  },
  {
   "cell_type": "code",
   "execution_count": 5,
   "metadata": {
    "id": "jeWktbLylF9S"
   },
   "outputs": [
    {
     "name": "stdout",
     "output_type": "stream",
     "text": [
      "<class 'pandas.core.frame.DataFrame'>\n",
      "RangeIndex: 541909 entries, 0 to 541908\n",
      "Data columns (total 8 columns):\n",
      " #   Column       Non-Null Count   Dtype         \n",
      "---  ------       --------------   -----         \n",
      " 0   InvoiceNo    541909 non-null  object        \n",
      " 1   StockCode    541909 non-null  object        \n",
      " 2   Description  540455 non-null  object        \n",
      " 3   Quantity     541909 non-null  int64         \n",
      " 4   InvoiceDate  541909 non-null  datetime64[ns]\n",
      " 5   UnitPrice    541909 non-null  float64       \n",
      " 6   CustomerID   406829 non-null  float64       \n",
      " 7   Country      541909 non-null  object        \n",
      "dtypes: datetime64[ns](1), float64(2), int64(1), object(4)\n",
      "memory usage: 33.1+ MB\n"
     ]
    }
   ],
   "source": [
    "# Check datatype again to confirm!\n",
    "sales_df.info()"
   ]
  },
  {
   "cell_type": "code",
   "execution_count": 6,
   "metadata": {
    "id": "Yjrmrf2zYSz8"
   },
   "outputs": [
    {
     "data": {
      "text/plain": [
       "InvoiceNo           0\n",
       "StockCode           0\n",
       "Description      1454\n",
       "Quantity            0\n",
       "InvoiceDate         0\n",
       "UnitPrice           0\n",
       "CustomerID     135080\n",
       "Country             0\n",
       "dtype: int64"
      ]
     },
     "execution_count": 6,
     "metadata": {},
     "output_type": "execute_result"
    }
   ],
   "source": [
    "# Check the number of Null values in the data\n",
    "sales_df.isnull().sum()"
   ]
  },
  {
   "cell_type": "markdown",
   "metadata": {
    "id": "kHbNxpzHL905"
   },
   "source": [
    "**MINI CHALLENGE #1:**\n",
    "- **How many unique countries are present in the dataset? List all countries**"
   ]
  },
  {
   "cell_type": "code",
   "execution_count": 7,
   "metadata": {
    "id": "C2nvW606MWwc"
   },
   "outputs": [
    {
     "data": {
      "text/plain": [
       "array(['United Kingdom', 'France', 'Australia', 'Netherlands', 'Germany',\n",
       "       'Norway', 'EIRE', 'Switzerland', 'Spain', 'Poland', 'Portugal',\n",
       "       'Italy', 'Belgium', 'Lithuania', 'Japan', 'Iceland',\n",
       "       'Channel Islands', 'Denmark', 'Cyprus', 'Sweden', 'Austria',\n",
       "       'Israel', 'Finland', 'Bahrain', 'Greece', 'Hong Kong', 'Singapore',\n",
       "       'Lebanon', 'United Arab Emirates', 'Saudi Arabia',\n",
       "       'Czech Republic', 'Canada', 'Unspecified', 'Brazil', 'USA',\n",
       "       'European Community', 'Malta', 'RSA'], dtype=object)"
      ]
     },
     "execution_count": 7,
     "metadata": {},
     "output_type": "execute_result"
    }
   ],
   "source": [
    "sales_df['Country'].unique()"
   ]
  },
  {
   "cell_type": "code",
   "execution_count": 8,
   "metadata": {},
   "outputs": [
    {
     "data": {
      "text/plain": [
       "InvoiceNo      25900\n",
       "StockCode       4070\n",
       "Description     4223\n",
       "Quantity         722\n",
       "InvoiceDate    23260\n",
       "UnitPrice       1630\n",
       "CustomerID      4372\n",
       "Country           38\n",
       "dtype: int64"
      ]
     },
     "execution_count": 8,
     "metadata": {},
     "output_type": "execute_result"
    }
   ],
   "source": [
    "sales_df.nunique()"
   ]
  },
  {
   "cell_type": "markdown",
   "metadata": {
    "id": "GvntzUsa2q9n"
   },
   "source": [
    "# 2. GROUPBY"
   ]
  },
  {
   "cell_type": "code",
   "execution_count": 9,
   "metadata": {
    "id": "Q6ECCoVR2trv"
   },
   "outputs": [
    {
     "data": {
      "text/html": [
       "<div>\n",
       "<style scoped>\n",
       "    .dataframe tbody tr th:only-of-type {\n",
       "        vertical-align: middle;\n",
       "    }\n",
       "\n",
       "    .dataframe tbody tr th {\n",
       "        vertical-align: top;\n",
       "    }\n",
       "\n",
       "    .dataframe thead th {\n",
       "        text-align: right;\n",
       "    }\n",
       "</style>\n",
       "<table border=\"1\" class=\"dataframe\">\n",
       "  <thead>\n",
       "    <tr style=\"text-align: right;\">\n",
       "      <th></th>\n",
       "      <th>InvoiceNo</th>\n",
       "      <th>StockCode</th>\n",
       "      <th>Description</th>\n",
       "      <th>Quantity</th>\n",
       "      <th>InvoiceDate</th>\n",
       "      <th>UnitPrice</th>\n",
       "      <th>CustomerID</th>\n",
       "      <th>Country</th>\n",
       "    </tr>\n",
       "  </thead>\n",
       "  <tbody>\n",
       "    <tr>\n",
       "      <th>0</th>\n",
       "      <td>536365</td>\n",
       "      <td>85123A</td>\n",
       "      <td>WHITE HANGING HEART T-LIGHT HOLDER</td>\n",
       "      <td>6</td>\n",
       "      <td>2010-12-01 08:26:00</td>\n",
       "      <td>2.55</td>\n",
       "      <td>17850.0</td>\n",
       "      <td>United Kingdom</td>\n",
       "    </tr>\n",
       "    <tr>\n",
       "      <th>1</th>\n",
       "      <td>536365</td>\n",
       "      <td>71053</td>\n",
       "      <td>WHITE METAL LANTERN</td>\n",
       "      <td>6</td>\n",
       "      <td>2010-12-01 08:26:00</td>\n",
       "      <td>3.39</td>\n",
       "      <td>17850.0</td>\n",
       "      <td>United Kingdom</td>\n",
       "    </tr>\n",
       "    <tr>\n",
       "      <th>2</th>\n",
       "      <td>536365</td>\n",
       "      <td>84406B</td>\n",
       "      <td>CREAM CUPID HEARTS COAT HANGER</td>\n",
       "      <td>8</td>\n",
       "      <td>2010-12-01 08:26:00</td>\n",
       "      <td>2.75</td>\n",
       "      <td>17850.0</td>\n",
       "      <td>United Kingdom</td>\n",
       "    </tr>\n",
       "    <tr>\n",
       "      <th>3</th>\n",
       "      <td>536365</td>\n",
       "      <td>84029G</td>\n",
       "      <td>KNITTED UNION FLAG HOT WATER BOTTLE</td>\n",
       "      <td>6</td>\n",
       "      <td>2010-12-01 08:26:00</td>\n",
       "      <td>3.39</td>\n",
       "      <td>17850.0</td>\n",
       "      <td>United Kingdom</td>\n",
       "    </tr>\n",
       "    <tr>\n",
       "      <th>4</th>\n",
       "      <td>536365</td>\n",
       "      <td>84029E</td>\n",
       "      <td>RED WOOLLY HOTTIE WHITE HEART.</td>\n",
       "      <td>6</td>\n",
       "      <td>2010-12-01 08:26:00</td>\n",
       "      <td>3.39</td>\n",
       "      <td>17850.0</td>\n",
       "      <td>United Kingdom</td>\n",
       "    </tr>\n",
       "    <tr>\n",
       "      <th>...</th>\n",
       "      <td>...</td>\n",
       "      <td>...</td>\n",
       "      <td>...</td>\n",
       "      <td>...</td>\n",
       "      <td>...</td>\n",
       "      <td>...</td>\n",
       "      <td>...</td>\n",
       "      <td>...</td>\n",
       "    </tr>\n",
       "    <tr>\n",
       "      <th>541904</th>\n",
       "      <td>581587</td>\n",
       "      <td>22613</td>\n",
       "      <td>PACK OF 20 SPACEBOY NAPKINS</td>\n",
       "      <td>12</td>\n",
       "      <td>2011-12-09 12:50:00</td>\n",
       "      <td>0.85</td>\n",
       "      <td>12680.0</td>\n",
       "      <td>France</td>\n",
       "    </tr>\n",
       "    <tr>\n",
       "      <th>541905</th>\n",
       "      <td>581587</td>\n",
       "      <td>22899</td>\n",
       "      <td>CHILDREN'S APRON DOLLY GIRL</td>\n",
       "      <td>6</td>\n",
       "      <td>2011-12-09 12:50:00</td>\n",
       "      <td>2.10</td>\n",
       "      <td>12680.0</td>\n",
       "      <td>France</td>\n",
       "    </tr>\n",
       "    <tr>\n",
       "      <th>541906</th>\n",
       "      <td>581587</td>\n",
       "      <td>23254</td>\n",
       "      <td>CHILDRENS CUTLERY DOLLY GIRL</td>\n",
       "      <td>4</td>\n",
       "      <td>2011-12-09 12:50:00</td>\n",
       "      <td>4.15</td>\n",
       "      <td>12680.0</td>\n",
       "      <td>France</td>\n",
       "    </tr>\n",
       "    <tr>\n",
       "      <th>541907</th>\n",
       "      <td>581587</td>\n",
       "      <td>23255</td>\n",
       "      <td>CHILDRENS CUTLERY CIRCUS PARADE</td>\n",
       "      <td>4</td>\n",
       "      <td>2011-12-09 12:50:00</td>\n",
       "      <td>4.15</td>\n",
       "      <td>12680.0</td>\n",
       "      <td>France</td>\n",
       "    </tr>\n",
       "    <tr>\n",
       "      <th>541908</th>\n",
       "      <td>581587</td>\n",
       "      <td>22138</td>\n",
       "      <td>BAKING SET 9 PIECE RETROSPOT</td>\n",
       "      <td>3</td>\n",
       "      <td>2011-12-09 12:50:00</td>\n",
       "      <td>4.95</td>\n",
       "      <td>12680.0</td>\n",
       "      <td>France</td>\n",
       "    </tr>\n",
       "  </tbody>\n",
       "</table>\n",
       "<p>541909 rows × 8 columns</p>\n",
       "</div>"
      ],
      "text/plain": [
       "       InvoiceNo StockCode                          Description  Quantity  \\\n",
       "0         536365    85123A   WHITE HANGING HEART T-LIGHT HOLDER         6   \n",
       "1         536365     71053                  WHITE METAL LANTERN         6   \n",
       "2         536365    84406B       CREAM CUPID HEARTS COAT HANGER         8   \n",
       "3         536365    84029G  KNITTED UNION FLAG HOT WATER BOTTLE         6   \n",
       "4         536365    84029E       RED WOOLLY HOTTIE WHITE HEART.         6   \n",
       "...          ...       ...                                  ...       ...   \n",
       "541904    581587     22613          PACK OF 20 SPACEBOY NAPKINS        12   \n",
       "541905    581587     22899         CHILDREN'S APRON DOLLY GIRL          6   \n",
       "541906    581587     23254        CHILDRENS CUTLERY DOLLY GIRL          4   \n",
       "541907    581587     23255      CHILDRENS CUTLERY CIRCUS PARADE         4   \n",
       "541908    581587     22138        BAKING SET 9 PIECE RETROSPOT          3   \n",
       "\n",
       "               InvoiceDate  UnitPrice  CustomerID         Country  \n",
       "0      2010-12-01 08:26:00       2.55     17850.0  United Kingdom  \n",
       "1      2010-12-01 08:26:00       3.39     17850.0  United Kingdom  \n",
       "2      2010-12-01 08:26:00       2.75     17850.0  United Kingdom  \n",
       "3      2010-12-01 08:26:00       3.39     17850.0  United Kingdom  \n",
       "4      2010-12-01 08:26:00       3.39     17850.0  United Kingdom  \n",
       "...                    ...        ...         ...             ...  \n",
       "541904 2011-12-09 12:50:00       0.85     12680.0          France  \n",
       "541905 2011-12-09 12:50:00       2.10     12680.0          France  \n",
       "541906 2011-12-09 12:50:00       4.15     12680.0          France  \n",
       "541907 2011-12-09 12:50:00       4.15     12680.0          France  \n",
       "541908 2011-12-09 12:50:00       4.95     12680.0          France  \n",
       "\n",
       "[541909 rows x 8 columns]"
      ]
     },
     "execution_count": 9,
     "metadata": {},
     "output_type": "execute_result"
    }
   ],
   "source": [
    "sales_df"
   ]
  },
  {
   "cell_type": "code",
   "execution_count": 10,
   "metadata": {
    "id": "L-ouZdVz2tvb"
   },
   "outputs": [
    {
     "data": {
      "text/plain": [
       "Country\n",
       "Australia                 3.220612\n",
       "Austria                   4.243192\n",
       "Bahrain                   4.556316\n",
       "Belgium                   3.644335\n",
       "Brazil                    4.456250\n",
       "Canada                    6.030331\n",
       "Channel Islands           4.932124\n",
       "Cyprus                    6.302363\n",
       "Czech Republic            2.938333\n",
       "Denmark                   3.256941\n",
       "EIRE                      5.911077\n",
       "European Community        4.820492\n",
       "Finland                   5.448705\n",
       "France                    5.028864\n",
       "Germany                   3.966930\n",
       "Greece                    4.885548\n",
       "Hong Kong                42.505208\n",
       "Iceland                   2.644011\n",
       "Israel                    3.633131\n",
       "Italy                     4.831121\n",
       "Japan                     2.276145\n",
       "Lebanon                   5.387556\n",
       "Lithuania                 2.841143\n",
       "Malta                     5.244173\n",
       "Netherlands               2.738317\n",
       "Norway                    6.012026\n",
       "Poland                    4.170880\n",
       "Portugal                  8.582976\n",
       "RSA                       4.277586\n",
       "Saudi Arabia              2.411000\n",
       "Singapore               109.645808\n",
       "Spain                     4.987544\n",
       "Sweden                    3.910887\n",
       "Switzerland               3.403442\n",
       "USA                       2.216426\n",
       "United Arab Emirates      3.380735\n",
       "United Kingdom            4.532422\n",
       "Unspecified               2.699574\n",
       "Name: UnitPrice, dtype: float64"
      ]
     },
     "execution_count": 10,
     "metadata": {},
     "output_type": "execute_result"
    }
   ],
   "source": [
    "# A groupby operation involves some combination of splitting the object, applying a function, and combining the results. \n",
    "# This can be used to group large amounts of data and compute operations on these groups.\n",
    "# Link: https://pandas.pydata.org/pandas-docs/stable/reference/api/pandas.DataFrame.groupby.html\n",
    "sales_df.groupby('Country')['UnitPrice'].mean()"
   ]
  },
  {
   "cell_type": "code",
   "execution_count": 11,
   "metadata": {
    "id": "Den792Gf2tx1"
   },
   "outputs": [
    {
     "data": {
      "text/plain": [
       "Country\n",
       "Australia                   0.00\n",
       "Austria                     0.12\n",
       "Bahrain                     1.25\n",
       "Belgium                     0.12\n",
       "Brazil                      0.85\n",
       "Canada                      0.10\n",
       "Channel Islands             0.19\n",
       "Cyprus                      0.12\n",
       "Czech Republic              0.29\n",
       "Denmark                     0.21\n",
       "EIRE                        0.00\n",
       "European Community          0.55\n",
       "Finland                     0.12\n",
       "France                      0.00\n",
       "Germany                     0.00\n",
       "Greece                      0.14\n",
       "Hong Kong                   0.21\n",
       "Iceland                     0.25\n",
       "Israel                      0.06\n",
       "Italy                       0.12\n",
       "Japan                       0.21\n",
       "Lebanon                     0.55\n",
       "Lithuania                   1.25\n",
       "Malta                       0.19\n",
       "Netherlands                 0.00\n",
       "Norway                      0.00\n",
       "Poland                      0.19\n",
       "Portugal                    0.12\n",
       "RSA                         0.00\n",
       "Saudi Arabia                0.42\n",
       "Singapore                   0.19\n",
       "Spain                       0.00\n",
       "Sweden                      0.19\n",
       "Switzerland                 0.00\n",
       "USA                         0.42\n",
       "United Arab Emirates        0.29\n",
       "United Kingdom         -11062.06\n",
       "Unspecified                 0.19\n",
       "Name: UnitPrice, dtype: float64"
      ]
     },
     "execution_count": 11,
     "metadata": {},
     "output_type": "execute_result"
    }
   ],
   "source": [
    "sales_df.groupby('Country')['UnitPrice'].min()"
   ]
  },
  {
   "cell_type": "code",
   "execution_count": 12,
   "metadata": {
    "id": "ppqf8-XB2t0i"
   },
   "outputs": [
    {
     "data": {
      "text/plain": [
       "Country\n",
       "Australia                 350.00\n",
       "Austria                    40.00\n",
       "Bahrain                    12.75\n",
       "Belgium                    39.95\n",
       "Brazil                     10.95\n",
       "Canada                    550.94\n",
       "Channel Islands           293.00\n",
       "Cyprus                    320.69\n",
       "Czech Republic             40.00\n",
       "Denmark                    18.00\n",
       "EIRE                     1917.00\n",
       "European Community         18.00\n",
       "Finland                   275.60\n",
       "France                   4161.06\n",
       "Germany                   599.50\n",
       "Greece                     50.00\n",
       "Hong Kong                2653.95\n",
       "Iceland                    12.75\n",
       "Israel                    125.00\n",
       "Italy                     300.00\n",
       "Japan                      45.57\n",
       "Lebanon                    14.95\n",
       "Lithuania                   5.95\n",
       "Malta                      65.00\n",
       "Netherlands               206.40\n",
       "Norway                    700.00\n",
       "Poland                     40.00\n",
       "Portugal                 1241.98\n",
       "RSA                        14.95\n",
       "Saudi Arabia                5.49\n",
       "Singapore                3949.32\n",
       "Spain                    1715.85\n",
       "Sweden                     40.00\n",
       "Switzerland                40.00\n",
       "USA                        16.95\n",
       "United Arab Emirates       37.50\n",
       "United Kingdom          38970.00\n",
       "Unspecified                16.95\n",
       "Name: UnitPrice, dtype: float64"
      ]
     },
     "execution_count": 12,
     "metadata": {},
     "output_type": "execute_result"
    }
   ],
   "source": [
    "sales_df.groupby('Country')['UnitPrice'].max()"
   ]
  },
  {
   "cell_type": "code",
   "execution_count": 13,
   "metadata": {
    "id": "TFGRhpKb41i6"
   },
   "outputs": [
    {
     "data": {
      "text/plain": [
       "InvoiceDate\n",
       "2010-12-01 08:26:00    3.910000\n",
       "2010-12-01 08:28:00    1.850000\n",
       "2010-12-01 08:34:00    4.833750\n",
       "2010-12-01 08:35:00    5.950000\n",
       "2010-12-01 08:45:00    2.764500\n",
       "                         ...   \n",
       "2011-12-09 12:23:00    1.650000\n",
       "2011-12-09 12:25:00    1.285000\n",
       "2011-12-09 12:31:00    1.799048\n",
       "2011-12-09 12:49:00    5.057500\n",
       "2011-12-09 12:50:00    2.966667\n",
       "Name: UnitPrice, Length: 23260, dtype: float64"
      ]
     },
     "execution_count": 13,
     "metadata": {},
     "output_type": "execute_result"
    }
   ],
   "source": [
    "sales_df.groupby('InvoiceDate')['UnitPrice'].mean()"
   ]
  },
  {
   "cell_type": "code",
   "execution_count": 14,
   "metadata": {
    "id": "EjDRIhPo2t29"
   },
   "outputs": [
    {
     "data": {
      "text/plain": [
       "Country      InvoiceDate        \n",
       "Australia    2010-12-01 10:03:00    5.278571\n",
       "             2010-12-08 09:53:00    2.726250\n",
       "             2010-12-14 11:12:00    4.283333\n",
       "             2010-12-17 14:10:00    3.510000\n",
       "             2011-01-06 11:12:00    1.871304\n",
       "                                      ...   \n",
       "Unspecified  2011-08-22 10:18:00    2.381429\n",
       "             2011-08-22 13:32:00    8.115000\n",
       "             2011-09-02 12:17:00    1.642879\n",
       "             2011-11-16 10:18:00    2.339474\n",
       "             2011-11-24 14:55:00    2.107353\n",
       "Name: UnitPrice, Length: 23616, dtype: float64"
      ]
     },
     "execution_count": 14,
     "metadata": {},
     "output_type": "execute_result"
    }
   ],
   "source": [
    "sales_df.groupby(['Country', 'InvoiceDate'])['UnitPrice'].mean()"
   ]
  },
  {
   "cell_type": "code",
   "execution_count": null,
   "metadata": {
    "id": "5cE53P4w2t5Y"
   },
   "outputs": [],
   "source": []
  },
  {
   "cell_type": "markdown",
   "metadata": {
    "id": "KftQG_rRRa2b"
   },
   "source": [
    "**MINI CHALLENGE #2:**\n",
    "- **What is the average, maximum and minimum prices on 2010-12-01 08:34:00**"
   ]
  },
  {
   "cell_type": "code",
   "execution_count": 15,
   "metadata": {
    "id": "uzp16oavUjL-"
   },
   "outputs": [
    {
     "data": {
      "text/plain": [
       "InvoiceDate\n",
       "2010-12-01 08:26:00    2.55\n",
       "2010-12-01 08:28:00    1.85\n",
       "2010-12-01 08:34:00    1.65\n",
       "2010-12-01 08:35:00    5.95\n",
       "2010-12-01 08:45:00    0.42\n",
       "                       ... \n",
       "2011-12-09 12:23:00    1.45\n",
       "2011-12-09 12:25:00    0.72\n",
       "2011-12-09 12:31:00    0.19\n",
       "2011-12-09 12:49:00    1.25\n",
       "2011-12-09 12:50:00    0.85\n",
       "Name: UnitPrice, Length: 23260, dtype: float64"
      ]
     },
     "execution_count": 15,
     "metadata": {},
     "output_type": "execute_result"
    }
   ],
   "source": [
    "sales_df.groupby('InvoiceDate')['UnitPrice'].min()"
   ]
  },
  {
   "cell_type": "code",
   "execution_count": 16,
   "metadata": {},
   "outputs": [
    {
     "data": {
      "text/plain": [
       "InvoiceDate\n",
       "2010-12-01 08:26:00     7.65\n",
       "2010-12-01 08:28:00     1.85\n",
       "2010-12-01 08:34:00     9.95\n",
       "2010-12-01 08:35:00     5.95\n",
       "2010-12-01 08:45:00    18.00\n",
       "                       ...  \n",
       "2011-12-09 12:23:00     1.85\n",
       "2011-12-09 12:25:00     1.85\n",
       "2011-12-09 12:31:00     5.95\n",
       "2011-12-09 12:49:00     8.95\n",
       "2011-12-09 12:50:00     4.95\n",
       "Name: UnitPrice, Length: 23260, dtype: float64"
      ]
     },
     "execution_count": 16,
     "metadata": {},
     "output_type": "execute_result"
    }
   ],
   "source": [
    "sales_df.groupby('InvoiceDate')['UnitPrice'].max()"
   ]
  },
  {
   "cell_type": "code",
   "execution_count": 17,
   "metadata": {},
   "outputs": [
    {
     "data": {
      "text/plain": [
       "InvoiceDate\n",
       "2010-12-01 08:26:00    3.910000\n",
       "2010-12-01 08:28:00    1.850000\n",
       "2010-12-01 08:34:00    4.833750\n",
       "2010-12-01 08:35:00    5.950000\n",
       "2010-12-01 08:45:00    2.764500\n",
       "                         ...   \n",
       "2011-12-09 12:23:00    1.650000\n",
       "2011-12-09 12:25:00    1.285000\n",
       "2011-12-09 12:31:00    1.799048\n",
       "2011-12-09 12:49:00    5.057500\n",
       "2011-12-09 12:50:00    2.966667\n",
       "Name: UnitPrice, Length: 23260, dtype: float64"
      ]
     },
     "execution_count": 17,
     "metadata": {},
     "output_type": "execute_result"
    }
   ],
   "source": [
    "sales_df.groupby('InvoiceDate')['UnitPrice'].mean()"
   ]
  },
  {
   "cell_type": "markdown",
   "metadata": {
    "id": "Skt-35zeYyDl"
   },
   "source": [
    "# 3. CREATE MULTI-INDEX DATAFRAME"
   ]
  },
  {
   "cell_type": "code",
   "execution_count": 3,
   "metadata": {
    "id": "SouGsc0BY25T"
   },
   "outputs": [
    {
     "data": {
      "text/html": [
       "<div>\n",
       "<style scoped>\n",
       "    .dataframe tbody tr th:only-of-type {\n",
       "        vertical-align: middle;\n",
       "    }\n",
       "\n",
       "    .dataframe tbody tr th {\n",
       "        vertical-align: top;\n",
       "    }\n",
       "\n",
       "    .dataframe thead th {\n",
       "        text-align: right;\n",
       "    }\n",
       "</style>\n",
       "<table border=\"1\" class=\"dataframe\">\n",
       "  <thead>\n",
       "    <tr style=\"text-align: right;\">\n",
       "      <th></th>\n",
       "      <th>InvoiceNo</th>\n",
       "      <th>StockCode</th>\n",
       "      <th>Description</th>\n",
       "      <th>Quantity</th>\n",
       "      <th>InvoiceDate</th>\n",
       "      <th>UnitPrice</th>\n",
       "      <th>CustomerID</th>\n",
       "      <th>Country</th>\n",
       "    </tr>\n",
       "  </thead>\n",
       "  <tbody>\n",
       "    <tr>\n",
       "      <th>0</th>\n",
       "      <td>536365</td>\n",
       "      <td>85123A</td>\n",
       "      <td>WHITE HANGING HEART T-LIGHT HOLDER</td>\n",
       "      <td>6</td>\n",
       "      <td>12/1/2010 8:26</td>\n",
       "      <td>2.55</td>\n",
       "      <td>17850.0</td>\n",
       "      <td>United Kingdom</td>\n",
       "    </tr>\n",
       "    <tr>\n",
       "      <th>1</th>\n",
       "      <td>536365</td>\n",
       "      <td>71053</td>\n",
       "      <td>WHITE METAL LANTERN</td>\n",
       "      <td>6</td>\n",
       "      <td>12/1/2010 8:26</td>\n",
       "      <td>3.39</td>\n",
       "      <td>17850.0</td>\n",
       "      <td>United Kingdom</td>\n",
       "    </tr>\n",
       "    <tr>\n",
       "      <th>2</th>\n",
       "      <td>536365</td>\n",
       "      <td>84406B</td>\n",
       "      <td>CREAM CUPID HEARTS COAT HANGER</td>\n",
       "      <td>8</td>\n",
       "      <td>12/1/2010 8:26</td>\n",
       "      <td>2.75</td>\n",
       "      <td>17850.0</td>\n",
       "      <td>United Kingdom</td>\n",
       "    </tr>\n",
       "    <tr>\n",
       "      <th>3</th>\n",
       "      <td>536365</td>\n",
       "      <td>84029G</td>\n",
       "      <td>KNITTED UNION FLAG HOT WATER BOTTLE</td>\n",
       "      <td>6</td>\n",
       "      <td>12/1/2010 8:26</td>\n",
       "      <td>3.39</td>\n",
       "      <td>17850.0</td>\n",
       "      <td>United Kingdom</td>\n",
       "    </tr>\n",
       "    <tr>\n",
       "      <th>4</th>\n",
       "      <td>536365</td>\n",
       "      <td>84029E</td>\n",
       "      <td>RED WOOLLY HOTTIE WHITE HEART.</td>\n",
       "      <td>6</td>\n",
       "      <td>12/1/2010 8:26</td>\n",
       "      <td>3.39</td>\n",
       "      <td>17850.0</td>\n",
       "      <td>United Kingdom</td>\n",
       "    </tr>\n",
       "    <tr>\n",
       "      <th>...</th>\n",
       "      <td>...</td>\n",
       "      <td>...</td>\n",
       "      <td>...</td>\n",
       "      <td>...</td>\n",
       "      <td>...</td>\n",
       "      <td>...</td>\n",
       "      <td>...</td>\n",
       "      <td>...</td>\n",
       "    </tr>\n",
       "    <tr>\n",
       "      <th>541904</th>\n",
       "      <td>581587</td>\n",
       "      <td>22613</td>\n",
       "      <td>PACK OF 20 SPACEBOY NAPKINS</td>\n",
       "      <td>12</td>\n",
       "      <td>12/9/2011 12:50</td>\n",
       "      <td>0.85</td>\n",
       "      <td>12680.0</td>\n",
       "      <td>France</td>\n",
       "    </tr>\n",
       "    <tr>\n",
       "      <th>541905</th>\n",
       "      <td>581587</td>\n",
       "      <td>22899</td>\n",
       "      <td>CHILDREN'S APRON DOLLY GIRL</td>\n",
       "      <td>6</td>\n",
       "      <td>12/9/2011 12:50</td>\n",
       "      <td>2.10</td>\n",
       "      <td>12680.0</td>\n",
       "      <td>France</td>\n",
       "    </tr>\n",
       "    <tr>\n",
       "      <th>541906</th>\n",
       "      <td>581587</td>\n",
       "      <td>23254</td>\n",
       "      <td>CHILDRENS CUTLERY DOLLY GIRL</td>\n",
       "      <td>4</td>\n",
       "      <td>12/9/2011 12:50</td>\n",
       "      <td>4.15</td>\n",
       "      <td>12680.0</td>\n",
       "      <td>France</td>\n",
       "    </tr>\n",
       "    <tr>\n",
       "      <th>541907</th>\n",
       "      <td>581587</td>\n",
       "      <td>23255</td>\n",
       "      <td>CHILDRENS CUTLERY CIRCUS PARADE</td>\n",
       "      <td>4</td>\n",
       "      <td>12/9/2011 12:50</td>\n",
       "      <td>4.15</td>\n",
       "      <td>12680.0</td>\n",
       "      <td>France</td>\n",
       "    </tr>\n",
       "    <tr>\n",
       "      <th>541908</th>\n",
       "      <td>581587</td>\n",
       "      <td>22138</td>\n",
       "      <td>BAKING SET 9 PIECE RETROSPOT</td>\n",
       "      <td>3</td>\n",
       "      <td>12/9/2011 12:50</td>\n",
       "      <td>4.95</td>\n",
       "      <td>12680.0</td>\n",
       "      <td>France</td>\n",
       "    </tr>\n",
       "  </tbody>\n",
       "</table>\n",
       "<p>541909 rows × 8 columns</p>\n",
       "</div>"
      ],
      "text/plain": [
       "       InvoiceNo StockCode                          Description  Quantity  \\\n",
       "0         536365    85123A   WHITE HANGING HEART T-LIGHT HOLDER         6   \n",
       "1         536365     71053                  WHITE METAL LANTERN         6   \n",
       "2         536365    84406B       CREAM CUPID HEARTS COAT HANGER         8   \n",
       "3         536365    84029G  KNITTED UNION FLAG HOT WATER BOTTLE         6   \n",
       "4         536365    84029E       RED WOOLLY HOTTIE WHITE HEART.         6   \n",
       "...          ...       ...                                  ...       ...   \n",
       "541904    581587     22613          PACK OF 20 SPACEBOY NAPKINS        12   \n",
       "541905    581587     22899         CHILDREN'S APRON DOLLY GIRL          6   \n",
       "541906    581587     23254        CHILDRENS CUTLERY DOLLY GIRL          4   \n",
       "541907    581587     23255      CHILDRENS CUTLERY CIRCUS PARADE         4   \n",
       "541908    581587     22138        BAKING SET 9 PIECE RETROSPOT          3   \n",
       "\n",
       "            InvoiceDate  UnitPrice  CustomerID         Country  \n",
       "0        12/1/2010 8:26       2.55     17850.0  United Kingdom  \n",
       "1        12/1/2010 8:26       3.39     17850.0  United Kingdom  \n",
       "2        12/1/2010 8:26       2.75     17850.0  United Kingdom  \n",
       "3        12/1/2010 8:26       3.39     17850.0  United Kingdom  \n",
       "4        12/1/2010 8:26       3.39     17850.0  United Kingdom  \n",
       "...                 ...        ...         ...             ...  \n",
       "541904  12/9/2011 12:50       0.85     12680.0          France  \n",
       "541905  12/9/2011 12:50       2.10     12680.0          France  \n",
       "541906  12/9/2011 12:50       4.15     12680.0          France  \n",
       "541907  12/9/2011 12:50       4.15     12680.0          France  \n",
       "541908  12/9/2011 12:50       4.95     12680.0          France  \n",
       "\n",
       "[541909 rows x 8 columns]"
      ]
     },
     "execution_count": 3,
     "metadata": {},
     "output_type": "execute_result"
    }
   ],
   "source": [
    "sales_df = pd.read_csv('ecommerce_sales.csv', encoding='unicode_escape')\n",
    "sales_df"
   ]
  },
  {
   "cell_type": "code",
   "execution_count": 4,
   "metadata": {
    "id": "a2Y6U6VlY27-"
   },
   "outputs": [
    {
     "data": {
      "text/html": [
       "<div>\n",
       "<style scoped>\n",
       "    .dataframe tbody tr th:only-of-type {\n",
       "        vertical-align: middle;\n",
       "    }\n",
       "\n",
       "    .dataframe tbody tr th {\n",
       "        vertical-align: top;\n",
       "    }\n",
       "\n",
       "    .dataframe thead th {\n",
       "        text-align: right;\n",
       "    }\n",
       "</style>\n",
       "<table border=\"1\" class=\"dataframe\">\n",
       "  <thead>\n",
       "    <tr style=\"text-align: right;\">\n",
       "      <th></th>\n",
       "      <th>InvoiceNo</th>\n",
       "      <th>StockCode</th>\n",
       "      <th>Description</th>\n",
       "      <th>Quantity</th>\n",
       "      <th>UnitPrice</th>\n",
       "      <th>CustomerID</th>\n",
       "      <th>Country</th>\n",
       "    </tr>\n",
       "    <tr>\n",
       "      <th>InvoiceDate</th>\n",
       "      <th></th>\n",
       "      <th></th>\n",
       "      <th></th>\n",
       "      <th></th>\n",
       "      <th></th>\n",
       "      <th></th>\n",
       "      <th></th>\n",
       "    </tr>\n",
       "  </thead>\n",
       "  <tbody>\n",
       "    <tr>\n",
       "      <th>12/1/2010 8:26</th>\n",
       "      <td>536365</td>\n",
       "      <td>85123A</td>\n",
       "      <td>WHITE HANGING HEART T-LIGHT HOLDER</td>\n",
       "      <td>6</td>\n",
       "      <td>2.55</td>\n",
       "      <td>17850.0</td>\n",
       "      <td>United Kingdom</td>\n",
       "    </tr>\n",
       "    <tr>\n",
       "      <th>12/1/2010 8:26</th>\n",
       "      <td>536365</td>\n",
       "      <td>71053</td>\n",
       "      <td>WHITE METAL LANTERN</td>\n",
       "      <td>6</td>\n",
       "      <td>3.39</td>\n",
       "      <td>17850.0</td>\n",
       "      <td>United Kingdom</td>\n",
       "    </tr>\n",
       "    <tr>\n",
       "      <th>12/1/2010 8:26</th>\n",
       "      <td>536365</td>\n",
       "      <td>84406B</td>\n",
       "      <td>CREAM CUPID HEARTS COAT HANGER</td>\n",
       "      <td>8</td>\n",
       "      <td>2.75</td>\n",
       "      <td>17850.0</td>\n",
       "      <td>United Kingdom</td>\n",
       "    </tr>\n",
       "    <tr>\n",
       "      <th>12/1/2010 8:26</th>\n",
       "      <td>536365</td>\n",
       "      <td>84029G</td>\n",
       "      <td>KNITTED UNION FLAG HOT WATER BOTTLE</td>\n",
       "      <td>6</td>\n",
       "      <td>3.39</td>\n",
       "      <td>17850.0</td>\n",
       "      <td>United Kingdom</td>\n",
       "    </tr>\n",
       "    <tr>\n",
       "      <th>12/1/2010 8:26</th>\n",
       "      <td>536365</td>\n",
       "      <td>84029E</td>\n",
       "      <td>RED WOOLLY HOTTIE WHITE HEART.</td>\n",
       "      <td>6</td>\n",
       "      <td>3.39</td>\n",
       "      <td>17850.0</td>\n",
       "      <td>United Kingdom</td>\n",
       "    </tr>\n",
       "    <tr>\n",
       "      <th>...</th>\n",
       "      <td>...</td>\n",
       "      <td>...</td>\n",
       "      <td>...</td>\n",
       "      <td>...</td>\n",
       "      <td>...</td>\n",
       "      <td>...</td>\n",
       "      <td>...</td>\n",
       "    </tr>\n",
       "    <tr>\n",
       "      <th>12/9/2011 12:50</th>\n",
       "      <td>581587</td>\n",
       "      <td>22613</td>\n",
       "      <td>PACK OF 20 SPACEBOY NAPKINS</td>\n",
       "      <td>12</td>\n",
       "      <td>0.85</td>\n",
       "      <td>12680.0</td>\n",
       "      <td>France</td>\n",
       "    </tr>\n",
       "    <tr>\n",
       "      <th>12/9/2011 12:50</th>\n",
       "      <td>581587</td>\n",
       "      <td>22899</td>\n",
       "      <td>CHILDREN'S APRON DOLLY GIRL</td>\n",
       "      <td>6</td>\n",
       "      <td>2.10</td>\n",
       "      <td>12680.0</td>\n",
       "      <td>France</td>\n",
       "    </tr>\n",
       "    <tr>\n",
       "      <th>12/9/2011 12:50</th>\n",
       "      <td>581587</td>\n",
       "      <td>23254</td>\n",
       "      <td>CHILDRENS CUTLERY DOLLY GIRL</td>\n",
       "      <td>4</td>\n",
       "      <td>4.15</td>\n",
       "      <td>12680.0</td>\n",
       "      <td>France</td>\n",
       "    </tr>\n",
       "    <tr>\n",
       "      <th>12/9/2011 12:50</th>\n",
       "      <td>581587</td>\n",
       "      <td>23255</td>\n",
       "      <td>CHILDRENS CUTLERY CIRCUS PARADE</td>\n",
       "      <td>4</td>\n",
       "      <td>4.15</td>\n",
       "      <td>12680.0</td>\n",
       "      <td>France</td>\n",
       "    </tr>\n",
       "    <tr>\n",
       "      <th>12/9/2011 12:50</th>\n",
       "      <td>581587</td>\n",
       "      <td>22138</td>\n",
       "      <td>BAKING SET 9 PIECE RETROSPOT</td>\n",
       "      <td>3</td>\n",
       "      <td>4.95</td>\n",
       "      <td>12680.0</td>\n",
       "      <td>France</td>\n",
       "    </tr>\n",
       "  </tbody>\n",
       "</table>\n",
       "<p>541909 rows × 7 columns</p>\n",
       "</div>"
      ],
      "text/plain": [
       "                InvoiceNo StockCode                          Description  \\\n",
       "InvoiceDate                                                                \n",
       "12/1/2010 8:26     536365    85123A   WHITE HANGING HEART T-LIGHT HOLDER   \n",
       "12/1/2010 8:26     536365     71053                  WHITE METAL LANTERN   \n",
       "12/1/2010 8:26     536365    84406B       CREAM CUPID HEARTS COAT HANGER   \n",
       "12/1/2010 8:26     536365    84029G  KNITTED UNION FLAG HOT WATER BOTTLE   \n",
       "12/1/2010 8:26     536365    84029E       RED WOOLLY HOTTIE WHITE HEART.   \n",
       "...                   ...       ...                                  ...   \n",
       "12/9/2011 12:50    581587     22613          PACK OF 20 SPACEBOY NAPKINS   \n",
       "12/9/2011 12:50    581587     22899         CHILDREN'S APRON DOLLY GIRL    \n",
       "12/9/2011 12:50    581587     23254        CHILDRENS CUTLERY DOLLY GIRL    \n",
       "12/9/2011 12:50    581587     23255      CHILDRENS CUTLERY CIRCUS PARADE   \n",
       "12/9/2011 12:50    581587     22138        BAKING SET 9 PIECE RETROSPOT    \n",
       "\n",
       "                 Quantity  UnitPrice  CustomerID         Country  \n",
       "InvoiceDate                                                       \n",
       "12/1/2010 8:26          6       2.55     17850.0  United Kingdom  \n",
       "12/1/2010 8:26          6       3.39     17850.0  United Kingdom  \n",
       "12/1/2010 8:26          8       2.75     17850.0  United Kingdom  \n",
       "12/1/2010 8:26          6       3.39     17850.0  United Kingdom  \n",
       "12/1/2010 8:26          6       3.39     17850.0  United Kingdom  \n",
       "...                   ...        ...         ...             ...  \n",
       "12/9/2011 12:50        12       0.85     12680.0          France  \n",
       "12/9/2011 12:50         6       2.10     12680.0          France  \n",
       "12/9/2011 12:50         4       4.15     12680.0          France  \n",
       "12/9/2011 12:50         4       4.15     12680.0          France  \n",
       "12/9/2011 12:50         3       4.95     12680.0          France  \n",
       "\n",
       "[541909 rows x 7 columns]"
      ]
     },
     "execution_count": 4,
     "metadata": {},
     "output_type": "execute_result"
    }
   ],
   "source": [
    "# You can select any column to be the index for the DataFrame\n",
    "# Use one column only as follows:\n",
    "sales_df.set_index(keys=['InvoiceDate'], inplace=True)\n",
    "sales_df"
   ]
  },
  {
   "cell_type": "code",
   "execution_count": 5,
   "metadata": {
    "id": "hSedV2YAaWbk"
   },
   "outputs": [
    {
     "data": {
      "text/plain": [
       "array(['United Kingdom', 'France', 'Australia', 'Netherlands', 'Germany',\n",
       "       'Norway', 'EIRE', 'Switzerland', 'Spain', 'Poland', 'Portugal',\n",
       "       'Italy', 'Belgium', 'Lithuania', 'Japan', 'Iceland',\n",
       "       'Channel Islands', 'Denmark', 'Cyprus', 'Sweden', 'Austria',\n",
       "       'Israel', 'Finland', 'Bahrain', 'Greece', 'Hong Kong', 'Singapore',\n",
       "       'Lebanon', 'United Arab Emirates', 'Saudi Arabia',\n",
       "       'Czech Republic', 'Canada', 'Unspecified', 'Brazil', 'USA',\n",
       "       'European Community', 'Malta', 'RSA'], dtype=object)"
      ]
     },
     "execution_count": 5,
     "metadata": {},
     "output_type": "execute_result"
    }
   ],
   "source": [
    "# Let's see how many unique countries are present in the dataframe\n",
    "sales_df['Country'].unique()"
   ]
  },
  {
   "cell_type": "code",
   "execution_count": 6,
   "metadata": {
    "id": "ojE8OQF7Y2_3"
   },
   "outputs": [
    {
     "data": {
      "text/html": [
       "<div>\n",
       "<style scoped>\n",
       "    .dataframe tbody tr th:only-of-type {\n",
       "        vertical-align: middle;\n",
       "    }\n",
       "\n",
       "    .dataframe tbody tr th {\n",
       "        vertical-align: top;\n",
       "    }\n",
       "\n",
       "    .dataframe thead th {\n",
       "        text-align: right;\n",
       "    }\n",
       "</style>\n",
       "<table border=\"1\" class=\"dataframe\">\n",
       "  <thead>\n",
       "    <tr style=\"text-align: right;\">\n",
       "      <th></th>\n",
       "      <th></th>\n",
       "      <th>InvoiceNo</th>\n",
       "      <th>StockCode</th>\n",
       "      <th>Description</th>\n",
       "      <th>Quantity</th>\n",
       "      <th>UnitPrice</th>\n",
       "      <th>CustomerID</th>\n",
       "    </tr>\n",
       "    <tr>\n",
       "      <th>Country</th>\n",
       "      <th>InvoiceDate</th>\n",
       "      <th></th>\n",
       "      <th></th>\n",
       "      <th></th>\n",
       "      <th></th>\n",
       "      <th></th>\n",
       "      <th></th>\n",
       "    </tr>\n",
       "  </thead>\n",
       "  <tbody>\n",
       "    <tr>\n",
       "      <th rowspan=\"5\" valign=\"top\">United Kingdom</th>\n",
       "      <th>12/1/2010 8:26</th>\n",
       "      <td>536365</td>\n",
       "      <td>85123A</td>\n",
       "      <td>WHITE HANGING HEART T-LIGHT HOLDER</td>\n",
       "      <td>6</td>\n",
       "      <td>2.55</td>\n",
       "      <td>17850.0</td>\n",
       "    </tr>\n",
       "    <tr>\n",
       "      <th>12/1/2010 8:26</th>\n",
       "      <td>536365</td>\n",
       "      <td>71053</td>\n",
       "      <td>WHITE METAL LANTERN</td>\n",
       "      <td>6</td>\n",
       "      <td>3.39</td>\n",
       "      <td>17850.0</td>\n",
       "    </tr>\n",
       "    <tr>\n",
       "      <th>12/1/2010 8:26</th>\n",
       "      <td>536365</td>\n",
       "      <td>84406B</td>\n",
       "      <td>CREAM CUPID HEARTS COAT HANGER</td>\n",
       "      <td>8</td>\n",
       "      <td>2.75</td>\n",
       "      <td>17850.0</td>\n",
       "    </tr>\n",
       "    <tr>\n",
       "      <th>12/1/2010 8:26</th>\n",
       "      <td>536365</td>\n",
       "      <td>84029G</td>\n",
       "      <td>KNITTED UNION FLAG HOT WATER BOTTLE</td>\n",
       "      <td>6</td>\n",
       "      <td>3.39</td>\n",
       "      <td>17850.0</td>\n",
       "    </tr>\n",
       "    <tr>\n",
       "      <th>12/1/2010 8:26</th>\n",
       "      <td>536365</td>\n",
       "      <td>84029E</td>\n",
       "      <td>RED WOOLLY HOTTIE WHITE HEART.</td>\n",
       "      <td>6</td>\n",
       "      <td>3.39</td>\n",
       "      <td>17850.0</td>\n",
       "    </tr>\n",
       "    <tr>\n",
       "      <th>...</th>\n",
       "      <th>...</th>\n",
       "      <td>...</td>\n",
       "      <td>...</td>\n",
       "      <td>...</td>\n",
       "      <td>...</td>\n",
       "      <td>...</td>\n",
       "      <td>...</td>\n",
       "    </tr>\n",
       "    <tr>\n",
       "      <th rowspan=\"5\" valign=\"top\">France</th>\n",
       "      <th>12/9/2011 12:50</th>\n",
       "      <td>581587</td>\n",
       "      <td>22613</td>\n",
       "      <td>PACK OF 20 SPACEBOY NAPKINS</td>\n",
       "      <td>12</td>\n",
       "      <td>0.85</td>\n",
       "      <td>12680.0</td>\n",
       "    </tr>\n",
       "    <tr>\n",
       "      <th>12/9/2011 12:50</th>\n",
       "      <td>581587</td>\n",
       "      <td>22899</td>\n",
       "      <td>CHILDREN'S APRON DOLLY GIRL</td>\n",
       "      <td>6</td>\n",
       "      <td>2.10</td>\n",
       "      <td>12680.0</td>\n",
       "    </tr>\n",
       "    <tr>\n",
       "      <th>12/9/2011 12:50</th>\n",
       "      <td>581587</td>\n",
       "      <td>23254</td>\n",
       "      <td>CHILDRENS CUTLERY DOLLY GIRL</td>\n",
       "      <td>4</td>\n",
       "      <td>4.15</td>\n",
       "      <td>12680.0</td>\n",
       "    </tr>\n",
       "    <tr>\n",
       "      <th>12/9/2011 12:50</th>\n",
       "      <td>581587</td>\n",
       "      <td>23255</td>\n",
       "      <td>CHILDRENS CUTLERY CIRCUS PARADE</td>\n",
       "      <td>4</td>\n",
       "      <td>4.15</td>\n",
       "      <td>12680.0</td>\n",
       "    </tr>\n",
       "    <tr>\n",
       "      <th>12/9/2011 12:50</th>\n",
       "      <td>581587</td>\n",
       "      <td>22138</td>\n",
       "      <td>BAKING SET 9 PIECE RETROSPOT</td>\n",
       "      <td>3</td>\n",
       "      <td>4.95</td>\n",
       "      <td>12680.0</td>\n",
       "    </tr>\n",
       "  </tbody>\n",
       "</table>\n",
       "<p>541909 rows × 6 columns</p>\n",
       "</div>"
      ],
      "text/plain": [
       "                               InvoiceNo StockCode  \\\n",
       "Country        InvoiceDate                           \n",
       "United Kingdom 12/1/2010 8:26     536365    85123A   \n",
       "               12/1/2010 8:26     536365     71053   \n",
       "               12/1/2010 8:26     536365    84406B   \n",
       "               12/1/2010 8:26     536365    84029G   \n",
       "               12/1/2010 8:26     536365    84029E   \n",
       "...                                  ...       ...   \n",
       "France         12/9/2011 12:50    581587     22613   \n",
       "               12/9/2011 12:50    581587     22899   \n",
       "               12/9/2011 12:50    581587     23254   \n",
       "               12/9/2011 12:50    581587     23255   \n",
       "               12/9/2011 12:50    581587     22138   \n",
       "\n",
       "                                                        Description  Quantity  \\\n",
       "Country        InvoiceDate                                                      \n",
       "United Kingdom 12/1/2010 8:26    WHITE HANGING HEART T-LIGHT HOLDER         6   \n",
       "               12/1/2010 8:26                   WHITE METAL LANTERN         6   \n",
       "               12/1/2010 8:26        CREAM CUPID HEARTS COAT HANGER         8   \n",
       "               12/1/2010 8:26   KNITTED UNION FLAG HOT WATER BOTTLE         6   \n",
       "               12/1/2010 8:26        RED WOOLLY HOTTIE WHITE HEART.         6   \n",
       "...                                                             ...       ...   \n",
       "France         12/9/2011 12:50          PACK OF 20 SPACEBOY NAPKINS        12   \n",
       "               12/9/2011 12:50         CHILDREN'S APRON DOLLY GIRL          6   \n",
       "               12/9/2011 12:50        CHILDRENS CUTLERY DOLLY GIRL          4   \n",
       "               12/9/2011 12:50      CHILDRENS CUTLERY CIRCUS PARADE         4   \n",
       "               12/9/2011 12:50        BAKING SET 9 PIECE RETROSPOT          3   \n",
       "\n",
       "                                UnitPrice  CustomerID  \n",
       "Country        InvoiceDate                             \n",
       "United Kingdom 12/1/2010 8:26        2.55     17850.0  \n",
       "               12/1/2010 8:26        3.39     17850.0  \n",
       "               12/1/2010 8:26        2.75     17850.0  \n",
       "               12/1/2010 8:26        3.39     17850.0  \n",
       "               12/1/2010 8:26        3.39     17850.0  \n",
       "...                                   ...         ...  \n",
       "France         12/9/2011 12:50       0.85     12680.0  \n",
       "               12/9/2011 12:50       2.10     12680.0  \n",
       "               12/9/2011 12:50       4.15     12680.0  \n",
       "               12/9/2011 12:50       4.15     12680.0  \n",
       "               12/9/2011 12:50       4.95     12680.0  \n",
       "\n",
       "[541909 rows x 6 columns]"
      ]
     },
     "execution_count": 6,
     "metadata": {},
     "output_type": "execute_result"
    }
   ],
   "source": [
    "# Alternatively, We can have multiple keys (indexes) using Pandas Multi-indexing\n",
    "# Take the columns with the least number of unique values and use it for the outermost index\n",
    "\n",
    "# Let's import the dataset again using Pandas\n",
    "\n",
    "sales_df = pd.read_csv('ecommerce_sales.csv', encoding='unicode_escape')\n",
    "sales_df.set_index(keys=['Country', 'InvoiceDate'], inplace=True)\n",
    "sales_df"
   ]
  },
  {
   "cell_type": "code",
   "execution_count": 7,
   "metadata": {
    "id": "lAm9yjqMkazG"
   },
   "outputs": [
    {
     "data": {
      "text/html": [
       "<div>\n",
       "<style scoped>\n",
       "    .dataframe tbody tr th:only-of-type {\n",
       "        vertical-align: middle;\n",
       "    }\n",
       "\n",
       "    .dataframe tbody tr th {\n",
       "        vertical-align: top;\n",
       "    }\n",
       "\n",
       "    .dataframe thead th {\n",
       "        text-align: right;\n",
       "    }\n",
       "</style>\n",
       "<table border=\"1\" class=\"dataframe\">\n",
       "  <thead>\n",
       "    <tr style=\"text-align: right;\">\n",
       "      <th></th>\n",
       "      <th></th>\n",
       "      <th>InvoiceNo</th>\n",
       "      <th>StockCode</th>\n",
       "      <th>Description</th>\n",
       "      <th>Quantity</th>\n",
       "      <th>UnitPrice</th>\n",
       "      <th>CustomerID</th>\n",
       "    </tr>\n",
       "    <tr>\n",
       "      <th>Country</th>\n",
       "      <th>InvoiceDate</th>\n",
       "      <th></th>\n",
       "      <th></th>\n",
       "      <th></th>\n",
       "      <th></th>\n",
       "      <th></th>\n",
       "      <th></th>\n",
       "    </tr>\n",
       "  </thead>\n",
       "  <tbody>\n",
       "    <tr>\n",
       "      <th rowspan=\"5\" valign=\"top\">Australia</th>\n",
       "      <th>1/10/2011 9:58</th>\n",
       "      <td>540557</td>\n",
       "      <td>22523</td>\n",
       "      <td>CHILDS GARDEN FORK PINK</td>\n",
       "      <td>96</td>\n",
       "      <td>0.85</td>\n",
       "      <td>12415.0</td>\n",
       "    </tr>\n",
       "    <tr>\n",
       "      <th>1/11/2011 9:47</th>\n",
       "      <td>540700</td>\n",
       "      <td>21581</td>\n",
       "      <td>SKULLS  DESIGN  COTTON TOTE BAG</td>\n",
       "      <td>6</td>\n",
       "      <td>2.25</td>\n",
       "      <td>12393.0</td>\n",
       "    </tr>\n",
       "    <tr>\n",
       "      <th>1/11/2011 9:47</th>\n",
       "      <td>540700</td>\n",
       "      <td>22619</td>\n",
       "      <td>SET OF 6 SOLDIER SKITTLES</td>\n",
       "      <td>8</td>\n",
       "      <td>3.75</td>\n",
       "      <td>12393.0</td>\n",
       "    </tr>\n",
       "    <tr>\n",
       "      <th>1/11/2011 9:47</th>\n",
       "      <td>540700</td>\n",
       "      <td>84997B</td>\n",
       "      <td>RED 3 PIECE RETROSPOT CUTLERY SET</td>\n",
       "      <td>6</td>\n",
       "      <td>3.75</td>\n",
       "      <td>12393.0</td>\n",
       "    </tr>\n",
       "    <tr>\n",
       "      <th>1/11/2011 9:47</th>\n",
       "      <td>540700</td>\n",
       "      <td>20727</td>\n",
       "      <td>LUNCH BAG  BLACK SKULL.</td>\n",
       "      <td>20</td>\n",
       "      <td>1.65</td>\n",
       "      <td>12393.0</td>\n",
       "    </tr>\n",
       "    <tr>\n",
       "      <th>...</th>\n",
       "      <th>...</th>\n",
       "      <td>...</td>\n",
       "      <td>...</td>\n",
       "      <td>...</td>\n",
       "      <td>...</td>\n",
       "      <td>...</td>\n",
       "      <td>...</td>\n",
       "    </tr>\n",
       "    <tr>\n",
       "      <th rowspan=\"5\" valign=\"top\">Unspecified</th>\n",
       "      <th>9/2/2011 12:17</th>\n",
       "      <td>565303</td>\n",
       "      <td>85227</td>\n",
       "      <td>SET OF 6 3D KIT CARDS FOR KIDS</td>\n",
       "      <td>4</td>\n",
       "      <td>0.85</td>\n",
       "      <td>NaN</td>\n",
       "    </tr>\n",
       "    <tr>\n",
       "      <th>9/2/2011 12:17</th>\n",
       "      <td>565303</td>\n",
       "      <td>22138</td>\n",
       "      <td>BAKING SET 9 PIECE RETROSPOT</td>\n",
       "      <td>2</td>\n",
       "      <td>4.95</td>\n",
       "      <td>NaN</td>\n",
       "    </tr>\n",
       "    <tr>\n",
       "      <th>9/2/2011 12:17</th>\n",
       "      <td>565303</td>\n",
       "      <td>21889</td>\n",
       "      <td>WOODEN BOX OF DOMINOES</td>\n",
       "      <td>5</td>\n",
       "      <td>1.25</td>\n",
       "      <td>NaN</td>\n",
       "    </tr>\n",
       "    <tr>\n",
       "      <th>9/2/2011 12:17</th>\n",
       "      <td>565303</td>\n",
       "      <td>22550</td>\n",
       "      <td>HOLIDAY FUN LUDO</td>\n",
       "      <td>2</td>\n",
       "      <td>3.75</td>\n",
       "      <td>NaN</td>\n",
       "    </tr>\n",
       "    <tr>\n",
       "      <th>9/2/2011 12:17</th>\n",
       "      <td>565303</td>\n",
       "      <td>23127</td>\n",
       "      <td>FELTCRAFT GIRL NICOLE KIT</td>\n",
       "      <td>1</td>\n",
       "      <td>4.95</td>\n",
       "      <td>NaN</td>\n",
       "    </tr>\n",
       "  </tbody>\n",
       "</table>\n",
       "<p>541909 rows × 6 columns</p>\n",
       "</div>"
      ],
      "text/plain": [
       "                           InvoiceNo StockCode  \\\n",
       "Country     InvoiceDate                          \n",
       "Australia   1/10/2011 9:58    540557     22523   \n",
       "            1/11/2011 9:47    540700     21581   \n",
       "            1/11/2011 9:47    540700     22619   \n",
       "            1/11/2011 9:47    540700    84997B   \n",
       "            1/11/2011 9:47    540700     20727   \n",
       "...                              ...       ...   \n",
       "Unspecified 9/2/2011 12:17    565303     85227   \n",
       "            9/2/2011 12:17    565303     22138   \n",
       "            9/2/2011 12:17    565303     21889   \n",
       "            9/2/2011 12:17    565303     22550   \n",
       "            9/2/2011 12:17    565303     23127   \n",
       "\n",
       "                                                  Description  Quantity  \\\n",
       "Country     InvoiceDate                                                   \n",
       "Australia   1/10/2011 9:58            CHILDS GARDEN FORK PINK        96   \n",
       "            1/11/2011 9:47    SKULLS  DESIGN  COTTON TOTE BAG         6   \n",
       "            1/11/2011 9:47          SET OF 6 SOLDIER SKITTLES         8   \n",
       "            1/11/2011 9:47  RED 3 PIECE RETROSPOT CUTLERY SET         6   \n",
       "            1/11/2011 9:47            LUNCH BAG  BLACK SKULL.        20   \n",
       "...                                                       ...       ...   \n",
       "Unspecified 9/2/2011 12:17     SET OF 6 3D KIT CARDS FOR KIDS         4   \n",
       "            9/2/2011 12:17      BAKING SET 9 PIECE RETROSPOT          2   \n",
       "            9/2/2011 12:17             WOODEN BOX OF DOMINOES         5   \n",
       "            9/2/2011 12:17                   HOLIDAY FUN LUDO         2   \n",
       "            9/2/2011 12:17          FELTCRAFT GIRL NICOLE KIT         1   \n",
       "\n",
       "                            UnitPrice  CustomerID  \n",
       "Country     InvoiceDate                            \n",
       "Australia   1/10/2011 9:58       0.85     12415.0  \n",
       "            1/11/2011 9:47       2.25     12393.0  \n",
       "            1/11/2011 9:47       3.75     12393.0  \n",
       "            1/11/2011 9:47       3.75     12393.0  \n",
       "            1/11/2011 9:47       1.65     12393.0  \n",
       "...                               ...         ...  \n",
       "Unspecified 9/2/2011 12:17       0.85         NaN  \n",
       "            9/2/2011 12:17       4.95         NaN  \n",
       "            9/2/2011 12:17       1.25         NaN  \n",
       "            9/2/2011 12:17       3.75         NaN  \n",
       "            9/2/2011 12:17       4.95         NaN  \n",
       "\n",
       "[541909 rows x 6 columns]"
      ]
     },
     "execution_count": 7,
     "metadata": {},
     "output_type": "execute_result"
    }
   ],
   "source": [
    "# Sort countries to start with alphabetical order\n",
    "sales_df.sort_index(inplace=True)\n",
    "sales_df"
   ]
  },
  {
   "cell_type": "code",
   "execution_count": 8,
   "metadata": {
    "id": "1MKNr_9WkkQn"
   },
   "outputs": [
    {
     "data": {
      "text/plain": [
       "MultiIndex([(  'Australia', '1/10/2011 9:58'),\n",
       "            (  'Australia', '1/11/2011 9:47'),\n",
       "            (  'Australia', '1/11/2011 9:47'),\n",
       "            (  'Australia', '1/11/2011 9:47'),\n",
       "            (  'Australia', '1/11/2011 9:47'),\n",
       "            (  'Australia', '1/11/2011 9:47'),\n",
       "            (  'Australia', '1/11/2011 9:47'),\n",
       "            (  'Australia', '1/11/2011 9:47'),\n",
       "            (  'Australia', '1/11/2011 9:47'),\n",
       "            (  'Australia', '1/11/2011 9:47'),\n",
       "            ...\n",
       "            ('Unspecified', '9/2/2011 12:17'),\n",
       "            ('Unspecified', '9/2/2011 12:17'),\n",
       "            ('Unspecified', '9/2/2011 12:17'),\n",
       "            ('Unspecified', '9/2/2011 12:17'),\n",
       "            ('Unspecified', '9/2/2011 12:17'),\n",
       "            ('Unspecified', '9/2/2011 12:17'),\n",
       "            ('Unspecified', '9/2/2011 12:17'),\n",
       "            ('Unspecified', '9/2/2011 12:17'),\n",
       "            ('Unspecified', '9/2/2011 12:17'),\n",
       "            ('Unspecified', '9/2/2011 12:17')],\n",
       "           names=['Country', 'InvoiceDate'], length=541909)"
      ]
     },
     "execution_count": 8,
     "metadata": {},
     "output_type": "execute_result"
    }
   ],
   "source": [
    "# Now you need more than one index to access any element\n",
    "sales_df.index"
   ]
  },
  {
   "cell_type": "code",
   "execution_count": 9,
   "metadata": {
    "id": "ullJMBP6kpi7"
   },
   "outputs": [
    {
     "data": {
      "text/plain": [
       "FrozenList(['Country', 'InvoiceDate'])"
      ]
     },
     "execution_count": 9,
     "metadata": {},
     "output_type": "execute_result"
    }
   ],
   "source": [
    "sales_df.index.names"
   ]
  },
  {
   "cell_type": "code",
   "execution_count": 10,
   "metadata": {
    "id": "XpRZZy31kpli"
   },
   "outputs": [
    {
     "data": {
      "text/plain": [
       "pandas.core.indexes.multi.MultiIndex"
      ]
     },
     "execution_count": 10,
     "metadata": {},
     "output_type": "execute_result"
    }
   ],
   "source": [
    "# Multiindex objects\n",
    "type(sales_df.index)"
   ]
  },
  {
   "cell_type": "code",
   "execution_count": 11,
   "metadata": {
    "id": "VWSectKNkpoT"
   },
   "outputs": [
    {
     "data": {
      "text/plain": [
       "('Australia', '1/10/2011 9:58')"
      ]
     },
     "execution_count": 11,
     "metadata": {},
     "output_type": "execute_result"
    }
   ],
   "source": [
    "# It gives out the datetime and the country as well\n",
    "sales_df.index[0]"
   ]
  },
  {
   "cell_type": "markdown",
   "metadata": {
    "id": "bcjijKoOVy72"
   },
   "source": [
    "**MINI CHALLENGE #3:**\n",
    "- **Sort the DataFrame in a descending order (countries and dates)**"
   ]
  },
  {
   "cell_type": "code",
   "execution_count": 12,
   "metadata": {
    "id": "g58yGNL-XcyN"
   },
   "outputs": [
    {
     "data": {
      "text/html": [
       "<div>\n",
       "<style scoped>\n",
       "    .dataframe tbody tr th:only-of-type {\n",
       "        vertical-align: middle;\n",
       "    }\n",
       "\n",
       "    .dataframe tbody tr th {\n",
       "        vertical-align: top;\n",
       "    }\n",
       "\n",
       "    .dataframe thead th {\n",
       "        text-align: right;\n",
       "    }\n",
       "</style>\n",
       "<table border=\"1\" class=\"dataframe\">\n",
       "  <thead>\n",
       "    <tr style=\"text-align: right;\">\n",
       "      <th></th>\n",
       "      <th></th>\n",
       "      <th>InvoiceNo</th>\n",
       "      <th>StockCode</th>\n",
       "      <th>Description</th>\n",
       "      <th>Quantity</th>\n",
       "      <th>UnitPrice</th>\n",
       "      <th>CustomerID</th>\n",
       "    </tr>\n",
       "    <tr>\n",
       "      <th>Country</th>\n",
       "      <th>InvoiceDate</th>\n",
       "      <th></th>\n",
       "      <th></th>\n",
       "      <th></th>\n",
       "      <th></th>\n",
       "      <th></th>\n",
       "      <th></th>\n",
       "    </tr>\n",
       "  </thead>\n",
       "  <tbody>\n",
       "    <tr>\n",
       "      <th rowspan=\"5\" valign=\"top\">Unspecified</th>\n",
       "      <th>9/2/2011 12:17</th>\n",
       "      <td>565303</td>\n",
       "      <td>22904</td>\n",
       "      <td>CALENDAR PAPER CUT DESIGN</td>\n",
       "      <td>1</td>\n",
       "      <td>2.95</td>\n",
       "      <td>NaN</td>\n",
       "    </tr>\n",
       "    <tr>\n",
       "      <th>9/2/2011 12:17</th>\n",
       "      <td>565303</td>\n",
       "      <td>21329</td>\n",
       "      <td>DINOSAURS  WRITING SET</td>\n",
       "      <td>1</td>\n",
       "      <td>1.65</td>\n",
       "      <td>NaN</td>\n",
       "    </tr>\n",
       "    <tr>\n",
       "      <th>9/2/2011 12:17</th>\n",
       "      <td>565303</td>\n",
       "      <td>21992</td>\n",
       "      <td>VINTAGE PAISLEY STATIONERY SET</td>\n",
       "      <td>1</td>\n",
       "      <td>1.25</td>\n",
       "      <td>NaN</td>\n",
       "    </tr>\n",
       "    <tr>\n",
       "      <th>9/2/2011 12:17</th>\n",
       "      <td>565303</td>\n",
       "      <td>20772</td>\n",
       "      <td>GARDEN PATH JOURNAL</td>\n",
       "      <td>1</td>\n",
       "      <td>2.55</td>\n",
       "      <td>NaN</td>\n",
       "    </tr>\n",
       "    <tr>\n",
       "      <th>9/2/2011 12:17</th>\n",
       "      <td>565303</td>\n",
       "      <td>23196</td>\n",
       "      <td>VINTAGE LEAF MAGNETIC NOTEPAD</td>\n",
       "      <td>1</td>\n",
       "      <td>1.45</td>\n",
       "      <td>NaN</td>\n",
       "    </tr>\n",
       "    <tr>\n",
       "      <th>...</th>\n",
       "      <th>...</th>\n",
       "      <td>...</td>\n",
       "      <td>...</td>\n",
       "      <td>...</td>\n",
       "      <td>...</td>\n",
       "      <td>...</td>\n",
       "      <td>...</td>\n",
       "    </tr>\n",
       "    <tr>\n",
       "      <th rowspan=\"5\" valign=\"top\">Australia</th>\n",
       "      <th>1/11/2011 9:47</th>\n",
       "      <td>540700</td>\n",
       "      <td>21578</td>\n",
       "      <td>WOODLAND DESIGN  COTTON TOTE BAG</td>\n",
       "      <td>12</td>\n",
       "      <td>2.25</td>\n",
       "      <td>12393.0</td>\n",
       "    </tr>\n",
       "    <tr>\n",
       "      <th>1/11/2011 9:47</th>\n",
       "      <td>540700</td>\n",
       "      <td>21577</td>\n",
       "      <td>SAVE THE PLANET COTTON TOTE BAG</td>\n",
       "      <td>12</td>\n",
       "      <td>2.25</td>\n",
       "      <td>12393.0</td>\n",
       "    </tr>\n",
       "    <tr>\n",
       "      <th>1/11/2011 9:47</th>\n",
       "      <td>540700</td>\n",
       "      <td>22245</td>\n",
       "      <td>HOOK, 1 HANGER ,MAGIC GARDEN</td>\n",
       "      <td>12</td>\n",
       "      <td>0.85</td>\n",
       "      <td>12393.0</td>\n",
       "    </tr>\n",
       "    <tr>\n",
       "      <th>1/11/2011 9:47</th>\n",
       "      <td>540700</td>\n",
       "      <td>22244</td>\n",
       "      <td>3 HOOK HANGER MAGIC GARDEN</td>\n",
       "      <td>12</td>\n",
       "      <td>1.95</td>\n",
       "      <td>12393.0</td>\n",
       "    </tr>\n",
       "    <tr>\n",
       "      <th>1/10/2011 9:58</th>\n",
       "      <td>540557</td>\n",
       "      <td>22523</td>\n",
       "      <td>CHILDS GARDEN FORK PINK</td>\n",
       "      <td>96</td>\n",
       "      <td>0.85</td>\n",
       "      <td>12415.0</td>\n",
       "    </tr>\n",
       "  </tbody>\n",
       "</table>\n",
       "<p>541909 rows × 6 columns</p>\n",
       "</div>"
      ],
      "text/plain": [
       "                           InvoiceNo StockCode  \\\n",
       "Country     InvoiceDate                          \n",
       "Unspecified 9/2/2011 12:17    565303     22904   \n",
       "            9/2/2011 12:17    565303     21329   \n",
       "            9/2/2011 12:17    565303     21992   \n",
       "            9/2/2011 12:17    565303     20772   \n",
       "            9/2/2011 12:17    565303     23196   \n",
       "...                              ...       ...   \n",
       "Australia   1/11/2011 9:47    540700     21578   \n",
       "            1/11/2011 9:47    540700     21577   \n",
       "            1/11/2011 9:47    540700     22245   \n",
       "            1/11/2011 9:47    540700     22244   \n",
       "            1/10/2011 9:58    540557     22523   \n",
       "\n",
       "                                                 Description  Quantity  \\\n",
       "Country     InvoiceDate                                                  \n",
       "Unspecified 9/2/2011 12:17         CALENDAR PAPER CUT DESIGN         1   \n",
       "            9/2/2011 12:17           DINOSAURS  WRITING SET          1   \n",
       "            9/2/2011 12:17    VINTAGE PAISLEY STATIONERY SET         1   \n",
       "            9/2/2011 12:17               GARDEN PATH JOURNAL         1   \n",
       "            9/2/2011 12:17     VINTAGE LEAF MAGNETIC NOTEPAD         1   \n",
       "...                                                      ...       ...   \n",
       "Australia   1/11/2011 9:47  WOODLAND DESIGN  COTTON TOTE BAG        12   \n",
       "            1/11/2011 9:47   SAVE THE PLANET COTTON TOTE BAG        12   \n",
       "            1/11/2011 9:47      HOOK, 1 HANGER ,MAGIC GARDEN        12   \n",
       "            1/11/2011 9:47        3 HOOK HANGER MAGIC GARDEN        12   \n",
       "            1/10/2011 9:58           CHILDS GARDEN FORK PINK        96   \n",
       "\n",
       "                            UnitPrice  CustomerID  \n",
       "Country     InvoiceDate                            \n",
       "Unspecified 9/2/2011 12:17       2.95         NaN  \n",
       "            9/2/2011 12:17       1.65         NaN  \n",
       "            9/2/2011 12:17       1.25         NaN  \n",
       "            9/2/2011 12:17       2.55         NaN  \n",
       "            9/2/2011 12:17       1.45         NaN  \n",
       "...                               ...         ...  \n",
       "Australia   1/11/2011 9:47       2.25     12393.0  \n",
       "            1/11/2011 9:47       2.25     12393.0  \n",
       "            1/11/2011 9:47       0.85     12393.0  \n",
       "            1/11/2011 9:47       1.95     12393.0  \n",
       "            1/10/2011 9:58       0.85     12415.0  \n",
       "\n",
       "[541909 rows x 6 columns]"
      ]
     },
     "execution_count": 12,
     "metadata": {},
     "output_type": "execute_result"
    }
   ],
   "source": [
    "sales_df.sort_index(ascending=False, inplace=True)\n",
    "sales_df"
   ]
  },
  {
   "cell_type": "markdown",
   "metadata": {
    "id": "ZXor3Qk3mPbu"
   },
   "source": [
    "# 4. MULTI-INDEXING OPERATIONS - PART #1"
   ]
  },
  {
   "cell_type": "code",
   "execution_count": 2,
   "metadata": {
    "id": "brgnizTfmaRM"
   },
   "outputs": [
    {
     "data": {
      "text/html": [
       "<div>\n",
       "<style scoped>\n",
       "    .dataframe tbody tr th:only-of-type {\n",
       "        vertical-align: middle;\n",
       "    }\n",
       "\n",
       "    .dataframe tbody tr th {\n",
       "        vertical-align: top;\n",
       "    }\n",
       "\n",
       "    .dataframe thead th {\n",
       "        text-align: right;\n",
       "    }\n",
       "</style>\n",
       "<table border=\"1\" class=\"dataframe\">\n",
       "  <thead>\n",
       "    <tr style=\"text-align: right;\">\n",
       "      <th></th>\n",
       "      <th></th>\n",
       "      <th>InvoiceNo</th>\n",
       "      <th>StockCode</th>\n",
       "      <th>Description</th>\n",
       "      <th>Quantity</th>\n",
       "      <th>UnitPrice</th>\n",
       "      <th>CustomerID</th>\n",
       "    </tr>\n",
       "    <tr>\n",
       "      <th>Country</th>\n",
       "      <th>InvoiceDate</th>\n",
       "      <th></th>\n",
       "      <th></th>\n",
       "      <th></th>\n",
       "      <th></th>\n",
       "      <th></th>\n",
       "      <th></th>\n",
       "    </tr>\n",
       "  </thead>\n",
       "  <tbody>\n",
       "    <tr>\n",
       "      <th rowspan=\"5\" valign=\"top\">United Kingdom</th>\n",
       "      <th>12/1/2010 8:26</th>\n",
       "      <td>536365</td>\n",
       "      <td>85123A</td>\n",
       "      <td>WHITE HANGING HEART T-LIGHT HOLDER</td>\n",
       "      <td>6</td>\n",
       "      <td>2.55</td>\n",
       "      <td>17850.0</td>\n",
       "    </tr>\n",
       "    <tr>\n",
       "      <th>12/1/2010 8:26</th>\n",
       "      <td>536365</td>\n",
       "      <td>71053</td>\n",
       "      <td>WHITE METAL LANTERN</td>\n",
       "      <td>6</td>\n",
       "      <td>3.39</td>\n",
       "      <td>17850.0</td>\n",
       "    </tr>\n",
       "    <tr>\n",
       "      <th>12/1/2010 8:26</th>\n",
       "      <td>536365</td>\n",
       "      <td>84406B</td>\n",
       "      <td>CREAM CUPID HEARTS COAT HANGER</td>\n",
       "      <td>8</td>\n",
       "      <td>2.75</td>\n",
       "      <td>17850.0</td>\n",
       "    </tr>\n",
       "    <tr>\n",
       "      <th>12/1/2010 8:26</th>\n",
       "      <td>536365</td>\n",
       "      <td>84029G</td>\n",
       "      <td>KNITTED UNION FLAG HOT WATER BOTTLE</td>\n",
       "      <td>6</td>\n",
       "      <td>3.39</td>\n",
       "      <td>17850.0</td>\n",
       "    </tr>\n",
       "    <tr>\n",
       "      <th>12/1/2010 8:26</th>\n",
       "      <td>536365</td>\n",
       "      <td>84029E</td>\n",
       "      <td>RED WOOLLY HOTTIE WHITE HEART.</td>\n",
       "      <td>6</td>\n",
       "      <td>3.39</td>\n",
       "      <td>17850.0</td>\n",
       "    </tr>\n",
       "    <tr>\n",
       "      <th>...</th>\n",
       "      <th>...</th>\n",
       "      <td>...</td>\n",
       "      <td>...</td>\n",
       "      <td>...</td>\n",
       "      <td>...</td>\n",
       "      <td>...</td>\n",
       "      <td>...</td>\n",
       "    </tr>\n",
       "    <tr>\n",
       "      <th rowspan=\"5\" valign=\"top\">France</th>\n",
       "      <th>12/9/2011 12:50</th>\n",
       "      <td>581587</td>\n",
       "      <td>22613</td>\n",
       "      <td>PACK OF 20 SPACEBOY NAPKINS</td>\n",
       "      <td>12</td>\n",
       "      <td>0.85</td>\n",
       "      <td>12680.0</td>\n",
       "    </tr>\n",
       "    <tr>\n",
       "      <th>12/9/2011 12:50</th>\n",
       "      <td>581587</td>\n",
       "      <td>22899</td>\n",
       "      <td>CHILDREN'S APRON DOLLY GIRL</td>\n",
       "      <td>6</td>\n",
       "      <td>2.10</td>\n",
       "      <td>12680.0</td>\n",
       "    </tr>\n",
       "    <tr>\n",
       "      <th>12/9/2011 12:50</th>\n",
       "      <td>581587</td>\n",
       "      <td>23254</td>\n",
       "      <td>CHILDRENS CUTLERY DOLLY GIRL</td>\n",
       "      <td>4</td>\n",
       "      <td>4.15</td>\n",
       "      <td>12680.0</td>\n",
       "    </tr>\n",
       "    <tr>\n",
       "      <th>12/9/2011 12:50</th>\n",
       "      <td>581587</td>\n",
       "      <td>23255</td>\n",
       "      <td>CHILDRENS CUTLERY CIRCUS PARADE</td>\n",
       "      <td>4</td>\n",
       "      <td>4.15</td>\n",
       "      <td>12680.0</td>\n",
       "    </tr>\n",
       "    <tr>\n",
       "      <th>12/9/2011 12:50</th>\n",
       "      <td>581587</td>\n",
       "      <td>22138</td>\n",
       "      <td>BAKING SET 9 PIECE RETROSPOT</td>\n",
       "      <td>3</td>\n",
       "      <td>4.95</td>\n",
       "      <td>12680.0</td>\n",
       "    </tr>\n",
       "  </tbody>\n",
       "</table>\n",
       "<p>541909 rows × 6 columns</p>\n",
       "</div>"
      ],
      "text/plain": [
       "                               InvoiceNo StockCode  \\\n",
       "Country        InvoiceDate                           \n",
       "United Kingdom 12/1/2010 8:26     536365    85123A   \n",
       "               12/1/2010 8:26     536365     71053   \n",
       "               12/1/2010 8:26     536365    84406B   \n",
       "               12/1/2010 8:26     536365    84029G   \n",
       "               12/1/2010 8:26     536365    84029E   \n",
       "...                                  ...       ...   \n",
       "France         12/9/2011 12:50    581587     22613   \n",
       "               12/9/2011 12:50    581587     22899   \n",
       "               12/9/2011 12:50    581587     23254   \n",
       "               12/9/2011 12:50    581587     23255   \n",
       "               12/9/2011 12:50    581587     22138   \n",
       "\n",
       "                                                        Description  Quantity  \\\n",
       "Country        InvoiceDate                                                      \n",
       "United Kingdom 12/1/2010 8:26    WHITE HANGING HEART T-LIGHT HOLDER         6   \n",
       "               12/1/2010 8:26                   WHITE METAL LANTERN         6   \n",
       "               12/1/2010 8:26        CREAM CUPID HEARTS COAT HANGER         8   \n",
       "               12/1/2010 8:26   KNITTED UNION FLAG HOT WATER BOTTLE         6   \n",
       "               12/1/2010 8:26        RED WOOLLY HOTTIE WHITE HEART.         6   \n",
       "...                                                             ...       ...   \n",
       "France         12/9/2011 12:50          PACK OF 20 SPACEBOY NAPKINS        12   \n",
       "               12/9/2011 12:50         CHILDREN'S APRON DOLLY GIRL          6   \n",
       "               12/9/2011 12:50        CHILDRENS CUTLERY DOLLY GIRL          4   \n",
       "               12/9/2011 12:50      CHILDRENS CUTLERY CIRCUS PARADE         4   \n",
       "               12/9/2011 12:50        BAKING SET 9 PIECE RETROSPOT          3   \n",
       "\n",
       "                                UnitPrice  CustomerID  \n",
       "Country        InvoiceDate                             \n",
       "United Kingdom 12/1/2010 8:26        2.55     17850.0  \n",
       "               12/1/2010 8:26        3.39     17850.0  \n",
       "               12/1/2010 8:26        2.75     17850.0  \n",
       "               12/1/2010 8:26        3.39     17850.0  \n",
       "               12/1/2010 8:26        3.39     17850.0  \n",
       "...                                   ...         ...  \n",
       "France         12/9/2011 12:50       0.85     12680.0  \n",
       "               12/9/2011 12:50       2.10     12680.0  \n",
       "               12/9/2011 12:50       4.15     12680.0  \n",
       "               12/9/2011 12:50       4.15     12680.0  \n",
       "               12/9/2011 12:50       4.95     12680.0  \n",
       "\n",
       "[541909 rows x 6 columns]"
      ]
     },
     "execution_count": 2,
     "metadata": {},
     "output_type": "execute_result"
    }
   ],
   "source": [
    "sales_df = pd.read_csv('ecommerce_sales.csv', encoding='unicode_escape')\n",
    "sales_df.set_index(keys=['Country', 'InvoiceDate'], inplace=True)\n",
    "sales_df"
   ]
  },
  {
   "cell_type": "code",
   "execution_count": 3,
   "metadata": {
    "id": "sYxbJcZnmVS2"
   },
   "outputs": [
    {
     "data": {
      "text/plain": [
       "Index(['United Kingdom', 'United Kingdom', 'United Kingdom', 'United Kingdom',\n",
       "       'United Kingdom', 'United Kingdom', 'United Kingdom', 'United Kingdom',\n",
       "       'United Kingdom', 'United Kingdom',\n",
       "       ...\n",
       "       'France', 'France', 'France', 'France', 'France', 'France', 'France',\n",
       "       'France', 'France', 'France'],\n",
       "      dtype='object', name='Country', length=541909)"
      ]
     },
     "execution_count": 3,
     "metadata": {},
     "output_type": "execute_result"
    }
   ],
   "source": [
    "sales_df.index.get_level_values(0)"
   ]
  },
  {
   "cell_type": "code",
   "execution_count": 4,
   "metadata": {
    "id": "M-YKNsOqmVVA"
   },
   "outputs": [
    {
     "data": {
      "text/plain": [
       "Index(['12/1/2010 8:26', '12/1/2010 8:26', '12/1/2010 8:26', '12/1/2010 8:26',\n",
       "       '12/1/2010 8:26', '12/1/2010 8:26', '12/1/2010 8:26', '12/1/2010 8:28',\n",
       "       '12/1/2010 8:28', '12/1/2010 8:34',\n",
       "       ...\n",
       "       '12/9/2011 12:50', '12/9/2011 12:50', '12/9/2011 12:50',\n",
       "       '12/9/2011 12:50', '12/9/2011 12:50', '12/9/2011 12:50',\n",
       "       '12/9/2011 12:50', '12/9/2011 12:50', '12/9/2011 12:50',\n",
       "       '12/9/2011 12:50'],\n",
       "      dtype='object', name='InvoiceDate', length=541909)"
      ]
     },
     "execution_count": 4,
     "metadata": {},
     "output_type": "execute_result"
    }
   ],
   "source": [
    "sales_df.index.get_level_values(1)"
   ]
  },
  {
   "cell_type": "code",
   "execution_count": 5,
   "metadata": {
    "id": "uzjCn7gWmVXi"
   },
   "outputs": [
    {
     "data": {
      "text/plain": [
       "Index(['United Kingdom', 'United Kingdom', 'United Kingdom', 'United Kingdom',\n",
       "       'United Kingdom', 'United Kingdom', 'United Kingdom', 'United Kingdom',\n",
       "       'United Kingdom', 'United Kingdom',\n",
       "       ...\n",
       "       'France', 'France', 'France', 'France', 'France', 'France', 'France',\n",
       "       'France', 'France', 'France'],\n",
       "      dtype='object', name='Country', length=541909)"
      ]
     },
     "execution_count": 5,
     "metadata": {},
     "output_type": "execute_result"
    }
   ],
   "source": [
    "sales_df.index.get_level_values('Country')"
   ]
  },
  {
   "cell_type": "code",
   "execution_count": 6,
   "metadata": {
    "id": "7m8lVXpNmVad"
   },
   "outputs": [
    {
     "data": {
      "text/plain": [
       "Index(['12/1/2010 8:26', '12/1/2010 8:26', '12/1/2010 8:26', '12/1/2010 8:26',\n",
       "       '12/1/2010 8:26', '12/1/2010 8:26', '12/1/2010 8:26', '12/1/2010 8:28',\n",
       "       '12/1/2010 8:28', '12/1/2010 8:34',\n",
       "       ...\n",
       "       '12/9/2011 12:50', '12/9/2011 12:50', '12/9/2011 12:50',\n",
       "       '12/9/2011 12:50', '12/9/2011 12:50', '12/9/2011 12:50',\n",
       "       '12/9/2011 12:50', '12/9/2011 12:50', '12/9/2011 12:50',\n",
       "       '12/9/2011 12:50'],\n",
       "      dtype='object', name='InvoiceDate', length=541909)"
      ]
     },
     "execution_count": 6,
     "metadata": {},
     "output_type": "execute_result"
    }
   ],
   "source": [
    "sales_df.index.get_level_values('InvoiceDate')"
   ]
  },
  {
   "cell_type": "code",
   "execution_count": 7,
   "metadata": {
    "id": "-NRh69EImVcQ"
   },
   "outputs": [
    {
     "data": {
      "text/html": [
       "<div>\n",
       "<style scoped>\n",
       "    .dataframe tbody tr th:only-of-type {\n",
       "        vertical-align: middle;\n",
       "    }\n",
       "\n",
       "    .dataframe tbody tr th {\n",
       "        vertical-align: top;\n",
       "    }\n",
       "\n",
       "    .dataframe thead th {\n",
       "        text-align: right;\n",
       "    }\n",
       "</style>\n",
       "<table border=\"1\" class=\"dataframe\">\n",
       "  <thead>\n",
       "    <tr style=\"text-align: right;\">\n",
       "      <th></th>\n",
       "      <th></th>\n",
       "      <th>InvoiceNo</th>\n",
       "      <th>StockCode</th>\n",
       "      <th>Description</th>\n",
       "      <th>Quantity</th>\n",
       "      <th>UnitPrice</th>\n",
       "      <th>CustomerID</th>\n",
       "    </tr>\n",
       "    <tr>\n",
       "      <th>Transaction Date</th>\n",
       "      <th>Transaction Location</th>\n",
       "      <th></th>\n",
       "      <th></th>\n",
       "      <th></th>\n",
       "      <th></th>\n",
       "      <th></th>\n",
       "      <th></th>\n",
       "    </tr>\n",
       "  </thead>\n",
       "  <tbody>\n",
       "    <tr>\n",
       "      <th rowspan=\"5\" valign=\"top\">United Kingdom</th>\n",
       "      <th>12/1/2010 8:26</th>\n",
       "      <td>536365</td>\n",
       "      <td>85123A</td>\n",
       "      <td>WHITE HANGING HEART T-LIGHT HOLDER</td>\n",
       "      <td>6</td>\n",
       "      <td>2.55</td>\n",
       "      <td>17850.0</td>\n",
       "    </tr>\n",
       "    <tr>\n",
       "      <th>12/1/2010 8:26</th>\n",
       "      <td>536365</td>\n",
       "      <td>71053</td>\n",
       "      <td>WHITE METAL LANTERN</td>\n",
       "      <td>6</td>\n",
       "      <td>3.39</td>\n",
       "      <td>17850.0</td>\n",
       "    </tr>\n",
       "    <tr>\n",
       "      <th>12/1/2010 8:26</th>\n",
       "      <td>536365</td>\n",
       "      <td>84406B</td>\n",
       "      <td>CREAM CUPID HEARTS COAT HANGER</td>\n",
       "      <td>8</td>\n",
       "      <td>2.75</td>\n",
       "      <td>17850.0</td>\n",
       "    </tr>\n",
       "    <tr>\n",
       "      <th>12/1/2010 8:26</th>\n",
       "      <td>536365</td>\n",
       "      <td>84029G</td>\n",
       "      <td>KNITTED UNION FLAG HOT WATER BOTTLE</td>\n",
       "      <td>6</td>\n",
       "      <td>3.39</td>\n",
       "      <td>17850.0</td>\n",
       "    </tr>\n",
       "    <tr>\n",
       "      <th>12/1/2010 8:26</th>\n",
       "      <td>536365</td>\n",
       "      <td>84029E</td>\n",
       "      <td>RED WOOLLY HOTTIE WHITE HEART.</td>\n",
       "      <td>6</td>\n",
       "      <td>3.39</td>\n",
       "      <td>17850.0</td>\n",
       "    </tr>\n",
       "    <tr>\n",
       "      <th>...</th>\n",
       "      <th>...</th>\n",
       "      <td>...</td>\n",
       "      <td>...</td>\n",
       "      <td>...</td>\n",
       "      <td>...</td>\n",
       "      <td>...</td>\n",
       "      <td>...</td>\n",
       "    </tr>\n",
       "    <tr>\n",
       "      <th rowspan=\"5\" valign=\"top\">France</th>\n",
       "      <th>12/9/2011 12:50</th>\n",
       "      <td>581587</td>\n",
       "      <td>22613</td>\n",
       "      <td>PACK OF 20 SPACEBOY NAPKINS</td>\n",
       "      <td>12</td>\n",
       "      <td>0.85</td>\n",
       "      <td>12680.0</td>\n",
       "    </tr>\n",
       "    <tr>\n",
       "      <th>12/9/2011 12:50</th>\n",
       "      <td>581587</td>\n",
       "      <td>22899</td>\n",
       "      <td>CHILDREN'S APRON DOLLY GIRL</td>\n",
       "      <td>6</td>\n",
       "      <td>2.10</td>\n",
       "      <td>12680.0</td>\n",
       "    </tr>\n",
       "    <tr>\n",
       "      <th>12/9/2011 12:50</th>\n",
       "      <td>581587</td>\n",
       "      <td>23254</td>\n",
       "      <td>CHILDRENS CUTLERY DOLLY GIRL</td>\n",
       "      <td>4</td>\n",
       "      <td>4.15</td>\n",
       "      <td>12680.0</td>\n",
       "    </tr>\n",
       "    <tr>\n",
       "      <th>12/9/2011 12:50</th>\n",
       "      <td>581587</td>\n",
       "      <td>23255</td>\n",
       "      <td>CHILDRENS CUTLERY CIRCUS PARADE</td>\n",
       "      <td>4</td>\n",
       "      <td>4.15</td>\n",
       "      <td>12680.0</td>\n",
       "    </tr>\n",
       "    <tr>\n",
       "      <th>12/9/2011 12:50</th>\n",
       "      <td>581587</td>\n",
       "      <td>22138</td>\n",
       "      <td>BAKING SET 9 PIECE RETROSPOT</td>\n",
       "      <td>3</td>\n",
       "      <td>4.95</td>\n",
       "      <td>12680.0</td>\n",
       "    </tr>\n",
       "  </tbody>\n",
       "</table>\n",
       "<p>541909 rows × 6 columns</p>\n",
       "</div>"
      ],
      "text/plain": [
       "                                      InvoiceNo StockCode  \\\n",
       "Transaction Date Transaction Location                       \n",
       "United Kingdom   12/1/2010 8:26          536365    85123A   \n",
       "                 12/1/2010 8:26          536365     71053   \n",
       "                 12/1/2010 8:26          536365    84406B   \n",
       "                 12/1/2010 8:26          536365    84029G   \n",
       "                 12/1/2010 8:26          536365    84029E   \n",
       "...                                         ...       ...   \n",
       "France           12/9/2011 12:50         581587     22613   \n",
       "                 12/9/2011 12:50         581587     22899   \n",
       "                 12/9/2011 12:50         581587     23254   \n",
       "                 12/9/2011 12:50         581587     23255   \n",
       "                 12/9/2011 12:50         581587     22138   \n",
       "\n",
       "                                                               Description  \\\n",
       "Transaction Date Transaction Location                                        \n",
       "United Kingdom   12/1/2010 8:26         WHITE HANGING HEART T-LIGHT HOLDER   \n",
       "                 12/1/2010 8:26                        WHITE METAL LANTERN   \n",
       "                 12/1/2010 8:26             CREAM CUPID HEARTS COAT HANGER   \n",
       "                 12/1/2010 8:26        KNITTED UNION FLAG HOT WATER BOTTLE   \n",
       "                 12/1/2010 8:26             RED WOOLLY HOTTIE WHITE HEART.   \n",
       "...                                                                    ...   \n",
       "France           12/9/2011 12:50               PACK OF 20 SPACEBOY NAPKINS   \n",
       "                 12/9/2011 12:50              CHILDREN'S APRON DOLLY GIRL    \n",
       "                 12/9/2011 12:50             CHILDRENS CUTLERY DOLLY GIRL    \n",
       "                 12/9/2011 12:50           CHILDRENS CUTLERY CIRCUS PARADE   \n",
       "                 12/9/2011 12:50             BAKING SET 9 PIECE RETROSPOT    \n",
       "\n",
       "                                       Quantity  UnitPrice  CustomerID  \n",
       "Transaction Date Transaction Location                                   \n",
       "United Kingdom   12/1/2010 8:26               6       2.55     17850.0  \n",
       "                 12/1/2010 8:26               6       3.39     17850.0  \n",
       "                 12/1/2010 8:26               8       2.75     17850.0  \n",
       "                 12/1/2010 8:26               6       3.39     17850.0  \n",
       "                 12/1/2010 8:26               6       3.39     17850.0  \n",
       "...                                         ...        ...         ...  \n",
       "France           12/9/2011 12:50             12       0.85     12680.0  \n",
       "                 12/9/2011 12:50              6       2.10     12680.0  \n",
       "                 12/9/2011 12:50              4       4.15     12680.0  \n",
       "                 12/9/2011 12:50              4       4.15     12680.0  \n",
       "                 12/9/2011 12:50              3       4.95     12680.0  \n",
       "\n",
       "[541909 rows x 6 columns]"
      ]
     },
     "execution_count": 7,
     "metadata": {},
     "output_type": "execute_result"
    }
   ],
   "source": [
    "# You can change the names of the DataFrame by invoking the set_names method\n",
    "sales_df.index.set_names(names=['Transaction Date', 'Transaction Location'], inplace=True)\n",
    "sales_df"
   ]
  },
  {
   "cell_type": "markdown",
   "metadata": {
    "id": "YqGCOQvnaVQP"
   },
   "source": [
    "**MINI CHALLENGE #4:**\n",
    "- **Use InvoiceDate and Country in order as the multi-index**\n",
    "- **Change the name of both indexes to \"Date\" and \"location\"**"
   ]
  },
  {
   "cell_type": "code",
   "execution_count": 8,
   "metadata": {
    "id": "0YwPgE6PalfV"
   },
   "outputs": [
    {
     "data": {
      "text/html": [
       "<div>\n",
       "<style scoped>\n",
       "    .dataframe tbody tr th:only-of-type {\n",
       "        vertical-align: middle;\n",
       "    }\n",
       "\n",
       "    .dataframe tbody tr th {\n",
       "        vertical-align: top;\n",
       "    }\n",
       "\n",
       "    .dataframe thead th {\n",
       "        text-align: right;\n",
       "    }\n",
       "</style>\n",
       "<table border=\"1\" class=\"dataframe\">\n",
       "  <thead>\n",
       "    <tr style=\"text-align: right;\">\n",
       "      <th></th>\n",
       "      <th></th>\n",
       "      <th>InvoiceNo</th>\n",
       "      <th>StockCode</th>\n",
       "      <th>Description</th>\n",
       "      <th>Quantity</th>\n",
       "      <th>UnitPrice</th>\n",
       "      <th>CustomerID</th>\n",
       "    </tr>\n",
       "    <tr>\n",
       "      <th>InvoiceDate</th>\n",
       "      <th>Country</th>\n",
       "      <th></th>\n",
       "      <th></th>\n",
       "      <th></th>\n",
       "      <th></th>\n",
       "      <th></th>\n",
       "      <th></th>\n",
       "    </tr>\n",
       "  </thead>\n",
       "  <tbody>\n",
       "    <tr>\n",
       "      <th rowspan=\"5\" valign=\"top\">12/1/2010 8:26</th>\n",
       "      <th>United Kingdom</th>\n",
       "      <td>536365</td>\n",
       "      <td>85123A</td>\n",
       "      <td>WHITE HANGING HEART T-LIGHT HOLDER</td>\n",
       "      <td>6</td>\n",
       "      <td>2.55</td>\n",
       "      <td>17850.0</td>\n",
       "    </tr>\n",
       "    <tr>\n",
       "      <th>United Kingdom</th>\n",
       "      <td>536365</td>\n",
       "      <td>71053</td>\n",
       "      <td>WHITE METAL LANTERN</td>\n",
       "      <td>6</td>\n",
       "      <td>3.39</td>\n",
       "      <td>17850.0</td>\n",
       "    </tr>\n",
       "    <tr>\n",
       "      <th>United Kingdom</th>\n",
       "      <td>536365</td>\n",
       "      <td>84406B</td>\n",
       "      <td>CREAM CUPID HEARTS COAT HANGER</td>\n",
       "      <td>8</td>\n",
       "      <td>2.75</td>\n",
       "      <td>17850.0</td>\n",
       "    </tr>\n",
       "    <tr>\n",
       "      <th>United Kingdom</th>\n",
       "      <td>536365</td>\n",
       "      <td>84029G</td>\n",
       "      <td>KNITTED UNION FLAG HOT WATER BOTTLE</td>\n",
       "      <td>6</td>\n",
       "      <td>3.39</td>\n",
       "      <td>17850.0</td>\n",
       "    </tr>\n",
       "    <tr>\n",
       "      <th>United Kingdom</th>\n",
       "      <td>536365</td>\n",
       "      <td>84029E</td>\n",
       "      <td>RED WOOLLY HOTTIE WHITE HEART.</td>\n",
       "      <td>6</td>\n",
       "      <td>3.39</td>\n",
       "      <td>17850.0</td>\n",
       "    </tr>\n",
       "    <tr>\n",
       "      <th>...</th>\n",
       "      <th>...</th>\n",
       "      <td>...</td>\n",
       "      <td>...</td>\n",
       "      <td>...</td>\n",
       "      <td>...</td>\n",
       "      <td>...</td>\n",
       "      <td>...</td>\n",
       "    </tr>\n",
       "    <tr>\n",
       "      <th rowspan=\"5\" valign=\"top\">12/9/2011 12:50</th>\n",
       "      <th>France</th>\n",
       "      <td>581587</td>\n",
       "      <td>22613</td>\n",
       "      <td>PACK OF 20 SPACEBOY NAPKINS</td>\n",
       "      <td>12</td>\n",
       "      <td>0.85</td>\n",
       "      <td>12680.0</td>\n",
       "    </tr>\n",
       "    <tr>\n",
       "      <th>France</th>\n",
       "      <td>581587</td>\n",
       "      <td>22899</td>\n",
       "      <td>CHILDREN'S APRON DOLLY GIRL</td>\n",
       "      <td>6</td>\n",
       "      <td>2.10</td>\n",
       "      <td>12680.0</td>\n",
       "    </tr>\n",
       "    <tr>\n",
       "      <th>France</th>\n",
       "      <td>581587</td>\n",
       "      <td>23254</td>\n",
       "      <td>CHILDRENS CUTLERY DOLLY GIRL</td>\n",
       "      <td>4</td>\n",
       "      <td>4.15</td>\n",
       "      <td>12680.0</td>\n",
       "    </tr>\n",
       "    <tr>\n",
       "      <th>France</th>\n",
       "      <td>581587</td>\n",
       "      <td>23255</td>\n",
       "      <td>CHILDRENS CUTLERY CIRCUS PARADE</td>\n",
       "      <td>4</td>\n",
       "      <td>4.15</td>\n",
       "      <td>12680.0</td>\n",
       "    </tr>\n",
       "    <tr>\n",
       "      <th>France</th>\n",
       "      <td>581587</td>\n",
       "      <td>22138</td>\n",
       "      <td>BAKING SET 9 PIECE RETROSPOT</td>\n",
       "      <td>3</td>\n",
       "      <td>4.95</td>\n",
       "      <td>12680.0</td>\n",
       "    </tr>\n",
       "  </tbody>\n",
       "</table>\n",
       "<p>541909 rows × 6 columns</p>\n",
       "</div>"
      ],
      "text/plain": [
       "                               InvoiceNo StockCode  \\\n",
       "InvoiceDate     Country                              \n",
       "12/1/2010 8:26  United Kingdom    536365    85123A   \n",
       "                United Kingdom    536365     71053   \n",
       "                United Kingdom    536365    84406B   \n",
       "                United Kingdom    536365    84029G   \n",
       "                United Kingdom    536365    84029E   \n",
       "...                                  ...       ...   \n",
       "12/9/2011 12:50 France            581587     22613   \n",
       "                France            581587     22899   \n",
       "                France            581587     23254   \n",
       "                France            581587     23255   \n",
       "                France            581587     22138   \n",
       "\n",
       "                                                        Description  Quantity  \\\n",
       "InvoiceDate     Country                                                         \n",
       "12/1/2010 8:26  United Kingdom   WHITE HANGING HEART T-LIGHT HOLDER         6   \n",
       "                United Kingdom                  WHITE METAL LANTERN         6   \n",
       "                United Kingdom       CREAM CUPID HEARTS COAT HANGER         8   \n",
       "                United Kingdom  KNITTED UNION FLAG HOT WATER BOTTLE         6   \n",
       "                United Kingdom       RED WOOLLY HOTTIE WHITE HEART.         6   \n",
       "...                                                             ...       ...   \n",
       "12/9/2011 12:50 France                  PACK OF 20 SPACEBOY NAPKINS        12   \n",
       "                France                 CHILDREN'S APRON DOLLY GIRL          6   \n",
       "                France                CHILDRENS CUTLERY DOLLY GIRL          4   \n",
       "                France              CHILDRENS CUTLERY CIRCUS PARADE         4   \n",
       "                France                BAKING SET 9 PIECE RETROSPOT          3   \n",
       "\n",
       "                                UnitPrice  CustomerID  \n",
       "InvoiceDate     Country                                \n",
       "12/1/2010 8:26  United Kingdom       2.55     17850.0  \n",
       "                United Kingdom       3.39     17850.0  \n",
       "                United Kingdom       2.75     17850.0  \n",
       "                United Kingdom       3.39     17850.0  \n",
       "                United Kingdom       3.39     17850.0  \n",
       "...                                   ...         ...  \n",
       "12/9/2011 12:50 France               0.85     12680.0  \n",
       "                France               2.10     12680.0  \n",
       "                France               4.15     12680.0  \n",
       "                France               4.15     12680.0  \n",
       "                France               4.95     12680.0  \n",
       "\n",
       "[541909 rows x 6 columns]"
      ]
     },
     "execution_count": 8,
     "metadata": {},
     "output_type": "execute_result"
    }
   ],
   "source": [
    "sales_df = pd.read_csv('ecommerce_sales.csv', encoding='unicode_escape')\n",
    "sales_df.set_index(keys=['InvoiceDate', 'Country'], inplace=True)\n",
    "sales_df"
   ]
  },
  {
   "cell_type": "code",
   "execution_count": 10,
   "metadata": {},
   "outputs": [
    {
     "data": {
      "text/html": [
       "<div>\n",
       "<style scoped>\n",
       "    .dataframe tbody tr th:only-of-type {\n",
       "        vertical-align: middle;\n",
       "    }\n",
       "\n",
       "    .dataframe tbody tr th {\n",
       "        vertical-align: top;\n",
       "    }\n",
       "\n",
       "    .dataframe thead th {\n",
       "        text-align: right;\n",
       "    }\n",
       "</style>\n",
       "<table border=\"1\" class=\"dataframe\">\n",
       "  <thead>\n",
       "    <tr style=\"text-align: right;\">\n",
       "      <th></th>\n",
       "      <th></th>\n",
       "      <th>InvoiceNo</th>\n",
       "      <th>StockCode</th>\n",
       "      <th>Description</th>\n",
       "      <th>Quantity</th>\n",
       "      <th>UnitPrice</th>\n",
       "      <th>CustomerID</th>\n",
       "    </tr>\n",
       "    <tr>\n",
       "      <th>Date</th>\n",
       "      <th>Location</th>\n",
       "      <th></th>\n",
       "      <th></th>\n",
       "      <th></th>\n",
       "      <th></th>\n",
       "      <th></th>\n",
       "      <th></th>\n",
       "    </tr>\n",
       "  </thead>\n",
       "  <tbody>\n",
       "    <tr>\n",
       "      <th rowspan=\"5\" valign=\"top\">12/1/2010 8:26</th>\n",
       "      <th>United Kingdom</th>\n",
       "      <td>536365</td>\n",
       "      <td>85123A</td>\n",
       "      <td>WHITE HANGING HEART T-LIGHT HOLDER</td>\n",
       "      <td>6</td>\n",
       "      <td>2.55</td>\n",
       "      <td>17850.0</td>\n",
       "    </tr>\n",
       "    <tr>\n",
       "      <th>United Kingdom</th>\n",
       "      <td>536365</td>\n",
       "      <td>71053</td>\n",
       "      <td>WHITE METAL LANTERN</td>\n",
       "      <td>6</td>\n",
       "      <td>3.39</td>\n",
       "      <td>17850.0</td>\n",
       "    </tr>\n",
       "    <tr>\n",
       "      <th>United Kingdom</th>\n",
       "      <td>536365</td>\n",
       "      <td>84406B</td>\n",
       "      <td>CREAM CUPID HEARTS COAT HANGER</td>\n",
       "      <td>8</td>\n",
       "      <td>2.75</td>\n",
       "      <td>17850.0</td>\n",
       "    </tr>\n",
       "    <tr>\n",
       "      <th>United Kingdom</th>\n",
       "      <td>536365</td>\n",
       "      <td>84029G</td>\n",
       "      <td>KNITTED UNION FLAG HOT WATER BOTTLE</td>\n",
       "      <td>6</td>\n",
       "      <td>3.39</td>\n",
       "      <td>17850.0</td>\n",
       "    </tr>\n",
       "    <tr>\n",
       "      <th>United Kingdom</th>\n",
       "      <td>536365</td>\n",
       "      <td>84029E</td>\n",
       "      <td>RED WOOLLY HOTTIE WHITE HEART.</td>\n",
       "      <td>6</td>\n",
       "      <td>3.39</td>\n",
       "      <td>17850.0</td>\n",
       "    </tr>\n",
       "    <tr>\n",
       "      <th>...</th>\n",
       "      <th>...</th>\n",
       "      <td>...</td>\n",
       "      <td>...</td>\n",
       "      <td>...</td>\n",
       "      <td>...</td>\n",
       "      <td>...</td>\n",
       "      <td>...</td>\n",
       "    </tr>\n",
       "    <tr>\n",
       "      <th rowspan=\"5\" valign=\"top\">12/9/2011 12:50</th>\n",
       "      <th>France</th>\n",
       "      <td>581587</td>\n",
       "      <td>22613</td>\n",
       "      <td>PACK OF 20 SPACEBOY NAPKINS</td>\n",
       "      <td>12</td>\n",
       "      <td>0.85</td>\n",
       "      <td>12680.0</td>\n",
       "    </tr>\n",
       "    <tr>\n",
       "      <th>France</th>\n",
       "      <td>581587</td>\n",
       "      <td>22899</td>\n",
       "      <td>CHILDREN'S APRON DOLLY GIRL</td>\n",
       "      <td>6</td>\n",
       "      <td>2.10</td>\n",
       "      <td>12680.0</td>\n",
       "    </tr>\n",
       "    <tr>\n",
       "      <th>France</th>\n",
       "      <td>581587</td>\n",
       "      <td>23254</td>\n",
       "      <td>CHILDRENS CUTLERY DOLLY GIRL</td>\n",
       "      <td>4</td>\n",
       "      <td>4.15</td>\n",
       "      <td>12680.0</td>\n",
       "    </tr>\n",
       "    <tr>\n",
       "      <th>France</th>\n",
       "      <td>581587</td>\n",
       "      <td>23255</td>\n",
       "      <td>CHILDRENS CUTLERY CIRCUS PARADE</td>\n",
       "      <td>4</td>\n",
       "      <td>4.15</td>\n",
       "      <td>12680.0</td>\n",
       "    </tr>\n",
       "    <tr>\n",
       "      <th>France</th>\n",
       "      <td>581587</td>\n",
       "      <td>22138</td>\n",
       "      <td>BAKING SET 9 PIECE RETROSPOT</td>\n",
       "      <td>3</td>\n",
       "      <td>4.95</td>\n",
       "      <td>12680.0</td>\n",
       "    </tr>\n",
       "  </tbody>\n",
       "</table>\n",
       "<p>541909 rows × 6 columns</p>\n",
       "</div>"
      ],
      "text/plain": [
       "                               InvoiceNo StockCode  \\\n",
       "Date            Location                             \n",
       "12/1/2010 8:26  United Kingdom    536365    85123A   \n",
       "                United Kingdom    536365     71053   \n",
       "                United Kingdom    536365    84406B   \n",
       "                United Kingdom    536365    84029G   \n",
       "                United Kingdom    536365    84029E   \n",
       "...                                  ...       ...   \n",
       "12/9/2011 12:50 France            581587     22613   \n",
       "                France            581587     22899   \n",
       "                France            581587     23254   \n",
       "                France            581587     23255   \n",
       "                France            581587     22138   \n",
       "\n",
       "                                                        Description  Quantity  \\\n",
       "Date            Location                                                        \n",
       "12/1/2010 8:26  United Kingdom   WHITE HANGING HEART T-LIGHT HOLDER         6   \n",
       "                United Kingdom                  WHITE METAL LANTERN         6   \n",
       "                United Kingdom       CREAM CUPID HEARTS COAT HANGER         8   \n",
       "                United Kingdom  KNITTED UNION FLAG HOT WATER BOTTLE         6   \n",
       "                United Kingdom       RED WOOLLY HOTTIE WHITE HEART.         6   \n",
       "...                                                             ...       ...   \n",
       "12/9/2011 12:50 France                  PACK OF 20 SPACEBOY NAPKINS        12   \n",
       "                France                 CHILDREN'S APRON DOLLY GIRL          6   \n",
       "                France                CHILDRENS CUTLERY DOLLY GIRL          4   \n",
       "                France              CHILDRENS CUTLERY CIRCUS PARADE         4   \n",
       "                France                BAKING SET 9 PIECE RETROSPOT          3   \n",
       "\n",
       "                                UnitPrice  CustomerID  \n",
       "Date            Location                               \n",
       "12/1/2010 8:26  United Kingdom       2.55     17850.0  \n",
       "                United Kingdom       3.39     17850.0  \n",
       "                United Kingdom       2.75     17850.0  \n",
       "                United Kingdom       3.39     17850.0  \n",
       "                United Kingdom       3.39     17850.0  \n",
       "...                                   ...         ...  \n",
       "12/9/2011 12:50 France               0.85     12680.0  \n",
       "                France               2.10     12680.0  \n",
       "                France               4.15     12680.0  \n",
       "                France               4.15     12680.0  \n",
       "                France               4.95     12680.0  \n",
       "\n",
       "[541909 rows x 6 columns]"
      ]
     },
     "execution_count": 10,
     "metadata": {},
     "output_type": "execute_result"
    }
   ],
   "source": [
    "sales_df.index.set_names(names = ['Date', 'Location'], inplace=True)\n",
    "sales_df"
   ]
  },
  {
   "cell_type": "markdown",
   "metadata": {
    "id": "vHHj-T8RYnu8"
   },
   "source": [
    "# 5. MULTI-INDEXING OPERATIONS - PART #2"
   ]
  },
  {
   "cell_type": "code",
   "execution_count": null,
   "metadata": {
    "id": "BIuOHrxCctUX"
   },
   "outputs": [],
   "source": [
    "\n",
    "# Sort countries to start with alphabetical order\n"
   ]
  },
  {
   "cell_type": "code",
   "execution_count": null,
   "metadata": {
    "id": "UpKX3zQnmVf8"
   },
   "outputs": [],
   "source": [
    "# you can use a multi-index reference to access specific elements \n",
    "# Alternatively, you can use a column name instead \n"
   ]
  },
  {
   "cell_type": "code",
   "execution_count": null,
   "metadata": {
    "id": "0hK5lwwtmVh1"
   },
   "outputs": [],
   "source": [
    "# feed index as a tuple (important to avoid confusion)\n",
    "# first argument references rows and the second argument references a column\n"
   ]
  },
  {
   "cell_type": "code",
   "execution_count": null,
   "metadata": {
    "id": "aLsIvuMAbk-H"
   },
   "outputs": [],
   "source": []
  },
  {
   "cell_type": "code",
   "execution_count": null,
   "metadata": {
    "id": "sOQkkZZgoJnK"
   },
   "outputs": [],
   "source": [
    "# no issues with numeric indexing, you can use one index so no tuples are required\n"
   ]
  },
  {
   "cell_type": "code",
   "execution_count": null,
   "metadata": {
    "id": "Xk1YPclVoZ1Z"
   },
   "outputs": [],
   "source": [
    "# no issues with numeric indexing\n"
   ]
  },
  {
   "cell_type": "code",
   "execution_count": null,
   "metadata": {
    "id": "dar-a3ZjxN7e"
   },
   "outputs": [],
   "source": [
    "# You can use transpose to Transpose indexes and columns\n",
    "# reflect the DataFrame over its main diagonal by writing rows as columns and vice-versa. \n",
    "\n"
   ]
  },
  {
   "cell_type": "code",
   "execution_count": null,
   "metadata": {
    "id": "4DhO2mApy_Vq"
   },
   "outputs": [],
   "source": []
  },
  {
   "cell_type": "code",
   "execution_count": null,
   "metadata": {
    "id": "6isf4IJYxN-V"
   },
   "outputs": [],
   "source": []
  },
  {
   "cell_type": "code",
   "execution_count": null,
   "metadata": {
    "id": "CngUVV4GxOBF"
   },
   "outputs": [],
   "source": []
  },
  {
   "cell_type": "code",
   "execution_count": null,
   "metadata": {
    "id": "UJkl3xefxODI"
   },
   "outputs": [],
   "source": [
    "# Let's import the dataset again using Pandas\n"
   ]
  },
  {
   "cell_type": "code",
   "execution_count": null,
   "metadata": {
    "id": "kVNZH9HMxOFD"
   },
   "outputs": [],
   "source": []
  },
  {
   "cell_type": "code",
   "execution_count": null,
   "metadata": {
    "id": "YgfeY3DhxOIF"
   },
   "outputs": [],
   "source": [
    "# You can perform swaplevel as follows:\n"
   ]
  },
  {
   "cell_type": "code",
   "execution_count": null,
   "metadata": {
    "id": "GuduCmChdhPi"
   },
   "outputs": [],
   "source": [
    "# Perform swaplevel again:\n"
   ]
  },
  {
   "cell_type": "code",
   "execution_count": null,
   "metadata": {
    "id": "3T1BADdV0L_c"
   },
   "outputs": [],
   "source": [
    "# Please note that there is no point of adding [False, False] or [True, True]\n"
   ]
  },
  {
   "cell_type": "code",
   "execution_count": null,
   "metadata": {
    "id": "K7npiYCt0MC4"
   },
   "outputs": [],
   "source": []
  },
  {
   "cell_type": "code",
   "execution_count": null,
   "metadata": {
    "id": "A3l6wRId0MLN"
   },
   "outputs": [],
   "source": [
    "# only sort by that given level and ignore the others\n"
   ]
  },
  {
   "cell_type": "code",
   "execution_count": null,
   "metadata": {
    "id": "kwzW1ONg1mbE"
   },
   "outputs": [],
   "source": []
  },
  {
   "cell_type": "code",
   "execution_count": null,
   "metadata": {
    "id": "Tq4n7jTje9MQ"
   },
   "outputs": [],
   "source": []
  },
  {
   "cell_type": "markdown",
   "metadata": {
    "id": "kHRHQLLne907"
   },
   "source": [
    "**MINI CHALLENGE #5:**\n",
    "- **Calculate the average unit price for transactions occured in \"United Kingdom\" at \"12/1/2010 8:26\"**"
   ]
  },
  {
   "cell_type": "code",
   "execution_count": null,
   "metadata": {
    "id": "jDBN00YtfVsc"
   },
   "outputs": [],
   "source": []
  },
  {
   "cell_type": "markdown",
   "metadata": {
    "id": "Xq3Dbr58Mb3h"
   },
   "source": [
    "# MINI CHALLENGE SOLUTIONS"
   ]
  },
  {
   "cell_type": "markdown",
   "metadata": {
    "id": "_dIF3jt6MSyz"
   },
   "source": [
    "**MINI CHALLENGE #1 SOLUTION:**\n",
    "- **How many unique countries are present in the dataset? List all countries**"
   ]
  },
  {
   "cell_type": "code",
   "execution_count": null,
   "metadata": {
    "id": "CxYxMaTgMEW2"
   },
   "outputs": [],
   "source": [
    "sales_df['Country'].unique()"
   ]
  },
  {
   "cell_type": "code",
   "execution_count": null,
   "metadata": {
    "id": "Cj3Zofi_luXO"
   },
   "outputs": [],
   "source": [
    "# Obtain the number of unique values in each column\n",
    "sales_df.nunique()"
   ]
  },
  {
   "cell_type": "code",
   "execution_count": null,
   "metadata": {
    "id": "OpbPi_JqSBBl"
   },
   "outputs": [],
   "source": []
  },
  {
   "cell_type": "markdown",
   "metadata": {
    "id": "apyBbBUVR8dK"
   },
   "source": [
    "**MINI CHALLENGE #2 SOLUTION:**\n",
    "- **What is the average, maximum and minimum prices on 2010-12-01 08:34:00**"
   ]
  },
  {
   "cell_type": "code",
   "execution_count": null,
   "metadata": {
    "id": "fjYs-pP4Rqqd"
   },
   "outputs": [],
   "source": [
    "# Min = 0.72 and Max = 1.85\n",
    "sales_df.groupby('InvoiceDate')['UnitPrice'].min()"
   ]
  },
  {
   "cell_type": "code",
   "execution_count": null,
   "metadata": {
    "id": "KXdALgis2t8E"
   },
   "outputs": [],
   "source": [
    "sales_df.groupby('InvoiceDate')['UnitPrice'].max()"
   ]
  },
  {
   "cell_type": "code",
   "execution_count": null,
   "metadata": {
    "id": "0Tm5hCMxXfDp"
   },
   "outputs": [],
   "source": []
  },
  {
   "cell_type": "markdown",
   "metadata": {
    "id": "SWyjNrIEXZxk"
   },
   "source": [
    "**MINI CHALLENGE #3 SOLUTION:**\n",
    "- **Sort the DataFrame in a descending order (countries and dates)**"
   ]
  },
  {
   "cell_type": "code",
   "execution_count": null,
   "metadata": {
    "id": "vd0IobslVzMz"
   },
   "outputs": [],
   "source": [
    "# Please note that there is no point of adding [False, False] or [True, True]\n",
    "sales_df.sort_index(ascending = False, inplace = True)\n",
    "sales_df"
   ]
  },
  {
   "cell_type": "markdown",
   "metadata": {
    "id": "of5NvqfqaiXW"
   },
   "source": [
    "**MINI CHALLENGE #4 SOLUTION:**\n",
    "- **Use InvoiceDate and Country in order as the multi-index**\n",
    "- **Change the name of both indexes to \"Date\" and \"location\"**"
   ]
  },
  {
   "cell_type": "code",
   "execution_count": null,
   "metadata": {
    "id": "0Gf6f1e6YnQj"
   },
   "outputs": [],
   "source": [
    "sales_df = pd.read_csv('ecommerce_sales.csv', encoding = 'unicode_escape')\n",
    "sales_df.set_index(keys = [\"InvoiceDate\", \"Country\"], inplace = True)\n",
    "sales_df"
   ]
  },
  {
   "cell_type": "code",
   "execution_count": null,
   "metadata": {
    "id": "0OWcoXGi2EC3"
   },
   "outputs": [],
   "source": [
    "# You can change the names of the DataFrame by invoking the set_names method\n",
    "sales_df.index.set_names(names = ['Date', 'Location'], inplace = True)\n",
    "sales_df"
   ]
  },
  {
   "cell_type": "markdown",
   "metadata": {
    "id": "uXFvqt9PfPup"
   },
   "source": [
    "**MINI CHALLENGE #5 SOLUTION:**\n",
    "- **Calculate the average unit price for transactions occured in \"United Kingdom\" at \"12/1/2010 8:26\"**"
   ]
  },
  {
   "cell_type": "code",
   "execution_count": null,
   "metadata": {
    "id": "Mn8Tz0rz1me-"
   },
   "outputs": [],
   "source": [
    "# Let's import the dataset again using Pandas\n",
    "sales_df = pd.read_csv('ecommerce_sales.csv', encoding = 'unicode_escape')\n",
    "sales_df.set_index(keys = [\"Country\", \"InvoiceDate\"], inplace = True)\n",
    "\n",
    "\n",
    "print(sales_df.loc[(\"United Kingdom\", \"12/1/2010 8:26\"), \"UnitPrice\"])\n",
    "\n",
    "# feed index as a tuple (important to avoid confusion)\n",
    "# first argument references rows and the second argument references a column\n",
    "sales_df.loc[(\"United Kingdom\", \"12/1/2010 8:26\"), \"UnitPrice\"].mean()\n"
   ]
  }
 ],
 "metadata": {
  "colab": {
   "authorship_tag": "ABX9TyMNNWWedEgnRmDhKMr9Rfdc",
   "collapsed_sections": [],
   "name": "Pandas MultiIndexing & Groupby - Skeleton backup.ipynb",
   "provenance": []
  },
  "kernelspec": {
   "display_name": "Python 3 (ipykernel)",
   "language": "python",
   "name": "python3"
  },
  "language_info": {
   "codemirror_mode": {
    "name": "ipython",
    "version": 3
   },
   "file_extension": ".py",
   "mimetype": "text/x-python",
   "name": "python",
   "nbconvert_exporter": "python",
   "pygments_lexer": "ipython3",
   "version": "3.11.3"
  }
 },
 "nbformat": 4,
 "nbformat_minor": 1
}
