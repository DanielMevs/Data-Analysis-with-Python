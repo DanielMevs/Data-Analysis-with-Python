{
 "cells": [
  {
   "cell_type": "markdown",
   "metadata": {
    "id": "Azicxc7eswin"
   },
   "source": [
    "# 1. BASIC PYTHON DATETIME MODULE"
   ]
  },
  {
   "cell_type": "code",
   "execution_count": 1,
   "metadata": {
    "id": "0pSS3MBa2rUJ"
   },
   "outputs": [],
   "source": [
    "# datetime is one of Python's core standard libraries \n",
    "# We are going to use two methods to deal with dates/times: (1) date and (2) dateime\n",
    "# date: helps us define dates only without including time (month, day, year)\n",
    "# datetime: helps us define times and dates together (month, day, year, hour, second, microsecond)\n",
    "# Let's import datetime module as dt\n",
    "import pandas as pd\n",
    "import datetime as dt"
   ]
  },
  {
   "cell_type": "code",
   "execution_count": 2,
   "metadata": {
    "id": "Y1AOz1zns44L"
   },
   "outputs": [
    {
     "data": {
      "text/plain": [
       "datetime.date(2020, 3, 22)"
      ]
     },
     "execution_count": 2,
     "metadata": {},
     "output_type": "execute_result"
    }
   ],
   "source": [
    "# Pick a date using Python's date method inside the datetime module\n",
    "my_date = dt.date(2020, 3, 22)\n",
    "my_date"
   ]
  },
  {
   "cell_type": "code",
   "execution_count": 3,
   "metadata": {
    "id": "v7qSLVYts46b"
   },
   "outputs": [
    {
     "data": {
      "text/plain": [
       "datetime.date"
      ]
     },
     "execution_count": 3,
     "metadata": {},
     "output_type": "execute_result"
    }
   ],
   "source": [
    "# Check the data type (datetime object)\n",
    "type(my_date)"
   ]
  },
  {
   "cell_type": "code",
   "execution_count": 4,
   "metadata": {
    "id": "K6ju34njub2L"
   },
   "outputs": [
    {
     "data": {
      "text/plain": [
       "'2020-03-22'"
      ]
     },
     "execution_count": 4,
     "metadata": {},
     "output_type": "execute_result"
    }
   ],
   "source": [
    "# Convert it into string to view the date and time\n",
    "str(my_date)"
   ]
  },
  {
   "cell_type": "code",
   "execution_count": 5,
   "metadata": {
    "id": "AJTH-Ie4s48y"
   },
   "outputs": [
    {
     "data": {
      "text/plain": [
       "22"
      ]
     },
     "execution_count": 5,
     "metadata": {},
     "output_type": "execute_result"
    }
   ],
   "source": [
    "# Attribute day will return the day contained in the datetime object\n",
    "my_date.day"
   ]
  },
  {
   "cell_type": "code",
   "execution_count": 6,
   "metadata": {
    "id": "7p_ZgtQss4-v"
   },
   "outputs": [
    {
     "data": {
      "text/plain": [
       "3"
      ]
     },
     "execution_count": 6,
     "metadata": {},
     "output_type": "execute_result"
    }
   ],
   "source": [
    "# Month attribute will return the month contained in the datetime object\n",
    "my_date.month"
   ]
  },
  {
   "cell_type": "code",
   "execution_count": 7,
   "metadata": {
    "id": "B3eMUWlqs5A1"
   },
   "outputs": [
    {
     "data": {
      "text/plain": [
       "2020"
      ]
     },
     "execution_count": 7,
     "metadata": {},
     "output_type": "execute_result"
    }
   ],
   "source": [
    "# year attribute will return the year contained in the datetime object\n",
    "my_date.year"
   ]
  },
  {
   "cell_type": "code",
   "execution_count": 8,
   "metadata": {
    "id": "YEvHXbdks5DG"
   },
   "outputs": [],
   "source": [
    "# Let's define a datetime using datetime method as follows\n",
    "my_datetime = dt.datetime(2020, 3, 22, 8, 20, 50)"
   ]
  },
  {
   "cell_type": "code",
   "execution_count": 10,
   "metadata": {},
   "outputs": [
    {
     "data": {
      "text/plain": [
       "'2020-03-22 08:20:50'"
      ]
     },
     "execution_count": 10,
     "metadata": {},
     "output_type": "execute_result"
    }
   ],
   "source": [
    "# - Convert it into string to view the date time\n",
    "str(my_datetime)"
   ]
  },
  {
   "cell_type": "code",
   "execution_count": 11,
   "metadata": {
    "id": "x0k3Ku8Os5Fd"
   },
   "outputs": [
    {
     "data": {
      "text/plain": [
       "8"
      ]
     },
     "execution_count": 11,
     "metadata": {},
     "output_type": "execute_result"
    }
   ],
   "source": [
    "# Obtain the hour contained in the datetime object\n",
    "my_datetime.hour"
   ]
  },
  {
   "cell_type": "code",
   "execution_count": 12,
   "metadata": {
    "id": "OgGX520fs5IG"
   },
   "outputs": [
    {
     "data": {
      "text/plain": [
       "20"
      ]
     },
     "execution_count": 12,
     "metadata": {},
     "output_type": "execute_result"
    }
   ],
   "source": [
    "# Obtain the minutes contained in the datetime object\n",
    "my_datetime.minute"
   ]
  },
  {
   "cell_type": "code",
   "execution_count": 13,
   "metadata": {
    "id": "xwrRCXpts5KW"
   },
   "outputs": [
    {
     "name": "stdout",
     "output_type": "stream",
     "text": [
      "     March 2021\n",
      "Mo Tu We Th Fr Sa Su\n",
      " 1  2  3  4  5  6  7\n",
      " 8  9 10 11 12 13 14\n",
      "15 16 17 18 19 20 21\n",
      "22 23 24 25 26 27 28\n",
      "29 30 31\n",
      "\n"
     ]
    }
   ],
   "source": [
    "# print out calendar!\n",
    "import calendar\n",
    "print(calendar.month(2021, 3))"
   ]
  },
  {
   "cell_type": "code",
   "execution_count": 14,
   "metadata": {
    "id": "J93BnJPdwG8Z"
   },
   "outputs": [
    {
     "data": {
      "text/plain": [
       "0         2020/03/22\n",
       "1         2020-08-25\n",
       "2    March 22nd 2020\n",
       "dtype: object"
      ]
     },
     "execution_count": 14,
     "metadata": {},
     "output_type": "execute_result"
    }
   ],
   "source": [
    "# You can also use pd.datetime to convert a regular Pandas Series into datetime as follows:\n",
    "dates = pd.Series(['2020/03/22', '2020-08-25', 'March 22nd 2020'])\n",
    "dates"
   ]
  },
  {
   "cell_type": "code",
   "execution_count": 15,
   "metadata": {
    "id": "5D5F0rzPwG-a"
   },
   "outputs": [
    {
     "data": {
      "text/plain": [
       "0   2020-03-22\n",
       "1   2020-08-25\n",
       "2   2020-03-22\n",
       "dtype: datetime64[ns]"
      ]
     },
     "execution_count": 15,
     "metadata": {},
     "output_type": "execute_result"
    }
   ],
   "source": [
    "# The to_datetime() method converts the date and time in string format to a DateTime object:\n",
    "my_dates = pd.to_datetime(dates)\n",
    "my_dates"
   ]
  },
  {
   "cell_type": "markdown",
   "metadata": {
    "id": "kbr9clmQ5WUk"
   },
   "source": [
    "**MINI CHALLENGE #1:**\n",
    "- **Use Python's datetime method to write your date and time of your birth! Convert it into string format**"
   ]
  },
  {
   "cell_type": "code",
   "execution_count": 16,
   "metadata": {
    "id": "h02MiRhS5n86"
   },
   "outputs": [
    {
     "data": {
      "text/plain": [
       "'1992-10-25 08:09:20'"
      ]
     },
     "execution_count": 16,
     "metadata": {},
     "output_type": "execute_result"
    }
   ],
   "source": [
    "import datetime as dt\n",
    "my_birth = dt.datetime(1992, 10, 25, 8, 9, 20)\n",
    "str(my_birth)"
   ]
  },
  {
   "cell_type": "markdown",
   "metadata": {
    "id": "IhF0O0zXuxT1"
   },
   "source": [
    "# 2. HANDLING DATES AND TIMES USING PANDAS "
   ]
  },
  {
   "cell_type": "code",
   "execution_count": 2,
   "metadata": {
    "id": "LAHEi5Q1w53a"
   },
   "outputs": [
    {
     "data": {
      "text/plain": [
       "Timestamp('2020-03-22 00:00:00')"
      ]
     },
     "execution_count": 2,
     "metadata": {},
     "output_type": "execute_result"
    }
   ],
   "source": [
    "# Timestamp is the pandas equivalent of python’s Datetime and is interchangeable with it in most cases. \n",
    "# It’s the type used for the entries that make up a DatetimeIndex, and other timeseries oriented data structures in pandas.\n",
    "# Check this out: https://pandas.pydata.org/docs/reference/api/pandas.Timestamp.html\n",
    "pd.Timestamp('2020-3-22')"
   ]
  },
  {
   "cell_type": "code",
   "execution_count": 3,
   "metadata": {
    "id": "dqiHOkhrxaNr"
   },
   "outputs": [
    {
     "data": {
      "text/plain": [
       "Timestamp('2020-03-22 10:00:00')"
      ]
     },
     "execution_count": 3,
     "metadata": {},
     "output_type": "execute_result"
    }
   ],
   "source": [
    "pd.Timestamp('2020, 3, 22, 10')"
   ]
  },
  {
   "cell_type": "code",
   "execution_count": 4,
   "metadata": {
    "id": "35dsjcjrx0D5"
   },
   "outputs": [
    {
     "data": {
      "text/plain": [
       "Timestamp('2020-03-22 08:20:50')"
      ]
     },
     "execution_count": 4,
     "metadata": {},
     "output_type": "execute_result"
    }
   ],
   "source": [
    "# Or you can define a Pandas Timestamp using Python datetime object \n",
    "pd.Timestamp(dt.datetime(2020, 3, 22, 8, 20, 50))"
   ]
  },
  {
   "cell_type": "code",
   "execution_count": 5,
   "metadata": {
    "id": "td8kITUAE3YH"
   },
   "outputs": [
    {
     "name": "stdout",
     "output_type": "stream",
     "text": [
      "8401 days 00:00:00\n"
     ]
    }
   ],
   "source": [
    "# Calculate difference between two dates\n",
    "day_1 = pd.Timestamp('1998, 3, 22, 10')\n",
    "day_2 = pd.Timestamp('2021, 3, 22, 10')\n",
    "delta = day_2 - day_1\n",
    "print(delta)"
   ]
  },
  {
   "cell_type": "code",
   "execution_count": 6,
   "metadata": {
    "id": "AL1PFalLu6f6"
   },
   "outputs": [],
   "source": [
    "# Let's define 3 dates for 3 separate transactions\n",
    "date_1 = dt.date(2020, 3, 22)\n",
    "date_2 = dt.date(2020, 4, 22)\n",
    "date_3 = dt.date(2020, 5, 22)"
   ]
  },
  {
   "cell_type": "code",
   "execution_count": 7,
   "metadata": {
    "id": "RMWAfRpHu1KO"
   },
   "outputs": [],
   "source": [
    "# Let's put the 3 dates in a list as follows\n",
    "dates_list = [date_1, date_2, date_3]\n",
    "\n",
    "# Use Pandas DateTimeIndex to convert the list into datetime datatype as follows\n",
    "# Datetime index constructor method creates a collection of dates\n",
    "dates_index = pd.DatetimeIndex(dates_list)"
   ]
  },
  {
   "cell_type": "code",
   "execution_count": 8,
   "metadata": {
    "id": "Pkc4X8d8vYp9"
   },
   "outputs": [
    {
     "data": {
      "text/plain": [
       "DatetimeIndex(['2020-03-22', '2020-04-22', '2020-05-22'], dtype='datetime64[ns]', freq=None)"
      ]
     },
     "execution_count": 8,
     "metadata": {},
     "output_type": "execute_result"
    }
   ],
   "source": [
    "dates_index"
   ]
  },
  {
   "cell_type": "code",
   "execution_count": 9,
   "metadata": {
    "id": "T44po-w-u3vg"
   },
   "outputs": [],
   "source": [
    "# Define a list that carries 3 values corresponding to store sales\n",
    "sales = [50, 55, 60]"
   ]
  },
  {
   "cell_type": "code",
   "execution_count": 10,
   "metadata": {
    "id": "Cc_GFSRYu3x5"
   },
   "outputs": [
    {
     "data": {
      "text/plain": [
       "2020-03-22    50\n",
       "2020-04-22    55\n",
       "2020-05-22    60\n",
       "dtype: int64"
      ]
     },
     "execution_count": 10,
     "metadata": {},
     "output_type": "execute_result"
    }
   ],
   "source": [
    "# Define a Pandas Series using datetime and values as follows:\n",
    "sales = pd.Series(data=sales, index=dates_index)\n",
    "sales"
   ]
  },
  {
   "cell_type": "code",
   "execution_count": 12,
   "metadata": {
    "id": "AjqYmkTJwHA4"
   },
   "outputs": [
    {
     "data": {
      "text/plain": [
       "DatetimeIndex(['2020-01-01', '2020-01-02', '2020-01-03', '2020-01-04',\n",
       "               '2020-01-05', '2020-01-06', '2020-01-07', '2020-01-08',\n",
       "               '2020-01-09', '2020-01-10', '2020-01-11', '2020-01-12',\n",
       "               '2020-01-13', '2020-01-14', '2020-01-15', '2020-01-16',\n",
       "               '2020-01-17', '2020-01-18', '2020-01-19', '2020-01-20',\n",
       "               '2020-01-21', '2020-01-22', '2020-01-23', '2020-01-24',\n",
       "               '2020-01-25', '2020-01-26', '2020-01-27', '2020-01-28',\n",
       "               '2020-01-29', '2020-01-30', '2020-01-31', '2020-02-01',\n",
       "               '2020-02-02', '2020-02-03', '2020-02-04', '2020-02-05',\n",
       "               '2020-02-06', '2020-02-07', '2020-02-08', '2020-02-09',\n",
       "               '2020-02-10', '2020-02-11', '2020-02-12', '2020-02-13',\n",
       "               '2020-02-14', '2020-02-15', '2020-02-16', '2020-02-17',\n",
       "               '2020-02-18', '2020-02-19', '2020-02-20', '2020-02-21',\n",
       "               '2020-02-22', '2020-02-23', '2020-02-24', '2020-02-25',\n",
       "               '2020-02-26', '2020-02-27', '2020-02-28', '2020-02-29',\n",
       "               '2020-03-01', '2020-03-02', '2020-03-03', '2020-03-04',\n",
       "               '2020-03-05', '2020-03-06', '2020-03-07', '2020-03-08',\n",
       "               '2020-03-09', '2020-03-10', '2020-03-11', '2020-03-12',\n",
       "               '2020-03-13', '2020-03-14', '2020-03-15', '2020-03-16',\n",
       "               '2020-03-17', '2020-03-18', '2020-03-19', '2020-03-20',\n",
       "               '2020-03-21', '2020-03-22', '2020-03-23', '2020-03-24',\n",
       "               '2020-03-25', '2020-03-26', '2020-03-27', '2020-03-28',\n",
       "               '2020-03-29', '2020-03-30', '2020-03-31', '2020-04-01'],\n",
       "              dtype='datetime64[ns]', freq='D')"
      ]
     },
     "execution_count": 12,
     "metadata": {},
     "output_type": "execute_result"
    }
   ],
   "source": [
    "# you can also define a range of dates as follows:\n",
    "my_days = pd.date_range(start='2020-01-01', end='2020-04-01', freq='D')\n",
    "my_days"
   ]
  },
  {
   "cell_type": "code",
   "execution_count": 13,
   "metadata": {
    "id": "oa2FdXw9wHC1"
   },
   "outputs": [
    {
     "data": {
      "text/plain": [
       "pandas.core.indexes.datetimes.DatetimeIndex"
      ]
     },
     "execution_count": 13,
     "metadata": {},
     "output_type": "execute_result"
    }
   ],
   "source": [
    "# Datatype is a datetimeindex (which is a collection of dates!)\n",
    "type(my_days)"
   ]
  },
  {
   "cell_type": "code",
   "execution_count": 15,
   "metadata": {
    "id": "L0nzpo8KwHE1"
   },
   "outputs": [
    {
     "data": {
      "text/plain": [
       "pandas._libs.tslibs.timestamps.Timestamp"
      ]
     },
     "execution_count": 15,
     "metadata": {},
     "output_type": "execute_result"
    }
   ],
   "source": [
    "# If you pick any sample date, it's represented in timestamp datatype\n",
    "my_days[4]\n",
    "type(my_days[4])"
   ]
  },
  {
   "cell_type": "code",
   "execution_count": 16,
   "metadata": {
    "id": "QZcDmwfVwHHB"
   },
   "outputs": [
    {
     "data": {
      "text/plain": [
       "DatetimeIndex(['2020-01-31', '2020-02-29', '2020-03-31', '2020-04-30',\n",
       "               '2020-05-31', '2020-06-30', '2020-07-31'],\n",
       "              dtype='datetime64[ns]', freq='M')"
      ]
     },
     "execution_count": 16,
     "metadata": {},
     "output_type": "execute_result"
    }
   ],
   "source": [
    "# you can also define a range of dates using M which stands for month end as follows:\n",
    "my_days = pd.date_range(start='2020-01-01', end='2020-08-01', freq='M')\n",
    "my_days"
   ]
  },
  {
   "cell_type": "code",
   "execution_count": 17,
   "metadata": {
    "id": "uYTptOj-wHLa"
   },
   "outputs": [
    {
     "data": {
      "text/plain": [
       "DatetimeIndex(['2020-01-01', '2020-01-02', '2020-01-03', '2020-01-04',\n",
       "               '2020-01-05', '2020-01-06', '2020-01-07', '2020-01-08',\n",
       "               '2020-01-09', '2020-01-10', '2020-01-11', '2020-01-12',\n",
       "               '2020-01-13', '2020-01-14', '2020-01-15', '2020-01-16',\n",
       "               '2020-01-17', '2020-01-18', '2020-01-19', '2020-01-20'],\n",
       "              dtype='datetime64[ns]', freq='D')"
      ]
     },
     "execution_count": 17,
     "metadata": {},
     "output_type": "execute_result"
    }
   ],
   "source": [
    "# Alternative way of defining a list of dates\n",
    "pd.date_range(start='2020-01-01', periods=20, freq='D')"
   ]
  },
  {
   "cell_type": "markdown",
   "metadata": {
    "id": "BHMfOyBs9gS7"
   },
   "source": [
    "**MINI CHALLENGE #2:**\n",
    "- **Obtain the business days between 2020-01-01 and 2020-04-01**"
   ]
  },
  {
   "cell_type": "code",
   "execution_count": 18,
   "metadata": {
    "id": "IaW6dZor9zkz"
   },
   "outputs": [
    {
     "data": {
      "text/plain": [
       "DatetimeIndex(['2020-01-01', '2020-01-02', '2020-01-03', '2020-01-06',\n",
       "               '2020-01-07', '2020-01-08', '2020-01-09', '2020-01-10',\n",
       "               '2020-01-13', '2020-01-14', '2020-01-15', '2020-01-16',\n",
       "               '2020-01-17', '2020-01-20', '2020-01-21', '2020-01-22',\n",
       "               '2020-01-23', '2020-01-24', '2020-01-27', '2020-01-28',\n",
       "               '2020-01-29', '2020-01-30', '2020-01-31', '2020-02-03',\n",
       "               '2020-02-04', '2020-02-05', '2020-02-06', '2020-02-07',\n",
       "               '2020-02-10', '2020-02-11', '2020-02-12', '2020-02-13',\n",
       "               '2020-02-14', '2020-02-17', '2020-02-18', '2020-02-19',\n",
       "               '2020-02-20', '2020-02-21', '2020-02-24', '2020-02-25',\n",
       "               '2020-02-26', '2020-02-27', '2020-02-28', '2020-03-02',\n",
       "               '2020-03-03', '2020-03-04', '2020-03-05', '2020-03-06',\n",
       "               '2020-03-09', '2020-03-10', '2020-03-11', '2020-03-12',\n",
       "               '2020-03-13', '2020-03-16', '2020-03-17', '2020-03-18',\n",
       "               '2020-03-19', '2020-03-20', '2020-03-23', '2020-03-24',\n",
       "               '2020-03-25', '2020-03-26', '2020-03-27', '2020-03-30',\n",
       "               '2020-03-31', '2020-04-01'],\n",
       "              dtype='datetime64[ns]', freq='B')"
      ]
     },
     "execution_count": 18,
     "metadata": {},
     "output_type": "execute_result"
    }
   ],
   "source": [
    "my_days = pd.date_range(start='2020-01-01', end='2020-04-01', freq='B')\n",
    "my_days"
   ]
  },
  {
   "cell_type": "markdown",
   "metadata": {
    "id": "U3R2xjdR0x5-"
   },
   "source": [
    "# 3. DATETIME IN ACTION! PRACTICAL EXAMPLE PART #1"
   ]
  },
  {
   "cell_type": "code",
   "execution_count": 46,
   "metadata": {
    "id": "1NjpBi756zak"
   },
   "outputs": [
    {
     "data": {
      "text/html": [
       "<div>\n",
       "<style scoped>\n",
       "    .dataframe tbody tr th:only-of-type {\n",
       "        vertical-align: middle;\n",
       "    }\n",
       "\n",
       "    .dataframe tbody tr th {\n",
       "        vertical-align: top;\n",
       "    }\n",
       "\n",
       "    .dataframe thead th {\n",
       "        text-align: right;\n",
       "    }\n",
       "</style>\n",
       "<table border=\"1\" class=\"dataframe\">\n",
       "  <thead>\n",
       "    <tr style=\"text-align: right;\">\n",
       "      <th></th>\n",
       "      <th>Date</th>\n",
       "      <th>AveragePrice</th>\n",
       "      <th>Total Volume</th>\n",
       "      <th>type</th>\n",
       "      <th>region</th>\n",
       "    </tr>\n",
       "  </thead>\n",
       "  <tbody>\n",
       "    <tr>\n",
       "      <th>0</th>\n",
       "      <td>2015-12-27</td>\n",
       "      <td>1.33</td>\n",
       "      <td>64236.62</td>\n",
       "      <td>conventional</td>\n",
       "      <td>Albany</td>\n",
       "    </tr>\n",
       "    <tr>\n",
       "      <th>1</th>\n",
       "      <td>2015-12-20</td>\n",
       "      <td>1.35</td>\n",
       "      <td>54876.98</td>\n",
       "      <td>conventional</td>\n",
       "      <td>Albany</td>\n",
       "    </tr>\n",
       "    <tr>\n",
       "      <th>2</th>\n",
       "      <td>2015-12-13</td>\n",
       "      <td>0.93</td>\n",
       "      <td>118220.22</td>\n",
       "      <td>conventional</td>\n",
       "      <td>Albany</td>\n",
       "    </tr>\n",
       "    <tr>\n",
       "      <th>3</th>\n",
       "      <td>2015-12-06</td>\n",
       "      <td>1.08</td>\n",
       "      <td>78992.15</td>\n",
       "      <td>conventional</td>\n",
       "      <td>Albany</td>\n",
       "    </tr>\n",
       "    <tr>\n",
       "      <th>4</th>\n",
       "      <td>2015-11-29</td>\n",
       "      <td>1.28</td>\n",
       "      <td>51039.60</td>\n",
       "      <td>conventional</td>\n",
       "      <td>Albany</td>\n",
       "    </tr>\n",
       "    <tr>\n",
       "      <th>...</th>\n",
       "      <td>...</td>\n",
       "      <td>...</td>\n",
       "      <td>...</td>\n",
       "      <td>...</td>\n",
       "      <td>...</td>\n",
       "    </tr>\n",
       "    <tr>\n",
       "      <th>18244</th>\n",
       "      <td>2018-02-04</td>\n",
       "      <td>1.63</td>\n",
       "      <td>17074.83</td>\n",
       "      <td>organic</td>\n",
       "      <td>WestTexNewMexico</td>\n",
       "    </tr>\n",
       "    <tr>\n",
       "      <th>18245</th>\n",
       "      <td>2018-01-28</td>\n",
       "      <td>1.71</td>\n",
       "      <td>13888.04</td>\n",
       "      <td>organic</td>\n",
       "      <td>WestTexNewMexico</td>\n",
       "    </tr>\n",
       "    <tr>\n",
       "      <th>18246</th>\n",
       "      <td>2018-01-21</td>\n",
       "      <td>1.87</td>\n",
       "      <td>13766.76</td>\n",
       "      <td>organic</td>\n",
       "      <td>WestTexNewMexico</td>\n",
       "    </tr>\n",
       "    <tr>\n",
       "      <th>18247</th>\n",
       "      <td>2018-01-14</td>\n",
       "      <td>1.93</td>\n",
       "      <td>16205.22</td>\n",
       "      <td>organic</td>\n",
       "      <td>WestTexNewMexico</td>\n",
       "    </tr>\n",
       "    <tr>\n",
       "      <th>18248</th>\n",
       "      <td>2018-01-07</td>\n",
       "      <td>1.62</td>\n",
       "      <td>17489.58</td>\n",
       "      <td>organic</td>\n",
       "      <td>WestTexNewMexico</td>\n",
       "    </tr>\n",
       "  </tbody>\n",
       "</table>\n",
       "<p>18249 rows × 5 columns</p>\n",
       "</div>"
      ],
      "text/plain": [
       "            Date  AveragePrice  Total Volume          type            region\n",
       "0     2015-12-27          1.33      64236.62  conventional            Albany\n",
       "1     2015-12-20          1.35      54876.98  conventional            Albany\n",
       "2     2015-12-13          0.93     118220.22  conventional            Albany\n",
       "3     2015-12-06          1.08      78992.15  conventional            Albany\n",
       "4     2015-11-29          1.28      51039.60  conventional            Albany\n",
       "...          ...           ...           ...           ...               ...\n",
       "18244 2018-02-04          1.63      17074.83       organic  WestTexNewMexico\n",
       "18245 2018-01-28          1.71      13888.04       organic  WestTexNewMexico\n",
       "18246 2018-01-21          1.87      13766.76       organic  WestTexNewMexico\n",
       "18247 2018-01-14          1.93      16205.22       organic  WestTexNewMexico\n",
       "18248 2018-01-07          1.62      17489.58       organic  WestTexNewMexico\n",
       "\n",
       "[18249 rows x 5 columns]"
      ]
     },
     "execution_count": 46,
     "metadata": {},
     "output_type": "execute_result"
    }
   ],
   "source": [
    "# dataframes creation for both training and testing datasets \n",
    "avocado_df = pd.read_csv('avocado.csv')\n",
    "avocado_df\n",
    "\n",
    "# Convert date column to datetime format\n",
    "avocado_df['Date'] = pd.to_datetime(avocado_df['Date'])\n",
    "avocado_df\n",
    "\n",
    "# Date: The date of the observation\n",
    "# AveragePrice: the average price of a single avocado\n",
    "# type: conventional or organic\n",
    "# Region: the city or region of the observation\n",
    "# Total Volume: Total number of avocados sold\n"
   ]
  },
  {
   "cell_type": "code",
   "execution_count": 21,
   "metadata": {
    "id": "yf_fG1Ef9vQs"
   },
   "outputs": [
    {
     "name": "stdout",
     "output_type": "stream",
     "text": [
      "<class 'pandas.core.frame.DataFrame'>\n",
      "RangeIndex: 18249 entries, 0 to 18248\n",
      "Data columns (total 5 columns):\n",
      " #   Column        Non-Null Count  Dtype         \n",
      "---  ------        --------------  -----         \n",
      " 0   Date          18249 non-null  datetime64[ns]\n",
      " 1   AveragePrice  18249 non-null  float64       \n",
      " 2   Total Volume  18249 non-null  float64       \n",
      " 3   type          18249 non-null  object        \n",
      " 4   region        18249 non-null  object        \n",
      "dtypes: datetime64[ns](1), float64(2), object(2)\n",
      "memory usage: 713.0+ KB\n"
     ]
    }
   ],
   "source": [
    "avocado_df.info()"
   ]
  },
  {
   "cell_type": "code",
   "execution_count": 47,
   "metadata": {
    "id": "nVtAGtzM8JIs"
   },
   "outputs": [],
   "source": [
    "# You can select any column to be the index for the DataFrame\n",
    "avocado_df.set_index(keys=['Date'], inplace=True)"
   ]
  },
  {
   "cell_type": "code",
   "execution_count": 31,
   "metadata": {},
   "outputs": [
    {
     "data": {
      "text/html": [
       "<div>\n",
       "<style scoped>\n",
       "    .dataframe tbody tr th:only-of-type {\n",
       "        vertical-align: middle;\n",
       "    }\n",
       "\n",
       "    .dataframe tbody tr th {\n",
       "        vertical-align: top;\n",
       "    }\n",
       "\n",
       "    .dataframe thead th {\n",
       "        text-align: right;\n",
       "    }\n",
       "</style>\n",
       "<table border=\"1\" class=\"dataframe\">\n",
       "  <thead>\n",
       "    <tr style=\"text-align: right;\">\n",
       "      <th></th>\n",
       "      <th>AveragePrice</th>\n",
       "      <th>Total Volume</th>\n",
       "      <th>type</th>\n",
       "      <th>region</th>\n",
       "    </tr>\n",
       "    <tr>\n",
       "      <th>Date</th>\n",
       "      <th></th>\n",
       "      <th></th>\n",
       "      <th></th>\n",
       "      <th></th>\n",
       "    </tr>\n",
       "  </thead>\n",
       "  <tbody>\n",
       "    <tr>\n",
       "      <th>2015-12-27</th>\n",
       "      <td>1.33</td>\n",
       "      <td>64236.62</td>\n",
       "      <td>conventional</td>\n",
       "      <td>Albany</td>\n",
       "    </tr>\n",
       "    <tr>\n",
       "      <th>2015-12-20</th>\n",
       "      <td>1.35</td>\n",
       "      <td>54876.98</td>\n",
       "      <td>conventional</td>\n",
       "      <td>Albany</td>\n",
       "    </tr>\n",
       "    <tr>\n",
       "      <th>2015-12-13</th>\n",
       "      <td>0.93</td>\n",
       "      <td>118220.22</td>\n",
       "      <td>conventional</td>\n",
       "      <td>Albany</td>\n",
       "    </tr>\n",
       "    <tr>\n",
       "      <th>2015-12-06</th>\n",
       "      <td>1.08</td>\n",
       "      <td>78992.15</td>\n",
       "      <td>conventional</td>\n",
       "      <td>Albany</td>\n",
       "    </tr>\n",
       "    <tr>\n",
       "      <th>2015-11-29</th>\n",
       "      <td>1.28</td>\n",
       "      <td>51039.60</td>\n",
       "      <td>conventional</td>\n",
       "      <td>Albany</td>\n",
       "    </tr>\n",
       "    <tr>\n",
       "      <th>2015-11-22</th>\n",
       "      <td>1.26</td>\n",
       "      <td>55979.78</td>\n",
       "      <td>conventional</td>\n",
       "      <td>Albany</td>\n",
       "    </tr>\n",
       "    <tr>\n",
       "      <th>2015-11-15</th>\n",
       "      <td>0.99</td>\n",
       "      <td>83453.76</td>\n",
       "      <td>conventional</td>\n",
       "      <td>Albany</td>\n",
       "    </tr>\n",
       "    <tr>\n",
       "      <th>2015-11-08</th>\n",
       "      <td>0.98</td>\n",
       "      <td>109428.33</td>\n",
       "      <td>conventional</td>\n",
       "      <td>Albany</td>\n",
       "    </tr>\n",
       "    <tr>\n",
       "      <th>2015-11-01</th>\n",
       "      <td>1.02</td>\n",
       "      <td>99811.42</td>\n",
       "      <td>conventional</td>\n",
       "      <td>Albany</td>\n",
       "    </tr>\n",
       "    <tr>\n",
       "      <th>2015-10-25</th>\n",
       "      <td>1.07</td>\n",
       "      <td>74338.76</td>\n",
       "      <td>conventional</td>\n",
       "      <td>Albany</td>\n",
       "    </tr>\n",
       "  </tbody>\n",
       "</table>\n",
       "</div>"
      ],
      "text/plain": [
       "            AveragePrice  Total Volume          type  region\n",
       "Date                                                        \n",
       "2015-12-27          1.33      64236.62  conventional  Albany\n",
       "2015-12-20          1.35      54876.98  conventional  Albany\n",
       "2015-12-13          0.93     118220.22  conventional  Albany\n",
       "2015-12-06          1.08      78992.15  conventional  Albany\n",
       "2015-11-29          1.28      51039.60  conventional  Albany\n",
       "2015-11-22          1.26      55979.78  conventional  Albany\n",
       "2015-11-15          0.99      83453.76  conventional  Albany\n",
       "2015-11-08          0.98     109428.33  conventional  Albany\n",
       "2015-11-01          1.02      99811.42  conventional  Albany\n",
       "2015-10-25          1.07      74338.76  conventional  Albany"
      ]
     },
     "execution_count": 31,
     "metadata": {},
     "output_type": "execute_result"
    }
   ],
   "source": [
    "avocado_df.head(10)"
   ]
  },
  {
   "cell_type": "code",
   "execution_count": 24,
   "metadata": {
    "id": "KTN4aJhw6zdL"
   },
   "outputs": [
    {
     "data": {
      "text/plain": [
       "array([[1.33, 64236.62, 'conventional', 'Albany'],\n",
       "       [1.35, 54876.98, 'conventional', 'Albany'],\n",
       "       [0.93, 118220.22, 'conventional', 'Albany'],\n",
       "       ...,\n",
       "       [1.87, 13766.76, 'organic', 'WestTexNewMexico'],\n",
       "       [1.93, 16205.22, 'organic', 'WestTexNewMexico'],\n",
       "       [1.62, 17489.58, 'organic', 'WestTexNewMexico']], dtype=object)"
      ]
     },
     "execution_count": 24,
     "metadata": {},
     "output_type": "execute_result"
    }
   ],
   "source": [
    "avocado_df.values"
   ]
  },
  {
   "cell_type": "code",
   "execution_count": 25,
   "metadata": {
    "id": "Ey4dPiMy6zfX"
   },
   "outputs": [
    {
     "data": {
      "text/plain": [
       "Index(['AveragePrice', 'Total Volume', 'type', 'region'], dtype='object')"
      ]
     },
     "execution_count": 25,
     "metadata": {},
     "output_type": "execute_result"
    }
   ],
   "source": [
    "avocado_df.columns"
   ]
  },
  {
   "cell_type": "code",
   "execution_count": 26,
   "metadata": {
    "id": "SyWOD0bh6zhW"
   },
   "outputs": [
    {
     "data": {
      "text/plain": [
       "DatetimeIndex(['2015-12-27', '2015-12-20', '2015-12-13', '2015-12-06',\n",
       "               '2015-11-29', '2015-11-22', '2015-11-15', '2015-11-08',\n",
       "               '2015-11-01', '2015-10-25',\n",
       "               ...\n",
       "               '2018-03-11', '2018-03-04', '2018-02-25', '2018-02-18',\n",
       "               '2018-02-11', '2018-02-04', '2018-01-28', '2018-01-21',\n",
       "               '2018-01-14', '2018-01-07'],\n",
       "              dtype='datetime64[ns]', name='Date', length=18249, freq=None)"
      ]
     },
     "execution_count": 26,
     "metadata": {},
     "output_type": "execute_result"
    }
   ],
   "source": [
    "avocado_df.index"
   ]
  },
  {
   "cell_type": "markdown",
   "metadata": {
    "id": "0DYU3FMZ_Yk9"
   },
   "source": [
    "**MINI CHALLENGE #3:**\n",
    "- **What are the datatypes of each column in the avocado_df DataFrame?**"
   ]
  },
  {
   "cell_type": "code",
   "execution_count": 27,
   "metadata": {
    "id": "_VXt8bNK_9Lg"
   },
   "outputs": [
    {
     "name": "stdout",
     "output_type": "stream",
     "text": [
      "<class 'pandas.core.frame.DataFrame'>\n",
      "DatetimeIndex: 18249 entries, 2015-12-27 to 2018-01-07\n",
      "Data columns (total 4 columns):\n",
      " #   Column        Non-Null Count  Dtype  \n",
      "---  ------        --------------  -----  \n",
      " 0   AveragePrice  18249 non-null  float64\n",
      " 1   Total Volume  18249 non-null  float64\n",
      " 2   type          18249 non-null  object \n",
      " 3   region        18249 non-null  object \n",
      "dtypes: float64(2), object(2)\n",
      "memory usage: 712.9+ KB\n"
     ]
    }
   ],
   "source": [
    "avocado_df.info()"
   ]
  },
  {
   "cell_type": "code",
   "execution_count": 28,
   "metadata": {
    "id": "bcBpISZb6rio",
    "scrolled": true
   },
   "outputs": [
    {
     "name": "stdout",
     "output_type": "stream",
     "text": [
      "<class 'pandas.core.frame.DataFrame'>\n",
      "RangeIndex: 18249 entries, 0 to 18248\n",
      "Data columns (total 5 columns):\n",
      " #   Column        Non-Null Count  Dtype  \n",
      "---  ------        --------------  -----  \n",
      " 0   Date          18249 non-null  object \n",
      " 1   AveragePrice  18249 non-null  float64\n",
      " 2   Total Volume  18249 non-null  float64\n",
      " 3   type          18249 non-null  object \n",
      " 4   region        18249 non-null  object \n",
      "dtypes: float64(2), object(3)\n",
      "memory usage: 713.0+ KB\n"
     ]
    }
   ],
   "source": [
    "avocado_df = pd.read_csv('avocado.csv')\n",
    "avocado_df.info()"
   ]
  },
  {
   "cell_type": "markdown",
   "metadata": {
    "id": "_Tiuffmn-2kR"
   },
   "source": [
    "# 4. DATETIME IN ACTION! PRACTICAL EXAMPLE PART #2"
   ]
  },
  {
   "cell_type": "code",
   "execution_count": 44,
   "metadata": {
    "id": "O-R350EbA6XK"
   },
   "outputs": [
    {
     "data": {
      "text/html": [
       "<div>\n",
       "<style scoped>\n",
       "    .dataframe tbody tr th:only-of-type {\n",
       "        vertical-align: middle;\n",
       "    }\n",
       "\n",
       "    .dataframe tbody tr th {\n",
       "        vertical-align: top;\n",
       "    }\n",
       "\n",
       "    .dataframe thead th {\n",
       "        text-align: right;\n",
       "    }\n",
       "</style>\n",
       "<table border=\"1\" class=\"dataframe\">\n",
       "  <thead>\n",
       "    <tr style=\"text-align: right;\">\n",
       "      <th></th>\n",
       "      <th>Date</th>\n",
       "      <th>AveragePrice</th>\n",
       "      <th>Total Volume</th>\n",
       "      <th>type</th>\n",
       "      <th>region</th>\n",
       "    </tr>\n",
       "  </thead>\n",
       "  <tbody>\n",
       "    <tr>\n",
       "      <th>0</th>\n",
       "      <td>2015-12-27</td>\n",
       "      <td>1.33</td>\n",
       "      <td>64236.62</td>\n",
       "      <td>conventional</td>\n",
       "      <td>Albany</td>\n",
       "    </tr>\n",
       "    <tr>\n",
       "      <th>1</th>\n",
       "      <td>2015-12-20</td>\n",
       "      <td>1.35</td>\n",
       "      <td>54876.98</td>\n",
       "      <td>conventional</td>\n",
       "      <td>Albany</td>\n",
       "    </tr>\n",
       "    <tr>\n",
       "      <th>2</th>\n",
       "      <td>2015-12-13</td>\n",
       "      <td>0.93</td>\n",
       "      <td>118220.22</td>\n",
       "      <td>conventional</td>\n",
       "      <td>Albany</td>\n",
       "    </tr>\n",
       "    <tr>\n",
       "      <th>3</th>\n",
       "      <td>2015-12-06</td>\n",
       "      <td>1.08</td>\n",
       "      <td>78992.15</td>\n",
       "      <td>conventional</td>\n",
       "      <td>Albany</td>\n",
       "    </tr>\n",
       "    <tr>\n",
       "      <th>4</th>\n",
       "      <td>2015-11-29</td>\n",
       "      <td>1.28</td>\n",
       "      <td>51039.60</td>\n",
       "      <td>conventional</td>\n",
       "      <td>Albany</td>\n",
       "    </tr>\n",
       "    <tr>\n",
       "      <th>5</th>\n",
       "      <td>2015-11-22</td>\n",
       "      <td>1.26</td>\n",
       "      <td>55979.78</td>\n",
       "      <td>conventional</td>\n",
       "      <td>Albany</td>\n",
       "    </tr>\n",
       "    <tr>\n",
       "      <th>6</th>\n",
       "      <td>2015-11-15</td>\n",
       "      <td>0.99</td>\n",
       "      <td>83453.76</td>\n",
       "      <td>conventional</td>\n",
       "      <td>Albany</td>\n",
       "    </tr>\n",
       "    <tr>\n",
       "      <th>7</th>\n",
       "      <td>2015-11-08</td>\n",
       "      <td>0.98</td>\n",
       "      <td>109428.33</td>\n",
       "      <td>conventional</td>\n",
       "      <td>Albany</td>\n",
       "    </tr>\n",
       "    <tr>\n",
       "      <th>8</th>\n",
       "      <td>2015-11-01</td>\n",
       "      <td>1.02</td>\n",
       "      <td>99811.42</td>\n",
       "      <td>conventional</td>\n",
       "      <td>Albany</td>\n",
       "    </tr>\n",
       "    <tr>\n",
       "      <th>9</th>\n",
       "      <td>2015-10-25</td>\n",
       "      <td>1.07</td>\n",
       "      <td>74338.76</td>\n",
       "      <td>conventional</td>\n",
       "      <td>Albany</td>\n",
       "    </tr>\n",
       "  </tbody>\n",
       "</table>\n",
       "</div>"
      ],
      "text/plain": [
       "        Date  AveragePrice  Total Volume          type  region\n",
       "0 2015-12-27          1.33      64236.62  conventional  Albany\n",
       "1 2015-12-20          1.35      54876.98  conventional  Albany\n",
       "2 2015-12-13          0.93     118220.22  conventional  Albany\n",
       "3 2015-12-06          1.08      78992.15  conventional  Albany\n",
       "4 2015-11-29          1.28      51039.60  conventional  Albany\n",
       "5 2015-11-22          1.26      55979.78  conventional  Albany\n",
       "6 2015-11-15          0.99      83453.76  conventional  Albany\n",
       "7 2015-11-08          0.98     109428.33  conventional  Albany\n",
       "8 2015-11-01          1.02      99811.42  conventional  Albany\n",
       "9 2015-10-25          1.07      74338.76  conventional  Albany"
      ]
     },
     "execution_count": 44,
     "metadata": {},
     "output_type": "execute_result"
    }
   ],
   "source": [
    "avocado_df.head(10)"
   ]
  },
  {
   "cell_type": "code",
   "execution_count": 48,
   "metadata": {
    "id": "9mD5ActQ6zn0"
   },
   "outputs": [
    {
     "data": {
      "text/html": [
       "<div>\n",
       "<style scoped>\n",
       "    .dataframe tbody tr th:only-of-type {\n",
       "        vertical-align: middle;\n",
       "    }\n",
       "\n",
       "    .dataframe tbody tr th {\n",
       "        vertical-align: top;\n",
       "    }\n",
       "\n",
       "    .dataframe thead th {\n",
       "        text-align: right;\n",
       "    }\n",
       "</style>\n",
       "<table border=\"1\" class=\"dataframe\">\n",
       "  <thead>\n",
       "    <tr style=\"text-align: right;\">\n",
       "      <th></th>\n",
       "      <th>AveragePrice</th>\n",
       "      <th>Total Volume</th>\n",
       "      <th>type</th>\n",
       "      <th>region</th>\n",
       "    </tr>\n",
       "    <tr>\n",
       "      <th>Date</th>\n",
       "      <th></th>\n",
       "      <th></th>\n",
       "      <th></th>\n",
       "      <th></th>\n",
       "    </tr>\n",
       "  </thead>\n",
       "  <tbody>\n",
       "    <tr>\n",
       "      <th>2018-01-21</th>\n",
       "      <td>1.69</td>\n",
       "      <td>135196.35</td>\n",
       "      <td>conventional</td>\n",
       "      <td>Albany</td>\n",
       "    </tr>\n",
       "    <tr>\n",
       "      <th>2018-01-21</th>\n",
       "      <td>1.10</td>\n",
       "      <td>639421.29</td>\n",
       "      <td>conventional</td>\n",
       "      <td>Atlanta</td>\n",
       "    </tr>\n",
       "    <tr>\n",
       "      <th>2018-01-21</th>\n",
       "      <td>1.18</td>\n",
       "      <td>1102213.13</td>\n",
       "      <td>conventional</td>\n",
       "      <td>BaltimoreWashington</td>\n",
       "    </tr>\n",
       "    <tr>\n",
       "      <th>2018-01-21</th>\n",
       "      <td>1.25</td>\n",
       "      <td>88727.77</td>\n",
       "      <td>conventional</td>\n",
       "      <td>Boise</td>\n",
       "    </tr>\n",
       "    <tr>\n",
       "      <th>2018-01-21</th>\n",
       "      <td>1.12</td>\n",
       "      <td>999783.13</td>\n",
       "      <td>conventional</td>\n",
       "      <td>Boston</td>\n",
       "    </tr>\n",
       "    <tr>\n",
       "      <th>...</th>\n",
       "      <td>...</td>\n",
       "      <td>...</td>\n",
       "      <td>...</td>\n",
       "      <td>...</td>\n",
       "    </tr>\n",
       "    <tr>\n",
       "      <th>2018-01-21</th>\n",
       "      <td>1.27</td>\n",
       "      <td>3159.80</td>\n",
       "      <td>organic</td>\n",
       "      <td>Syracuse</td>\n",
       "    </tr>\n",
       "    <tr>\n",
       "      <th>2018-01-21</th>\n",
       "      <td>1.52</td>\n",
       "      <td>6871.05</td>\n",
       "      <td>organic</td>\n",
       "      <td>Tampa</td>\n",
       "    </tr>\n",
       "    <tr>\n",
       "      <th>2018-01-21</th>\n",
       "      <td>1.63</td>\n",
       "      <td>1283987.65</td>\n",
       "      <td>organic</td>\n",
       "      <td>TotalUS</td>\n",
       "    </tr>\n",
       "    <tr>\n",
       "      <th>2018-01-21</th>\n",
       "      <td>1.83</td>\n",
       "      <td>189317.99</td>\n",
       "      <td>organic</td>\n",
       "      <td>West</td>\n",
       "    </tr>\n",
       "    <tr>\n",
       "      <th>2018-01-21</th>\n",
       "      <td>1.87</td>\n",
       "      <td>13766.76</td>\n",
       "      <td>organic</td>\n",
       "      <td>WestTexNewMexico</td>\n",
       "    </tr>\n",
       "  </tbody>\n",
       "</table>\n",
       "<p>108 rows × 4 columns</p>\n",
       "</div>"
      ],
      "text/plain": [
       "            AveragePrice  Total Volume          type               region\n",
       "Date                                                                     \n",
       "2018-01-21          1.69     135196.35  conventional               Albany\n",
       "2018-01-21          1.10     639421.29  conventional              Atlanta\n",
       "2018-01-21          1.18    1102213.13  conventional  BaltimoreWashington\n",
       "2018-01-21          1.25      88727.77  conventional                Boise\n",
       "2018-01-21          1.12     999783.13  conventional               Boston\n",
       "...                  ...           ...           ...                  ...\n",
       "2018-01-21          1.27       3159.80       organic             Syracuse\n",
       "2018-01-21          1.52       6871.05       organic                Tampa\n",
       "2018-01-21          1.63    1283987.65       organic              TotalUS\n",
       "2018-01-21          1.83     189317.99       organic                 West\n",
       "2018-01-21          1.87      13766.76       organic     WestTexNewMexico\n",
       "\n",
       "[108 rows x 4 columns]"
      ]
     },
     "execution_count": 48,
     "metadata": {},
     "output_type": "execute_result"
    }
   ],
   "source": [
    "# access elements with a specific datetime index using .loc\n",
    "avocado_df.loc['2018-01-21']"
   ]
  },
  {
   "cell_type": "code",
   "execution_count": 49,
   "metadata": {
    "id": "KOjDPhv68lez"
   },
   "outputs": [
    {
     "data": {
      "text/plain": [
       "AveragePrice            1.26\n",
       "Total Volume        55979.78\n",
       "type            conventional\n",
       "region                Albany\n",
       "Name: 2015-11-22 00:00:00, dtype: object"
      ]
     },
     "execution_count": 49,
     "metadata": {},
     "output_type": "execute_result"
    }
   ],
   "source": [
    "# You can use iloc if you decide to use numeric indexes\n",
    "avocado_df.iloc[5]"
   ]
  },
  {
   "cell_type": "code",
   "execution_count": 50,
   "metadata": {
    "id": "emKJuvvw8qtf"
   },
   "outputs": [
    {
     "data": {
      "text/html": [
       "<div>\n",
       "<style scoped>\n",
       "    .dataframe tbody tr th:only-of-type {\n",
       "        vertical-align: middle;\n",
       "    }\n",
       "\n",
       "    .dataframe tbody tr th {\n",
       "        vertical-align: top;\n",
       "    }\n",
       "\n",
       "    .dataframe thead th {\n",
       "        text-align: right;\n",
       "    }\n",
       "</style>\n",
       "<table border=\"1\" class=\"dataframe\">\n",
       "  <thead>\n",
       "    <tr style=\"text-align: right;\">\n",
       "      <th></th>\n",
       "      <th>AveragePrice</th>\n",
       "      <th>Total Volume</th>\n",
       "      <th>type</th>\n",
       "      <th>region</th>\n",
       "    </tr>\n",
       "    <tr>\n",
       "      <th>Date</th>\n",
       "      <th></th>\n",
       "      <th></th>\n",
       "      <th></th>\n",
       "      <th></th>\n",
       "    </tr>\n",
       "  </thead>\n",
       "  <tbody>\n",
       "    <tr>\n",
       "      <th>2015-01-25</th>\n",
       "      <td>1.06</td>\n",
       "      <td>45147.50</td>\n",
       "      <td>conventional</td>\n",
       "      <td>Albany</td>\n",
       "    </tr>\n",
       "    <tr>\n",
       "      <th>2015-01-18</th>\n",
       "      <td>1.17</td>\n",
       "      <td>44511.28</td>\n",
       "      <td>conventional</td>\n",
       "      <td>Albany</td>\n",
       "    </tr>\n",
       "    <tr>\n",
       "      <th>2015-01-11</th>\n",
       "      <td>1.24</td>\n",
       "      <td>41195.08</td>\n",
       "      <td>conventional</td>\n",
       "      <td>Albany</td>\n",
       "    </tr>\n",
       "    <tr>\n",
       "      <th>2015-01-04</th>\n",
       "      <td>1.22</td>\n",
       "      <td>40873.28</td>\n",
       "      <td>conventional</td>\n",
       "      <td>Albany</td>\n",
       "    </tr>\n",
       "    <tr>\n",
       "      <th>2015-01-25</th>\n",
       "      <td>1.10</td>\n",
       "      <td>449332.85</td>\n",
       "      <td>conventional</td>\n",
       "      <td>Atlanta</td>\n",
       "    </tr>\n",
       "    <tr>\n",
       "      <th>...</th>\n",
       "      <td>...</td>\n",
       "      <td>...</td>\n",
       "      <td>...</td>\n",
       "      <td>...</td>\n",
       "    </tr>\n",
       "    <tr>\n",
       "      <th>2015-01-04</th>\n",
       "      <td>1.40</td>\n",
       "      <td>187548.30</td>\n",
       "      <td>organic</td>\n",
       "      <td>West</td>\n",
       "    </tr>\n",
       "    <tr>\n",
       "      <th>2015-01-25</th>\n",
       "      <td>1.63</td>\n",
       "      <td>7324.06</td>\n",
       "      <td>organic</td>\n",
       "      <td>WestTexNewMexico</td>\n",
       "    </tr>\n",
       "    <tr>\n",
       "      <th>2015-01-18</th>\n",
       "      <td>1.71</td>\n",
       "      <td>5508.20</td>\n",
       "      <td>organic</td>\n",
       "      <td>WestTexNewMexico</td>\n",
       "    </tr>\n",
       "    <tr>\n",
       "      <th>2015-01-11</th>\n",
       "      <td>1.69</td>\n",
       "      <td>6861.73</td>\n",
       "      <td>organic</td>\n",
       "      <td>WestTexNewMexico</td>\n",
       "    </tr>\n",
       "    <tr>\n",
       "      <th>2015-01-04</th>\n",
       "      <td>1.64</td>\n",
       "      <td>6182.81</td>\n",
       "      <td>organic</td>\n",
       "      <td>WestTexNewMexico</td>\n",
       "    </tr>\n",
       "  </tbody>\n",
       "</table>\n",
       "<p>432 rows × 4 columns</p>\n",
       "</div>"
      ],
      "text/plain": [
       "            AveragePrice  Total Volume          type            region\n",
       "Date                                                                  \n",
       "2015-01-25          1.06      45147.50  conventional            Albany\n",
       "2015-01-18          1.17      44511.28  conventional            Albany\n",
       "2015-01-11          1.24      41195.08  conventional            Albany\n",
       "2015-01-04          1.22      40873.28  conventional            Albany\n",
       "2015-01-25          1.10     449332.85  conventional           Atlanta\n",
       "...                  ...           ...           ...               ...\n",
       "2015-01-04          1.40     187548.30       organic              West\n",
       "2015-01-25          1.63       7324.06       organic  WestTexNewMexico\n",
       "2015-01-18          1.71       5508.20       organic  WestTexNewMexico\n",
       "2015-01-11          1.69       6861.73       organic  WestTexNewMexico\n",
       "2015-01-04          1.64       6182.81       organic  WestTexNewMexico\n",
       "\n",
       "[432 rows x 4 columns]"
      ]
     },
     "execution_count": 50,
     "metadata": {},
     "output_type": "execute_result"
    }
   ],
   "source": [
    "# Access more than one element within a given date range\n",
    "avocado_df.loc['2015-01-04':'2015-01-25']"
   ]
  },
  {
   "cell_type": "code",
   "execution_count": 51,
   "metadata": {
    "id": "W1X2fquY88di"
   },
   "outputs": [
    {
     "data": {
      "text/html": [
       "<div>\n",
       "<style scoped>\n",
       "    .dataframe tbody tr th:only-of-type {\n",
       "        vertical-align: middle;\n",
       "    }\n",
       "\n",
       "    .dataframe tbody tr th {\n",
       "        vertical-align: top;\n",
       "    }\n",
       "\n",
       "    .dataframe thead th {\n",
       "        text-align: right;\n",
       "    }\n",
       "</style>\n",
       "<table border=\"1\" class=\"dataframe\">\n",
       "  <thead>\n",
       "    <tr style=\"text-align: right;\">\n",
       "      <th></th>\n",
       "      <th>AveragePrice</th>\n",
       "      <th>Total Volume</th>\n",
       "      <th>type</th>\n",
       "      <th>region</th>\n",
       "    </tr>\n",
       "    <tr>\n",
       "      <th>Date</th>\n",
       "      <th></th>\n",
       "      <th></th>\n",
       "      <th></th>\n",
       "      <th></th>\n",
       "    </tr>\n",
       "  </thead>\n",
       "  <tbody>\n",
       "    <tr>\n",
       "      <th>2017-01-01</th>\n",
       "      <td>1.23</td>\n",
       "      <td>66616.54</td>\n",
       "      <td>organic</td>\n",
       "      <td>SouthCentral</td>\n",
       "    </tr>\n",
       "    <tr>\n",
       "      <th>2017-01-01</th>\n",
       "      <td>1.34</td>\n",
       "      <td>36915.87</td>\n",
       "      <td>organic</td>\n",
       "      <td>Chicago</td>\n",
       "    </tr>\n",
       "    <tr>\n",
       "      <th>2017-01-01</th>\n",
       "      <td>1.06</td>\n",
       "      <td>15669.84</td>\n",
       "      <td>organic</td>\n",
       "      <td>DallasFtWorth</td>\n",
       "    </tr>\n",
       "    <tr>\n",
       "      <th>2017-01-01</th>\n",
       "      <td>1.43</td>\n",
       "      <td>49777.56</td>\n",
       "      <td>organic</td>\n",
       "      <td>Southeast</td>\n",
       "    </tr>\n",
       "    <tr>\n",
       "      <th>2017-01-01</th>\n",
       "      <td>1.51</td>\n",
       "      <td>3969.98</td>\n",
       "      <td>organic</td>\n",
       "      <td>Roanoke</td>\n",
       "    </tr>\n",
       "    <tr>\n",
       "      <th>...</th>\n",
       "      <td>...</td>\n",
       "      <td>...</td>\n",
       "      <td>...</td>\n",
       "      <td>...</td>\n",
       "    </tr>\n",
       "    <tr>\n",
       "      <th>2018-01-28</th>\n",
       "      <td>1.70</td>\n",
       "      <td>4300.76</td>\n",
       "      <td>organic</td>\n",
       "      <td>Spokane</td>\n",
       "    </tr>\n",
       "    <tr>\n",
       "      <th>2018-01-28</th>\n",
       "      <td>1.20</td>\n",
       "      <td>2278728.69</td>\n",
       "      <td>conventional</td>\n",
       "      <td>NewYork</td>\n",
       "    </tr>\n",
       "    <tr>\n",
       "      <th>2018-01-28</th>\n",
       "      <td>1.43</td>\n",
       "      <td>7669.31</td>\n",
       "      <td>organic</td>\n",
       "      <td>Columbus</td>\n",
       "    </tr>\n",
       "    <tr>\n",
       "      <th>2018-01-28</th>\n",
       "      <td>1.34</td>\n",
       "      <td>486679.98</td>\n",
       "      <td>conventional</td>\n",
       "      <td>Portland</td>\n",
       "    </tr>\n",
       "    <tr>\n",
       "      <th>2018-01-28</th>\n",
       "      <td>1.34</td>\n",
       "      <td>548587.07</td>\n",
       "      <td>conventional</td>\n",
       "      <td>Seattle</td>\n",
       "    </tr>\n",
       "  </tbody>\n",
       "</table>\n",
       "<p>6154 rows × 4 columns</p>\n",
       "</div>"
      ],
      "text/plain": [
       "            AveragePrice  Total Volume          type         region\n",
       "Date                                                               \n",
       "2017-01-01          1.23      66616.54       organic   SouthCentral\n",
       "2017-01-01          1.34      36915.87       organic        Chicago\n",
       "2017-01-01          1.06      15669.84       organic  DallasFtWorth\n",
       "2017-01-01          1.43      49777.56       organic      Southeast\n",
       "2017-01-01          1.51       3969.98       organic        Roanoke\n",
       "...                  ...           ...           ...            ...\n",
       "2018-01-28          1.70       4300.76       organic        Spokane\n",
       "2018-01-28          1.20    2278728.69  conventional        NewYork\n",
       "2018-01-28          1.43       7669.31       organic       Columbus\n",
       "2018-01-28          1.34     486679.98  conventional       Portland\n",
       "2018-01-28          1.34     548587.07  conventional        Seattle\n",
       "\n",
       "[6154 rows x 4 columns]"
      ]
     },
     "execution_count": 51,
     "metadata": {},
     "output_type": "execute_result"
    }
   ],
   "source": [
    "# Truncate a sorted DataFrame given index bounds.\n",
    "# Make sure to sort the dataframe before applying truncate \n",
    "avocado_df.sort_index(inplace=True)\n",
    "avocado_df.truncate('2017-01-01', '2018-02-01')"
   ]
  },
  {
   "cell_type": "code",
   "execution_count": 52,
   "metadata": {
    "id": "WI_Dkrgp92RF"
   },
   "outputs": [],
   "source": [
    "# you can offset (shift) all dates by days or month as follows\n",
    "avocado_df.index = avocado_df.index + pd.DateOffset(months=12, days=30)\n"
   ]
  },
  {
   "cell_type": "code",
   "execution_count": 53,
   "metadata": {
    "id": "drn-hO-c_Qa1"
   },
   "outputs": [
    {
     "data": {
      "text/html": [
       "<div>\n",
       "<style scoped>\n",
       "    .dataframe tbody tr th:only-of-type {\n",
       "        vertical-align: middle;\n",
       "    }\n",
       "\n",
       "    .dataframe tbody tr th {\n",
       "        vertical-align: top;\n",
       "    }\n",
       "\n",
       "    .dataframe thead th {\n",
       "        text-align: right;\n",
       "    }\n",
       "</style>\n",
       "<table border=\"1\" class=\"dataframe\">\n",
       "  <thead>\n",
       "    <tr style=\"text-align: right;\">\n",
       "      <th></th>\n",
       "      <th>AveragePrice</th>\n",
       "      <th>Total Volume</th>\n",
       "      <th>type</th>\n",
       "      <th>region</th>\n",
       "    </tr>\n",
       "    <tr>\n",
       "      <th>Date</th>\n",
       "      <th></th>\n",
       "      <th></th>\n",
       "      <th></th>\n",
       "      <th></th>\n",
       "    </tr>\n",
       "  </thead>\n",
       "  <tbody>\n",
       "    <tr>\n",
       "      <th>2016-02-03</th>\n",
       "      <td>1.75</td>\n",
       "      <td>27365.89</td>\n",
       "      <td>organic</td>\n",
       "      <td>Southeast</td>\n",
       "    </tr>\n",
       "    <tr>\n",
       "      <th>2016-02-03</th>\n",
       "      <td>1.49</td>\n",
       "      <td>17723.17</td>\n",
       "      <td>organic</td>\n",
       "      <td>Chicago</td>\n",
       "    </tr>\n",
       "    <tr>\n",
       "      <th>2016-02-03</th>\n",
       "      <td>1.68</td>\n",
       "      <td>2896.72</td>\n",
       "      <td>organic</td>\n",
       "      <td>HarrisburgScranton</td>\n",
       "    </tr>\n",
       "    <tr>\n",
       "      <th>2016-02-03</th>\n",
       "      <td>1.52</td>\n",
       "      <td>54956.80</td>\n",
       "      <td>conventional</td>\n",
       "      <td>Pittsburgh</td>\n",
       "    </tr>\n",
       "    <tr>\n",
       "      <th>2016-02-03</th>\n",
       "      <td>1.64</td>\n",
       "      <td>1505.12</td>\n",
       "      <td>organic</td>\n",
       "      <td>Boise</td>\n",
       "    </tr>\n",
       "    <tr>\n",
       "      <th>...</th>\n",
       "      <td>...</td>\n",
       "      <td>...</td>\n",
       "      <td>...</td>\n",
       "      <td>...</td>\n",
       "    </tr>\n",
       "    <tr>\n",
       "      <th>2019-04-24</th>\n",
       "      <td>1.36</td>\n",
       "      <td>908202.13</td>\n",
       "      <td>conventional</td>\n",
       "      <td>Chicago</td>\n",
       "    </tr>\n",
       "    <tr>\n",
       "      <th>2019-04-24</th>\n",
       "      <td>0.70</td>\n",
       "      <td>9010588.32</td>\n",
       "      <td>conventional</td>\n",
       "      <td>SouthCentral</td>\n",
       "    </tr>\n",
       "    <tr>\n",
       "      <th>2019-04-24</th>\n",
       "      <td>1.42</td>\n",
       "      <td>163496.70</td>\n",
       "      <td>organic</td>\n",
       "      <td>SouthCentral</td>\n",
       "    </tr>\n",
       "    <tr>\n",
       "      <th>2019-04-24</th>\n",
       "      <td>1.70</td>\n",
       "      <td>190257.38</td>\n",
       "      <td>organic</td>\n",
       "      <td>California</td>\n",
       "    </tr>\n",
       "    <tr>\n",
       "      <th>2019-04-24</th>\n",
       "      <td>1.34</td>\n",
       "      <td>1774776.77</td>\n",
       "      <td>conventional</td>\n",
       "      <td>NewYork</td>\n",
       "    </tr>\n",
       "  </tbody>\n",
       "</table>\n",
       "<p>18249 rows × 4 columns</p>\n",
       "</div>"
      ],
      "text/plain": [
       "            AveragePrice  Total Volume          type              region\n",
       "Date                                                                    \n",
       "2016-02-03          1.75      27365.89       organic           Southeast\n",
       "2016-02-03          1.49      17723.17       organic             Chicago\n",
       "2016-02-03          1.68       2896.72       organic  HarrisburgScranton\n",
       "2016-02-03          1.52      54956.80  conventional          Pittsburgh\n",
       "2016-02-03          1.64       1505.12       organic               Boise\n",
       "...                  ...           ...           ...                 ...\n",
       "2019-04-24          1.36     908202.13  conventional             Chicago\n",
       "2019-04-24          0.70    9010588.32  conventional        SouthCentral\n",
       "2019-04-24          1.42     163496.70       organic        SouthCentral\n",
       "2019-04-24          1.70     190257.38       organic          California\n",
       "2019-04-24          1.34    1774776.77  conventional             NewYork\n",
       "\n",
       "[18249 rows x 4 columns]"
      ]
     },
     "execution_count": 53,
     "metadata": {},
     "output_type": "execute_result"
    }
   ],
   "source": [
    "avocado_df"
   ]
  },
  {
   "cell_type": "code",
   "execution_count": 55,
   "metadata": {
    "id": "wqeXpBc7N3O5"
   },
   "outputs": [
    {
     "data": {
      "text/html": [
       "<div>\n",
       "<style scoped>\n",
       "    .dataframe tbody tr th:only-of-type {\n",
       "        vertical-align: middle;\n",
       "    }\n",
       "\n",
       "    .dataframe tbody tr th {\n",
       "        vertical-align: top;\n",
       "    }\n",
       "\n",
       "    .dataframe thead th {\n",
       "        text-align: right;\n",
       "    }\n",
       "</style>\n",
       "<table border=\"1\" class=\"dataframe\">\n",
       "  <thead>\n",
       "    <tr style=\"text-align: right;\">\n",
       "      <th></th>\n",
       "      <th>AveragePrice</th>\n",
       "      <th>Total Volume</th>\n",
       "      <th>type</th>\n",
       "      <th>region</th>\n",
       "    </tr>\n",
       "    <tr>\n",
       "      <th>Date</th>\n",
       "      <th></th>\n",
       "      <th></th>\n",
       "      <th></th>\n",
       "      <th></th>\n",
       "    </tr>\n",
       "  </thead>\n",
       "  <tbody>\n",
       "    <tr>\n",
       "      <th>2015-01-29</th>\n",
       "      <td>1.75</td>\n",
       "      <td>27365.89</td>\n",
       "      <td>organic</td>\n",
       "      <td>Southeast</td>\n",
       "    </tr>\n",
       "    <tr>\n",
       "      <th>2015-01-29</th>\n",
       "      <td>1.49</td>\n",
       "      <td>17723.17</td>\n",
       "      <td>organic</td>\n",
       "      <td>Chicago</td>\n",
       "    </tr>\n",
       "    <tr>\n",
       "      <th>2015-01-29</th>\n",
       "      <td>1.68</td>\n",
       "      <td>2896.72</td>\n",
       "      <td>organic</td>\n",
       "      <td>HarrisburgScranton</td>\n",
       "    </tr>\n",
       "    <tr>\n",
       "      <th>2015-01-29</th>\n",
       "      <td>1.52</td>\n",
       "      <td>54956.80</td>\n",
       "      <td>conventional</td>\n",
       "      <td>Pittsburgh</td>\n",
       "    </tr>\n",
       "    <tr>\n",
       "      <th>2015-01-29</th>\n",
       "      <td>1.64</td>\n",
       "      <td>1505.12</td>\n",
       "      <td>organic</td>\n",
       "      <td>Boise</td>\n",
       "    </tr>\n",
       "    <tr>\n",
       "      <th>...</th>\n",
       "      <td>...</td>\n",
       "      <td>...</td>\n",
       "      <td>...</td>\n",
       "      <td>...</td>\n",
       "    </tr>\n",
       "    <tr>\n",
       "      <th>2018-03-31</th>\n",
       "      <td>1.36</td>\n",
       "      <td>908202.13</td>\n",
       "      <td>conventional</td>\n",
       "      <td>Chicago</td>\n",
       "    </tr>\n",
       "    <tr>\n",
       "      <th>2018-03-31</th>\n",
       "      <td>0.70</td>\n",
       "      <td>9010588.32</td>\n",
       "      <td>conventional</td>\n",
       "      <td>SouthCentral</td>\n",
       "    </tr>\n",
       "    <tr>\n",
       "      <th>2018-03-31</th>\n",
       "      <td>1.42</td>\n",
       "      <td>163496.70</td>\n",
       "      <td>organic</td>\n",
       "      <td>SouthCentral</td>\n",
       "    </tr>\n",
       "    <tr>\n",
       "      <th>2018-03-31</th>\n",
       "      <td>1.70</td>\n",
       "      <td>190257.38</td>\n",
       "      <td>organic</td>\n",
       "      <td>California</td>\n",
       "    </tr>\n",
       "    <tr>\n",
       "      <th>2018-03-31</th>\n",
       "      <td>1.34</td>\n",
       "      <td>1774776.77</td>\n",
       "      <td>conventional</td>\n",
       "      <td>NewYork</td>\n",
       "    </tr>\n",
       "  </tbody>\n",
       "</table>\n",
       "<p>18249 rows × 4 columns</p>\n",
       "</div>"
      ],
      "text/plain": [
       "            AveragePrice  Total Volume          type              region\n",
       "Date                                                                    \n",
       "2015-01-29          1.75      27365.89       organic           Southeast\n",
       "2015-01-29          1.49      17723.17       organic             Chicago\n",
       "2015-01-29          1.68       2896.72       organic  HarrisburgScranton\n",
       "2015-01-29          1.52      54956.80  conventional          Pittsburgh\n",
       "2015-01-29          1.64       1505.12       organic               Boise\n",
       "...                  ...           ...           ...                 ...\n",
       "2018-03-31          1.36     908202.13  conventional             Chicago\n",
       "2018-03-31          0.70    9010588.32  conventional        SouthCentral\n",
       "2018-03-31          1.42     163496.70       organic        SouthCentral\n",
       "2018-03-31          1.70     190257.38       organic          California\n",
       "2018-03-31          1.34    1774776.77  conventional             NewYork\n",
       "\n",
       "[18249 rows x 4 columns]"
      ]
     },
     "execution_count": 55,
     "metadata": {},
     "output_type": "execute_result"
    }
   ],
   "source": [
    "# Let's revert back to the original dataset!\n",
    "avocado_df.index = avocado_df.index - pd.DateOffset(months=12, days=30)\n",
    "avocado_df"
   ]
  },
  {
   "cell_type": "code",
   "execution_count": 56,
   "metadata": {
    "id": "goISv50Y_Vh-"
   },
   "outputs": [
    {
     "name": "stderr",
     "output_type": "stream",
     "text": [
      "/var/folders/7w/96n4332d1k95m5_ly0gmyjw00000gn/T/ipykernel_72216/4166377095.py:3: FutureWarning: The default value of numeric_only in DataFrameGroupBy.mean is deprecated. In a future version, numeric_only will default to False. Either specify numeric_only or select only columns which should be valid for the function.\n",
      "  avocado_df.resample(rule='A').mean()\n"
     ]
    },
    {
     "data": {
      "text/html": [
       "<div>\n",
       "<style scoped>\n",
       "    .dataframe tbody tr th:only-of-type {\n",
       "        vertical-align: middle;\n",
       "    }\n",
       "\n",
       "    .dataframe tbody tr th {\n",
       "        vertical-align: top;\n",
       "    }\n",
       "\n",
       "    .dataframe thead th {\n",
       "        text-align: right;\n",
       "    }\n",
       "</style>\n",
       "<table border=\"1\" class=\"dataframe\">\n",
       "  <thead>\n",
       "    <tr style=\"text-align: right;\">\n",
       "      <th></th>\n",
       "      <th>AveragePrice</th>\n",
       "      <th>Total Volume</th>\n",
       "    </tr>\n",
       "    <tr>\n",
       "      <th>Date</th>\n",
       "      <th></th>\n",
       "      <th></th>\n",
       "    </tr>\n",
       "  </thead>\n",
       "  <tbody>\n",
       "    <tr>\n",
       "      <th>2015-12-31</th>\n",
       "      <td>1.375590</td>\n",
       "      <td>7.810274e+05</td>\n",
       "    </tr>\n",
       "    <tr>\n",
       "      <th>2016-12-31</th>\n",
       "      <td>1.337470</td>\n",
       "      <td>8.604714e+05</td>\n",
       "    </tr>\n",
       "    <tr>\n",
       "      <th>2017-12-31</th>\n",
       "      <td>1.519715</td>\n",
       "      <td>8.603237e+05</td>\n",
       "    </tr>\n",
       "    <tr>\n",
       "      <th>2018-12-31</th>\n",
       "      <td>1.347531</td>\n",
       "      <td>1.066928e+06</td>\n",
       "    </tr>\n",
       "  </tbody>\n",
       "</table>\n",
       "</div>"
      ],
      "text/plain": [
       "            AveragePrice  Total Volume\n",
       "Date                                  \n",
       "2015-12-31      1.375590  7.810274e+05\n",
       "2016-12-31      1.337470  8.604714e+05\n",
       "2017-12-31      1.519715  8.603237e+05\n",
       "2018-12-31      1.347531  1.066928e+06"
      ]
     },
     "execution_count": 56,
     "metadata": {},
     "output_type": "execute_result"
    }
   ],
   "source": [
    "# Once you have the index set to DateTime, this unlocks its power by performing aggregation\n",
    "# Aggregating the data by year (A = annual)\n",
    "avocado_df.resample(rule='A').mean()"
   ]
  },
  {
   "cell_type": "code",
   "execution_count": 57,
   "metadata": {
    "id": "Nvtiy-iYASt4"
   },
   "outputs": [
    {
     "name": "stderr",
     "output_type": "stream",
     "text": [
      "/var/folders/7w/96n4332d1k95m5_ly0gmyjw00000gn/T/ipykernel_72216/343604737.py:2: FutureWarning: The default value of numeric_only in DataFrameGroupBy.mean is deprecated. In a future version, numeric_only will default to False. Either specify numeric_only or select only columns which should be valid for the function.\n",
      "  avocado_df.resample(rule='M').mean()\n"
     ]
    },
    {
     "data": {
      "text/html": [
       "<div>\n",
       "<style scoped>\n",
       "    .dataframe tbody tr th:only-of-type {\n",
       "        vertical-align: middle;\n",
       "    }\n",
       "\n",
       "    .dataframe tbody tr th {\n",
       "        vertical-align: top;\n",
       "    }\n",
       "\n",
       "    .dataframe thead th {\n",
       "        text-align: right;\n",
       "    }\n",
       "</style>\n",
       "<table border=\"1\" class=\"dataframe\">\n",
       "  <thead>\n",
       "    <tr style=\"text-align: right;\">\n",
       "      <th></th>\n",
       "      <th>AveragePrice</th>\n",
       "      <th>Total Volume</th>\n",
       "    </tr>\n",
       "    <tr>\n",
       "      <th>Date</th>\n",
       "      <th></th>\n",
       "      <th></th>\n",
       "    </tr>\n",
       "  </thead>\n",
       "  <tbody>\n",
       "    <tr>\n",
       "      <th>2015-01-31</th>\n",
       "      <td>1.365046</td>\n",
       "      <td>7.363084e+05</td>\n",
       "    </tr>\n",
       "    <tr>\n",
       "      <th>2015-02-28</th>\n",
       "      <td>1.323759</td>\n",
       "      <td>8.371712e+05</td>\n",
       "    </tr>\n",
       "    <tr>\n",
       "      <th>2015-03-31</th>\n",
       "      <td>1.374722</td>\n",
       "      <td>7.619172e+05</td>\n",
       "    </tr>\n",
       "    <tr>\n",
       "      <th>2015-04-30</th>\n",
       "      <td>1.383449</td>\n",
       "      <td>7.966305e+05</td>\n",
       "    </tr>\n",
       "    <tr>\n",
       "      <th>2015-05-31</th>\n",
       "      <td>1.344685</td>\n",
       "      <td>8.958964e+05</td>\n",
       "    </tr>\n",
       "    <tr>\n",
       "      <th>2015-06-30</th>\n",
       "      <td>1.399074</td>\n",
       "      <td>8.838582e+05</td>\n",
       "    </tr>\n",
       "    <tr>\n",
       "      <th>2015-07-31</th>\n",
       "      <td>1.409444</td>\n",
       "      <td>8.256988e+05</td>\n",
       "    </tr>\n",
       "    <tr>\n",
       "      <th>2015-08-31</th>\n",
       "      <td>1.444481</td>\n",
       "      <td>7.763793e+05</td>\n",
       "    </tr>\n",
       "    <tr>\n",
       "      <th>2015-09-30</th>\n",
       "      <td>1.449144</td>\n",
       "      <td>7.620806e+05</td>\n",
       "    </tr>\n",
       "    <tr>\n",
       "      <th>2015-10-31</th>\n",
       "      <td>1.391968</td>\n",
       "      <td>7.078151e+05</td>\n",
       "    </tr>\n",
       "    <tr>\n",
       "      <th>2015-11-30</th>\n",
       "      <td>1.330611</td>\n",
       "      <td>6.841482e+05</td>\n",
       "    </tr>\n",
       "    <tr>\n",
       "      <th>2015-12-31</th>\n",
       "      <td>1.305244</td>\n",
       "      <td>6.868351e+05</td>\n",
       "    </tr>\n",
       "    <tr>\n",
       "      <th>2016-01-31</th>\n",
       "      <td>1.236991</td>\n",
       "      <td>8.828596e+05</td>\n",
       "    </tr>\n",
       "    <tr>\n",
       "      <th>2016-02-29</th>\n",
       "      <td>1.240278</td>\n",
       "      <td>9.678819e+05</td>\n",
       "    </tr>\n",
       "    <tr>\n",
       "      <th>2016-03-31</th>\n",
       "      <td>1.224213</td>\n",
       "      <td>9.055843e+05</td>\n",
       "    </tr>\n",
       "    <tr>\n",
       "      <th>2016-04-30</th>\n",
       "      <td>1.196759</td>\n",
       "      <td>9.613253e+05</td>\n",
       "    </tr>\n",
       "    <tr>\n",
       "      <th>2016-05-31</th>\n",
       "      <td>1.208727</td>\n",
       "      <td>1.027657e+06</td>\n",
       "    </tr>\n",
       "    <tr>\n",
       "      <th>2016-06-30</th>\n",
       "      <td>1.283056</td>\n",
       "      <td>9.498337e+05</td>\n",
       "    </tr>\n",
       "    <tr>\n",
       "      <th>2016-07-31</th>\n",
       "      <td>1.401333</td>\n",
       "      <td>8.653247e+05</td>\n",
       "    </tr>\n",
       "    <tr>\n",
       "      <th>2016-08-31</th>\n",
       "      <td>1.411111</td>\n",
       "      <td>8.583263e+05</td>\n",
       "    </tr>\n",
       "    <tr>\n",
       "      <th>2016-09-30</th>\n",
       "      <td>1.427870</td>\n",
       "      <td>8.386650e+05</td>\n",
       "    </tr>\n",
       "    <tr>\n",
       "      <th>2016-10-31</th>\n",
       "      <td>1.557093</td>\n",
       "      <td>6.670404e+05</td>\n",
       "    </tr>\n",
       "    <tr>\n",
       "      <th>2016-11-30</th>\n",
       "      <td>1.550023</td>\n",
       "      <td>6.023364e+05</td>\n",
       "    </tr>\n",
       "    <tr>\n",
       "      <th>2016-12-31</th>\n",
       "      <td>1.308130</td>\n",
       "      <td>8.072153e+05</td>\n",
       "    </tr>\n",
       "    <tr>\n",
       "      <th>2017-01-31</th>\n",
       "      <td>1.277708</td>\n",
       "      <td>9.927883e+05</td>\n",
       "    </tr>\n",
       "    <tr>\n",
       "      <th>2017-02-28</th>\n",
       "      <td>1.214792</td>\n",
       "      <td>1.091359e+06</td>\n",
       "    </tr>\n",
       "    <tr>\n",
       "      <th>2017-03-31</th>\n",
       "      <td>1.398935</td>\n",
       "      <td>8.307949e+05</td>\n",
       "    </tr>\n",
       "    <tr>\n",
       "      <th>2017-04-30</th>\n",
       "      <td>1.502611</td>\n",
       "      <td>9.070639e+05</td>\n",
       "    </tr>\n",
       "    <tr>\n",
       "      <th>2017-05-31</th>\n",
       "      <td>1.532593</td>\n",
       "      <td>9.854874e+05</td>\n",
       "    </tr>\n",
       "    <tr>\n",
       "      <th>2017-06-30</th>\n",
       "      <td>1.545395</td>\n",
       "      <td>9.544434e+05</td>\n",
       "    </tr>\n",
       "    <tr>\n",
       "      <th>2017-07-31</th>\n",
       "      <td>1.564926</td>\n",
       "      <td>8.794513e+05</td>\n",
       "    </tr>\n",
       "    <tr>\n",
       "      <th>2017-08-31</th>\n",
       "      <td>1.698958</td>\n",
       "      <td>7.831782e+05</td>\n",
       "    </tr>\n",
       "    <tr>\n",
       "      <th>2017-09-30</th>\n",
       "      <td>1.847019</td>\n",
       "      <td>6.535111e+05</td>\n",
       "    </tr>\n",
       "    <tr>\n",
       "      <th>2017-10-31</th>\n",
       "      <td>1.722731</td>\n",
       "      <td>6.820868e+05</td>\n",
       "    </tr>\n",
       "    <tr>\n",
       "      <th>2017-11-30</th>\n",
       "      <td>1.517292</td>\n",
       "      <td>7.512021e+05</td>\n",
       "    </tr>\n",
       "    <tr>\n",
       "      <th>2017-12-31</th>\n",
       "      <td>1.363852</td>\n",
       "      <td>8.506164e+05</td>\n",
       "    </tr>\n",
       "    <tr>\n",
       "      <th>2018-01-31</th>\n",
       "      <td>1.387431</td>\n",
       "      <td>9.946923e+05</td>\n",
       "    </tr>\n",
       "    <tr>\n",
       "      <th>2018-02-28</th>\n",
       "      <td>1.318704</td>\n",
       "      <td>1.152264e+06</td>\n",
       "    </tr>\n",
       "    <tr>\n",
       "      <th>2018-03-31</th>\n",
       "      <td>1.336458</td>\n",
       "      <td>1.053827e+06</td>\n",
       "    </tr>\n",
       "  </tbody>\n",
       "</table>\n",
       "</div>"
      ],
      "text/plain": [
       "            AveragePrice  Total Volume\n",
       "Date                                  \n",
       "2015-01-31      1.365046  7.363084e+05\n",
       "2015-02-28      1.323759  8.371712e+05\n",
       "2015-03-31      1.374722  7.619172e+05\n",
       "2015-04-30      1.383449  7.966305e+05\n",
       "2015-05-31      1.344685  8.958964e+05\n",
       "2015-06-30      1.399074  8.838582e+05\n",
       "2015-07-31      1.409444  8.256988e+05\n",
       "2015-08-31      1.444481  7.763793e+05\n",
       "2015-09-30      1.449144  7.620806e+05\n",
       "2015-10-31      1.391968  7.078151e+05\n",
       "2015-11-30      1.330611  6.841482e+05\n",
       "2015-12-31      1.305244  6.868351e+05\n",
       "2016-01-31      1.236991  8.828596e+05\n",
       "2016-02-29      1.240278  9.678819e+05\n",
       "2016-03-31      1.224213  9.055843e+05\n",
       "2016-04-30      1.196759  9.613253e+05\n",
       "2016-05-31      1.208727  1.027657e+06\n",
       "2016-06-30      1.283056  9.498337e+05\n",
       "2016-07-31      1.401333  8.653247e+05\n",
       "2016-08-31      1.411111  8.583263e+05\n",
       "2016-09-30      1.427870  8.386650e+05\n",
       "2016-10-31      1.557093  6.670404e+05\n",
       "2016-11-30      1.550023  6.023364e+05\n",
       "2016-12-31      1.308130  8.072153e+05\n",
       "2017-01-31      1.277708  9.927883e+05\n",
       "2017-02-28      1.214792  1.091359e+06\n",
       "2017-03-31      1.398935  8.307949e+05\n",
       "2017-04-30      1.502611  9.070639e+05\n",
       "2017-05-31      1.532593  9.854874e+05\n",
       "2017-06-30      1.545395  9.544434e+05\n",
       "2017-07-31      1.564926  8.794513e+05\n",
       "2017-08-31      1.698958  7.831782e+05\n",
       "2017-09-30      1.847019  6.535111e+05\n",
       "2017-10-31      1.722731  6.820868e+05\n",
       "2017-11-30      1.517292  7.512021e+05\n",
       "2017-12-31      1.363852  8.506164e+05\n",
       "2018-01-31      1.387431  9.946923e+05\n",
       "2018-02-28      1.318704  1.152264e+06\n",
       "2018-03-31      1.336458  1.053827e+06"
      ]
     },
     "execution_count": 57,
     "metadata": {},
     "output_type": "execute_result"
    }
   ],
   "source": [
    "# Aggregating the data by month (M = Month)\n",
    "avocado_df.resample(rule='M').mean()"
   ]
  },
  {
   "cell_type": "code",
   "execution_count": 58,
   "metadata": {
    "id": "LTsyVhasAmUK"
   },
   "outputs": [
    {
     "data": {
      "text/html": [
       "<div>\n",
       "<style scoped>\n",
       "    .dataframe tbody tr th:only-of-type {\n",
       "        vertical-align: middle;\n",
       "    }\n",
       "\n",
       "    .dataframe tbody tr th {\n",
       "        vertical-align: top;\n",
       "    }\n",
       "\n",
       "    .dataframe thead th {\n",
       "        text-align: right;\n",
       "    }\n",
       "</style>\n",
       "<table border=\"1\" class=\"dataframe\">\n",
       "  <thead>\n",
       "    <tr style=\"text-align: right;\">\n",
       "      <th></th>\n",
       "      <th>AveragePrice</th>\n",
       "      <th>Total Volume</th>\n",
       "      <th>type</th>\n",
       "      <th>region</th>\n",
       "    </tr>\n",
       "    <tr>\n",
       "      <th>Date</th>\n",
       "      <th></th>\n",
       "      <th></th>\n",
       "      <th></th>\n",
       "      <th></th>\n",
       "    </tr>\n",
       "  </thead>\n",
       "  <tbody>\n",
       "    <tr>\n",
       "      <th>2015-03-31</th>\n",
       "      <td>2.38</td>\n",
       "      <td>44655461.51</td>\n",
       "      <td>organic</td>\n",
       "      <td>WestTexNewMexico</td>\n",
       "    </tr>\n",
       "    <tr>\n",
       "      <th>2015-06-30</th>\n",
       "      <td>2.40</td>\n",
       "      <td>41291704.39</td>\n",
       "      <td>organic</td>\n",
       "      <td>WestTexNewMexico</td>\n",
       "    </tr>\n",
       "    <tr>\n",
       "      <th>2015-09-30</th>\n",
       "      <td>2.79</td>\n",
       "      <td>37943670.34</td>\n",
       "      <td>organic</td>\n",
       "      <td>WestTexNewMexico</td>\n",
       "    </tr>\n",
       "    <tr>\n",
       "      <th>2015-12-31</th>\n",
       "      <td>2.79</td>\n",
       "      <td>31047484.27</td>\n",
       "      <td>organic</td>\n",
       "      <td>WestTexNewMexico</td>\n",
       "    </tr>\n",
       "    <tr>\n",
       "      <th>2016-03-31</th>\n",
       "      <td>2.38</td>\n",
       "      <td>52288697.89</td>\n",
       "      <td>organic</td>\n",
       "      <td>WestTexNewMexico</td>\n",
       "    </tr>\n",
       "    <tr>\n",
       "      <th>2016-06-30</th>\n",
       "      <td>2.40</td>\n",
       "      <td>46324529.70</td>\n",
       "      <td>organic</td>\n",
       "      <td>WestTexNewMexico</td>\n",
       "    </tr>\n",
       "    <tr>\n",
       "      <th>2016-09-30</th>\n",
       "      <td>2.91</td>\n",
       "      <td>39993186.04</td>\n",
       "      <td>organic</td>\n",
       "      <td>WestTexNewMexico</td>\n",
       "    </tr>\n",
       "    <tr>\n",
       "      <th>2016-12-31</th>\n",
       "      <td>3.25</td>\n",
       "      <td>38879716.85</td>\n",
       "      <td>organic</td>\n",
       "      <td>WestTexNewMexico</td>\n",
       "    </tr>\n",
       "    <tr>\n",
       "      <th>2017-03-31</th>\n",
       "      <td>3.05</td>\n",
       "      <td>61034457.10</td>\n",
       "      <td>organic</td>\n",
       "      <td>WestTexNewMexico</td>\n",
       "    </tr>\n",
       "    <tr>\n",
       "      <th>2017-06-30</th>\n",
       "      <td>3.17</td>\n",
       "      <td>47293921.60</td>\n",
       "      <td>organic</td>\n",
       "      <td>WestTexNewMexico</td>\n",
       "    </tr>\n",
       "    <tr>\n",
       "      <th>2017-09-30</th>\n",
       "      <td>3.04</td>\n",
       "      <td>39367336.18</td>\n",
       "      <td>organic</td>\n",
       "      <td>WestTexNewMexico</td>\n",
       "    </tr>\n",
       "    <tr>\n",
       "      <th>2017-12-31</th>\n",
       "      <td>2.87</td>\n",
       "      <td>38267341.61</td>\n",
       "      <td>organic</td>\n",
       "      <td>WestTexNewMexico</td>\n",
       "    </tr>\n",
       "    <tr>\n",
       "      <th>2018-03-31</th>\n",
       "      <td>2.30</td>\n",
       "      <td>62505646.52</td>\n",
       "      <td>organic</td>\n",
       "      <td>WestTexNewMexico</td>\n",
       "    </tr>\n",
       "  </tbody>\n",
       "</table>\n",
       "</div>"
      ],
      "text/plain": [
       "            AveragePrice  Total Volume     type            region\n",
       "Date                                                             \n",
       "2015-03-31          2.38   44655461.51  organic  WestTexNewMexico\n",
       "2015-06-30          2.40   41291704.39  organic  WestTexNewMexico\n",
       "2015-09-30          2.79   37943670.34  organic  WestTexNewMexico\n",
       "2015-12-31          2.79   31047484.27  organic  WestTexNewMexico\n",
       "2016-03-31          2.38   52288697.89  organic  WestTexNewMexico\n",
       "2016-06-30          2.40   46324529.70  organic  WestTexNewMexico\n",
       "2016-09-30          2.91   39993186.04  organic  WestTexNewMexico\n",
       "2016-12-31          3.25   38879716.85  organic  WestTexNewMexico\n",
       "2017-03-31          3.05   61034457.10  organic  WestTexNewMexico\n",
       "2017-06-30          3.17   47293921.60  organic  WestTexNewMexico\n",
       "2017-09-30          3.04   39367336.18  organic  WestTexNewMexico\n",
       "2017-12-31          2.87   38267341.61  organic  WestTexNewMexico\n",
       "2018-03-31          2.30   62505646.52  organic  WestTexNewMexico"
      ]
     },
     "execution_count": 58,
     "metadata": {},
     "output_type": "execute_result"
    }
   ],
   "source": [
    "# You can obtain the maximum value for each Quarter end as follows: \n",
    "avocado_df.resample(rule='Q').max()"
   ]
  },
  {
   "cell_type": "code",
   "execution_count": 59,
   "metadata": {
    "id": "GK71MFPZDPMi"
   },
   "outputs": [
    {
     "data": {
      "text/plain": [
       "Date\n",
       "2015-01-29    NaN\n",
       "2015-01-29    NaN\n",
       "2015-01-29    NaN\n",
       "2015-01-29    NaN\n",
       "2015-01-29    NaN\n",
       "             ... \n",
       "2018-03-31    NaN\n",
       "2018-03-31    0.7\n",
       "2018-03-31    NaN\n",
       "2018-03-31    NaN\n",
       "2018-03-31    NaN\n",
       "Name: AveragePrice, Length: 18249, dtype: float64"
      ]
     },
     "execution_count": 59,
     "metadata": {},
     "output_type": "execute_result"
    }
   ],
   "source": [
    "# You can locate the rows that satisfies a given critirea as follows: \n",
    "low_price = avocado_df['AveragePrice'].where(avocado_df['AveragePrice']<1.2)\n",
    "low_price"
   ]
  },
  {
   "cell_type": "code",
   "execution_count": 60,
   "metadata": {
    "id": "5RrgwoTQBW7w"
   },
   "outputs": [
    {
     "data": {
      "text/plain": [
       "Date\n",
       "2015-01-31    224\n",
       "2015-02-28    282\n",
       "2015-03-31    209\n",
       "2015-04-30    198\n",
       "2015-05-31    271\n",
       "2015-06-30    201\n",
       "2015-07-31    224\n",
       "2015-08-31    254\n",
       "2015-09-30    202\n",
       "2015-10-31    217\n",
       "2015-11-30    284\n",
       "2015-12-31    226\n",
       "2016-01-31    240\n",
       "2016-02-29    314\n",
       "2016-03-31    270\n",
       "2016-04-30    345\n",
       "2016-05-31    261\n",
       "2016-06-30    240\n",
       "2016-07-31    248\n",
       "2016-08-31    185\n",
       "2016-09-30    175\n",
       "2016-10-31    155\n",
       "2016-11-30    109\n",
       "2016-12-31    293\n",
       "2017-01-31    246\n",
       "2017-02-28    269\n",
       "2017-03-31    180\n",
       "2017-04-30    187\n",
       "2017-05-31    135\n",
       "2017-06-30    140\n",
       "2017-07-31    124\n",
       "2017-08-31     55\n",
       "2017-09-30     23\n",
       "2017-10-31     39\n",
       "2017-11-30    117\n",
       "2017-12-31    232\n",
       "2018-01-31    177\n",
       "2018-02-28    189\n",
       "2018-03-31    196\n",
       "Freq: M, Name: AveragePrice, dtype: int64"
      ]
     },
     "execution_count": 60,
     "metadata": {},
     "output_type": "execute_result"
    }
   ],
   "source": [
    "low_price = avocado_df['AveragePrice'].where(avocado_df['AveragePrice']<1.3).resample('1M').count()\n",
    "low_price\n"
   ]
  },
  {
   "cell_type": "code",
   "execution_count": 61,
   "metadata": {
    "id": "j2b9IeLwDLRU"
   },
   "outputs": [
    {
     "data": {
      "text/html": [
       "<div>\n",
       "<style scoped>\n",
       "    .dataframe tbody tr th:only-of-type {\n",
       "        vertical-align: middle;\n",
       "    }\n",
       "\n",
       "    .dataframe tbody tr th {\n",
       "        vertical-align: top;\n",
       "    }\n",
       "\n",
       "    .dataframe thead th {\n",
       "        text-align: right;\n",
       "    }\n",
       "</style>\n",
       "<table border=\"1\" class=\"dataframe\">\n",
       "  <thead>\n",
       "    <tr style=\"text-align: right;\">\n",
       "      <th></th>\n",
       "      <th>AveragePrice</th>\n",
       "      <th>Total Volume</th>\n",
       "      <th>type</th>\n",
       "      <th>region</th>\n",
       "    </tr>\n",
       "    <tr>\n",
       "      <th>Date</th>\n",
       "      <th></th>\n",
       "      <th></th>\n",
       "      <th></th>\n",
       "      <th></th>\n",
       "    </tr>\n",
       "  </thead>\n",
       "  <tbody>\n",
       "    <tr>\n",
       "      <th>2015-01-29</th>\n",
       "      <td>1.75</td>\n",
       "      <td>27365.89</td>\n",
       "      <td>organic</td>\n",
       "      <td>Southeast</td>\n",
       "    </tr>\n",
       "    <tr>\n",
       "      <th>2015-01-29</th>\n",
       "      <td>1.49</td>\n",
       "      <td>17723.17</td>\n",
       "      <td>organic</td>\n",
       "      <td>Chicago</td>\n",
       "    </tr>\n",
       "    <tr>\n",
       "      <th>2015-01-29</th>\n",
       "      <td>1.68</td>\n",
       "      <td>2896.72</td>\n",
       "      <td>organic</td>\n",
       "      <td>HarrisburgScranton</td>\n",
       "    </tr>\n",
       "    <tr>\n",
       "      <th>2015-01-29</th>\n",
       "      <td>1.52</td>\n",
       "      <td>54956.80</td>\n",
       "      <td>conventional</td>\n",
       "      <td>Pittsburgh</td>\n",
       "    </tr>\n",
       "    <tr>\n",
       "      <th>2015-01-29</th>\n",
       "      <td>1.64</td>\n",
       "      <td>1505.12</td>\n",
       "      <td>organic</td>\n",
       "      <td>Boise</td>\n",
       "    </tr>\n",
       "    <tr>\n",
       "      <th>...</th>\n",
       "      <td>...</td>\n",
       "      <td>...</td>\n",
       "      <td>...</td>\n",
       "      <td>...</td>\n",
       "    </tr>\n",
       "    <tr>\n",
       "      <th>2018-03-31</th>\n",
       "      <td>1.36</td>\n",
       "      <td>908202.13</td>\n",
       "      <td>conventional</td>\n",
       "      <td>Chicago</td>\n",
       "    </tr>\n",
       "    <tr>\n",
       "      <th>2018-03-31</th>\n",
       "      <td>0.70</td>\n",
       "      <td>9010588.32</td>\n",
       "      <td>conventional</td>\n",
       "      <td>SouthCentral</td>\n",
       "    </tr>\n",
       "    <tr>\n",
       "      <th>2018-03-31</th>\n",
       "      <td>1.42</td>\n",
       "      <td>163496.70</td>\n",
       "      <td>organic</td>\n",
       "      <td>SouthCentral</td>\n",
       "    </tr>\n",
       "    <tr>\n",
       "      <th>2018-03-31</th>\n",
       "      <td>1.70</td>\n",
       "      <td>190257.38</td>\n",
       "      <td>organic</td>\n",
       "      <td>California</td>\n",
       "    </tr>\n",
       "    <tr>\n",
       "      <th>2018-03-31</th>\n",
       "      <td>1.34</td>\n",
       "      <td>1774776.77</td>\n",
       "      <td>conventional</td>\n",
       "      <td>NewYork</td>\n",
       "    </tr>\n",
       "  </tbody>\n",
       "</table>\n",
       "<p>18249 rows × 4 columns</p>\n",
       "</div>"
      ],
      "text/plain": [
       "            AveragePrice  Total Volume          type              region\n",
       "Date                                                                    \n",
       "2015-01-29          1.75      27365.89       organic           Southeast\n",
       "2015-01-29          1.49      17723.17       organic             Chicago\n",
       "2015-01-29          1.68       2896.72       organic  HarrisburgScranton\n",
       "2015-01-29          1.52      54956.80  conventional          Pittsburgh\n",
       "2015-01-29          1.64       1505.12       organic               Boise\n",
       "...                  ...           ...           ...                 ...\n",
       "2018-03-31          1.36     908202.13  conventional             Chicago\n",
       "2018-03-31          0.70    9010588.32  conventional        SouthCentral\n",
       "2018-03-31          1.42     163496.70       organic        SouthCentral\n",
       "2018-03-31          1.70     190257.38       organic          California\n",
       "2018-03-31          1.34    1774776.77  conventional             NewYork\n",
       "\n",
       "[18249 rows x 4 columns]"
      ]
     },
     "execution_count": 61,
     "metadata": {},
     "output_type": "execute_result"
    }
   ],
   "source": [
    "# You can create new features from the date time information as follows\n",
    "avocado_df"
   ]
  },
  {
   "cell_type": "code",
   "execution_count": 62,
   "metadata": {
    "id": "GnoeyXH6H8li"
   },
   "outputs": [
    {
     "data": {
      "text/html": [
       "<div>\n",
       "<style scoped>\n",
       "    .dataframe tbody tr th:only-of-type {\n",
       "        vertical-align: middle;\n",
       "    }\n",
       "\n",
       "    .dataframe tbody tr th {\n",
       "        vertical-align: top;\n",
       "    }\n",
       "\n",
       "    .dataframe thead th {\n",
       "        text-align: right;\n",
       "    }\n",
       "</style>\n",
       "<table border=\"1\" class=\"dataframe\">\n",
       "  <thead>\n",
       "    <tr style=\"text-align: right;\">\n",
       "      <th></th>\n",
       "      <th>Date</th>\n",
       "      <th>AveragePrice</th>\n",
       "      <th>Total Volume</th>\n",
       "      <th>type</th>\n",
       "      <th>region</th>\n",
       "    </tr>\n",
       "  </thead>\n",
       "  <tbody>\n",
       "    <tr>\n",
       "      <th>0</th>\n",
       "      <td>2015-01-29</td>\n",
       "      <td>1.75</td>\n",
       "      <td>27365.89</td>\n",
       "      <td>organic</td>\n",
       "      <td>Southeast</td>\n",
       "    </tr>\n",
       "    <tr>\n",
       "      <th>1</th>\n",
       "      <td>2015-01-29</td>\n",
       "      <td>1.49</td>\n",
       "      <td>17723.17</td>\n",
       "      <td>organic</td>\n",
       "      <td>Chicago</td>\n",
       "    </tr>\n",
       "    <tr>\n",
       "      <th>2</th>\n",
       "      <td>2015-01-29</td>\n",
       "      <td>1.68</td>\n",
       "      <td>2896.72</td>\n",
       "      <td>organic</td>\n",
       "      <td>HarrisburgScranton</td>\n",
       "    </tr>\n",
       "    <tr>\n",
       "      <th>3</th>\n",
       "      <td>2015-01-29</td>\n",
       "      <td>1.52</td>\n",
       "      <td>54956.80</td>\n",
       "      <td>conventional</td>\n",
       "      <td>Pittsburgh</td>\n",
       "    </tr>\n",
       "    <tr>\n",
       "      <th>4</th>\n",
       "      <td>2015-01-29</td>\n",
       "      <td>1.64</td>\n",
       "      <td>1505.12</td>\n",
       "      <td>organic</td>\n",
       "      <td>Boise</td>\n",
       "    </tr>\n",
       "    <tr>\n",
       "      <th>...</th>\n",
       "      <td>...</td>\n",
       "      <td>...</td>\n",
       "      <td>...</td>\n",
       "      <td>...</td>\n",
       "      <td>...</td>\n",
       "    </tr>\n",
       "    <tr>\n",
       "      <th>18244</th>\n",
       "      <td>2018-03-31</td>\n",
       "      <td>1.36</td>\n",
       "      <td>908202.13</td>\n",
       "      <td>conventional</td>\n",
       "      <td>Chicago</td>\n",
       "    </tr>\n",
       "    <tr>\n",
       "      <th>18245</th>\n",
       "      <td>2018-03-31</td>\n",
       "      <td>0.70</td>\n",
       "      <td>9010588.32</td>\n",
       "      <td>conventional</td>\n",
       "      <td>SouthCentral</td>\n",
       "    </tr>\n",
       "    <tr>\n",
       "      <th>18246</th>\n",
       "      <td>2018-03-31</td>\n",
       "      <td>1.42</td>\n",
       "      <td>163496.70</td>\n",
       "      <td>organic</td>\n",
       "      <td>SouthCentral</td>\n",
       "    </tr>\n",
       "    <tr>\n",
       "      <th>18247</th>\n",
       "      <td>2018-03-31</td>\n",
       "      <td>1.70</td>\n",
       "      <td>190257.38</td>\n",
       "      <td>organic</td>\n",
       "      <td>California</td>\n",
       "    </tr>\n",
       "    <tr>\n",
       "      <th>18248</th>\n",
       "      <td>2018-03-31</td>\n",
       "      <td>1.34</td>\n",
       "      <td>1774776.77</td>\n",
       "      <td>conventional</td>\n",
       "      <td>NewYork</td>\n",
       "    </tr>\n",
       "  </tbody>\n",
       "</table>\n",
       "<p>18249 rows × 5 columns</p>\n",
       "</div>"
      ],
      "text/plain": [
       "            Date  AveragePrice  Total Volume          type              region\n",
       "0     2015-01-29          1.75      27365.89       organic           Southeast\n",
       "1     2015-01-29          1.49      17723.17       organic             Chicago\n",
       "2     2015-01-29          1.68       2896.72       organic  HarrisburgScranton\n",
       "3     2015-01-29          1.52      54956.80  conventional          Pittsburgh\n",
       "4     2015-01-29          1.64       1505.12       organic               Boise\n",
       "...          ...           ...           ...           ...                 ...\n",
       "18244 2018-03-31          1.36     908202.13  conventional             Chicago\n",
       "18245 2018-03-31          0.70    9010588.32  conventional        SouthCentral\n",
       "18246 2018-03-31          1.42     163496.70       organic        SouthCentral\n",
       "18247 2018-03-31          1.70     190257.38       organic          California\n",
       "18248 2018-03-31          1.34    1774776.77  conventional             NewYork\n",
       "\n",
       "[18249 rows x 5 columns]"
      ]
     },
     "execution_count": 62,
     "metadata": {},
     "output_type": "execute_result"
    }
   ],
   "source": [
    "avocado_df.reset_index(inplace=True)\n",
    "avocado_df"
   ]
  },
  {
   "cell_type": "code",
   "execution_count": 63,
   "metadata": {
    "id": "zA_M8V5bHdSZ"
   },
   "outputs": [
    {
     "data": {
      "text/html": [
       "<div>\n",
       "<style scoped>\n",
       "    .dataframe tbody tr th:only-of-type {\n",
       "        vertical-align: middle;\n",
       "    }\n",
       "\n",
       "    .dataframe tbody tr th {\n",
       "        vertical-align: top;\n",
       "    }\n",
       "\n",
       "    .dataframe thead th {\n",
       "        text-align: right;\n",
       "    }\n",
       "</style>\n",
       "<table border=\"1\" class=\"dataframe\">\n",
       "  <thead>\n",
       "    <tr style=\"text-align: right;\">\n",
       "      <th></th>\n",
       "      <th>Date</th>\n",
       "      <th>AveragePrice</th>\n",
       "      <th>Total Volume</th>\n",
       "      <th>type</th>\n",
       "      <th>region</th>\n",
       "      <th>day</th>\n",
       "    </tr>\n",
       "  </thead>\n",
       "  <tbody>\n",
       "    <tr>\n",
       "      <th>0</th>\n",
       "      <td>2015-01-29</td>\n",
       "      <td>1.75</td>\n",
       "      <td>27365.89</td>\n",
       "      <td>organic</td>\n",
       "      <td>Southeast</td>\n",
       "      <td>29</td>\n",
       "    </tr>\n",
       "    <tr>\n",
       "      <th>1</th>\n",
       "      <td>2015-01-29</td>\n",
       "      <td>1.49</td>\n",
       "      <td>17723.17</td>\n",
       "      <td>organic</td>\n",
       "      <td>Chicago</td>\n",
       "      <td>29</td>\n",
       "    </tr>\n",
       "    <tr>\n",
       "      <th>2</th>\n",
       "      <td>2015-01-29</td>\n",
       "      <td>1.68</td>\n",
       "      <td>2896.72</td>\n",
       "      <td>organic</td>\n",
       "      <td>HarrisburgScranton</td>\n",
       "      <td>29</td>\n",
       "    </tr>\n",
       "    <tr>\n",
       "      <th>3</th>\n",
       "      <td>2015-01-29</td>\n",
       "      <td>1.52</td>\n",
       "      <td>54956.80</td>\n",
       "      <td>conventional</td>\n",
       "      <td>Pittsburgh</td>\n",
       "      <td>29</td>\n",
       "    </tr>\n",
       "    <tr>\n",
       "      <th>4</th>\n",
       "      <td>2015-01-29</td>\n",
       "      <td>1.64</td>\n",
       "      <td>1505.12</td>\n",
       "      <td>organic</td>\n",
       "      <td>Boise</td>\n",
       "      <td>29</td>\n",
       "    </tr>\n",
       "    <tr>\n",
       "      <th>...</th>\n",
       "      <td>...</td>\n",
       "      <td>...</td>\n",
       "      <td>...</td>\n",
       "      <td>...</td>\n",
       "      <td>...</td>\n",
       "      <td>...</td>\n",
       "    </tr>\n",
       "    <tr>\n",
       "      <th>18244</th>\n",
       "      <td>2018-03-31</td>\n",
       "      <td>1.36</td>\n",
       "      <td>908202.13</td>\n",
       "      <td>conventional</td>\n",
       "      <td>Chicago</td>\n",
       "      <td>31</td>\n",
       "    </tr>\n",
       "    <tr>\n",
       "      <th>18245</th>\n",
       "      <td>2018-03-31</td>\n",
       "      <td>0.70</td>\n",
       "      <td>9010588.32</td>\n",
       "      <td>conventional</td>\n",
       "      <td>SouthCentral</td>\n",
       "      <td>31</td>\n",
       "    </tr>\n",
       "    <tr>\n",
       "      <th>18246</th>\n",
       "      <td>2018-03-31</td>\n",
       "      <td>1.42</td>\n",
       "      <td>163496.70</td>\n",
       "      <td>organic</td>\n",
       "      <td>SouthCentral</td>\n",
       "      <td>31</td>\n",
       "    </tr>\n",
       "    <tr>\n",
       "      <th>18247</th>\n",
       "      <td>2018-03-31</td>\n",
       "      <td>1.70</td>\n",
       "      <td>190257.38</td>\n",
       "      <td>organic</td>\n",
       "      <td>California</td>\n",
       "      <td>31</td>\n",
       "    </tr>\n",
       "    <tr>\n",
       "      <th>18248</th>\n",
       "      <td>2018-03-31</td>\n",
       "      <td>1.34</td>\n",
       "      <td>1774776.77</td>\n",
       "      <td>conventional</td>\n",
       "      <td>NewYork</td>\n",
       "      <td>31</td>\n",
       "    </tr>\n",
       "  </tbody>\n",
       "</table>\n",
       "<p>18249 rows × 6 columns</p>\n",
       "</div>"
      ],
      "text/plain": [
       "            Date  AveragePrice  Total Volume          type  \\\n",
       "0     2015-01-29          1.75      27365.89       organic   \n",
       "1     2015-01-29          1.49      17723.17       organic   \n",
       "2     2015-01-29          1.68       2896.72       organic   \n",
       "3     2015-01-29          1.52      54956.80  conventional   \n",
       "4     2015-01-29          1.64       1505.12       organic   \n",
       "...          ...           ...           ...           ...   \n",
       "18244 2018-03-31          1.36     908202.13  conventional   \n",
       "18245 2018-03-31          0.70    9010588.32  conventional   \n",
       "18246 2018-03-31          1.42     163496.70       organic   \n",
       "18247 2018-03-31          1.70     190257.38       organic   \n",
       "18248 2018-03-31          1.34    1774776.77  conventional   \n",
       "\n",
       "                   region  day  \n",
       "0               Southeast   29  \n",
       "1                 Chicago   29  \n",
       "2      HarrisburgScranton   29  \n",
       "3              Pittsburgh   29  \n",
       "4                   Boise   29  \n",
       "...                   ...  ...  \n",
       "18244             Chicago   31  \n",
       "18245        SouthCentral   31  \n",
       "18246        SouthCentral   31  \n",
       "18247          California   31  \n",
       "18248             NewYork   31  \n",
       "\n",
       "[18249 rows x 6 columns]"
      ]
     },
     "execution_count": 63,
     "metadata": {},
     "output_type": "execute_result"
    }
   ],
   "source": [
    "avocado_df['day'] = avocado_df['Date'].dt.day\n",
    "avocado_df"
   ]
  },
  {
   "cell_type": "code",
   "execution_count": 64,
   "metadata": {
    "id": "s4Kr_VrOEfo4"
   },
   "outputs": [
    {
     "data": {
      "text/html": [
       "<div>\n",
       "<style scoped>\n",
       "    .dataframe tbody tr th:only-of-type {\n",
       "        vertical-align: middle;\n",
       "    }\n",
       "\n",
       "    .dataframe tbody tr th {\n",
       "        vertical-align: top;\n",
       "    }\n",
       "\n",
       "    .dataframe thead th {\n",
       "        text-align: right;\n",
       "    }\n",
       "</style>\n",
       "<table border=\"1\" class=\"dataframe\">\n",
       "  <thead>\n",
       "    <tr style=\"text-align: right;\">\n",
       "      <th></th>\n",
       "      <th>Date</th>\n",
       "      <th>AveragePrice</th>\n",
       "      <th>Total Volume</th>\n",
       "      <th>type</th>\n",
       "      <th>region</th>\n",
       "      <th>day</th>\n",
       "      <th>Month</th>\n",
       "    </tr>\n",
       "  </thead>\n",
       "  <tbody>\n",
       "    <tr>\n",
       "      <th>0</th>\n",
       "      <td>2015-01-29</td>\n",
       "      <td>1.75</td>\n",
       "      <td>27365.89</td>\n",
       "      <td>organic</td>\n",
       "      <td>Southeast</td>\n",
       "      <td>29</td>\n",
       "      <td>1</td>\n",
       "    </tr>\n",
       "    <tr>\n",
       "      <th>1</th>\n",
       "      <td>2015-01-29</td>\n",
       "      <td>1.49</td>\n",
       "      <td>17723.17</td>\n",
       "      <td>organic</td>\n",
       "      <td>Chicago</td>\n",
       "      <td>29</td>\n",
       "      <td>1</td>\n",
       "    </tr>\n",
       "    <tr>\n",
       "      <th>2</th>\n",
       "      <td>2015-01-29</td>\n",
       "      <td>1.68</td>\n",
       "      <td>2896.72</td>\n",
       "      <td>organic</td>\n",
       "      <td>HarrisburgScranton</td>\n",
       "      <td>29</td>\n",
       "      <td>1</td>\n",
       "    </tr>\n",
       "    <tr>\n",
       "      <th>3</th>\n",
       "      <td>2015-01-29</td>\n",
       "      <td>1.52</td>\n",
       "      <td>54956.80</td>\n",
       "      <td>conventional</td>\n",
       "      <td>Pittsburgh</td>\n",
       "      <td>29</td>\n",
       "      <td>1</td>\n",
       "    </tr>\n",
       "    <tr>\n",
       "      <th>4</th>\n",
       "      <td>2015-01-29</td>\n",
       "      <td>1.64</td>\n",
       "      <td>1505.12</td>\n",
       "      <td>organic</td>\n",
       "      <td>Boise</td>\n",
       "      <td>29</td>\n",
       "      <td>1</td>\n",
       "    </tr>\n",
       "    <tr>\n",
       "      <th>...</th>\n",
       "      <td>...</td>\n",
       "      <td>...</td>\n",
       "      <td>...</td>\n",
       "      <td>...</td>\n",
       "      <td>...</td>\n",
       "      <td>...</td>\n",
       "      <td>...</td>\n",
       "    </tr>\n",
       "    <tr>\n",
       "      <th>18244</th>\n",
       "      <td>2018-03-31</td>\n",
       "      <td>1.36</td>\n",
       "      <td>908202.13</td>\n",
       "      <td>conventional</td>\n",
       "      <td>Chicago</td>\n",
       "      <td>31</td>\n",
       "      <td>3</td>\n",
       "    </tr>\n",
       "    <tr>\n",
       "      <th>18245</th>\n",
       "      <td>2018-03-31</td>\n",
       "      <td>0.70</td>\n",
       "      <td>9010588.32</td>\n",
       "      <td>conventional</td>\n",
       "      <td>SouthCentral</td>\n",
       "      <td>31</td>\n",
       "      <td>3</td>\n",
       "    </tr>\n",
       "    <tr>\n",
       "      <th>18246</th>\n",
       "      <td>2018-03-31</td>\n",
       "      <td>1.42</td>\n",
       "      <td>163496.70</td>\n",
       "      <td>organic</td>\n",
       "      <td>SouthCentral</td>\n",
       "      <td>31</td>\n",
       "      <td>3</td>\n",
       "    </tr>\n",
       "    <tr>\n",
       "      <th>18247</th>\n",
       "      <td>2018-03-31</td>\n",
       "      <td>1.70</td>\n",
       "      <td>190257.38</td>\n",
       "      <td>organic</td>\n",
       "      <td>California</td>\n",
       "      <td>31</td>\n",
       "      <td>3</td>\n",
       "    </tr>\n",
       "    <tr>\n",
       "      <th>18248</th>\n",
       "      <td>2018-03-31</td>\n",
       "      <td>1.34</td>\n",
       "      <td>1774776.77</td>\n",
       "      <td>conventional</td>\n",
       "      <td>NewYork</td>\n",
       "      <td>31</td>\n",
       "      <td>3</td>\n",
       "    </tr>\n",
       "  </tbody>\n",
       "</table>\n",
       "<p>18249 rows × 7 columns</p>\n",
       "</div>"
      ],
      "text/plain": [
       "            Date  AveragePrice  Total Volume          type  \\\n",
       "0     2015-01-29          1.75      27365.89       organic   \n",
       "1     2015-01-29          1.49      17723.17       organic   \n",
       "2     2015-01-29          1.68       2896.72       organic   \n",
       "3     2015-01-29          1.52      54956.80  conventional   \n",
       "4     2015-01-29          1.64       1505.12       organic   \n",
       "...          ...           ...           ...           ...   \n",
       "18244 2018-03-31          1.36     908202.13  conventional   \n",
       "18245 2018-03-31          0.70    9010588.32  conventional   \n",
       "18246 2018-03-31          1.42     163496.70       organic   \n",
       "18247 2018-03-31          1.70     190257.38       organic   \n",
       "18248 2018-03-31          1.34    1774776.77  conventional   \n",
       "\n",
       "                   region  day  Month  \n",
       "0               Southeast   29      1  \n",
       "1                 Chicago   29      1  \n",
       "2      HarrisburgScranton   29      1  \n",
       "3              Pittsburgh   29      1  \n",
       "4                   Boise   29      1  \n",
       "...                   ...  ...    ...  \n",
       "18244             Chicago   31      3  \n",
       "18245        SouthCentral   31      3  \n",
       "18246        SouthCentral   31      3  \n",
       "18247          California   31      3  \n",
       "18248             NewYork   31      3  \n",
       "\n",
       "[18249 rows x 7 columns]"
      ]
     },
     "execution_count": 64,
     "metadata": {},
     "output_type": "execute_result"
    }
   ],
   "source": [
    "avocado_df['Month'] = avocado_df['Date'].dt.month\n",
    "avocado_df"
   ]
  },
  {
   "cell_type": "code",
   "execution_count": 65,
   "metadata": {
    "id": "qbe6swiREmY_"
   },
   "outputs": [
    {
     "data": {
      "text/html": [
       "<div>\n",
       "<style scoped>\n",
       "    .dataframe tbody tr th:only-of-type {\n",
       "        vertical-align: middle;\n",
       "    }\n",
       "\n",
       "    .dataframe tbody tr th {\n",
       "        vertical-align: top;\n",
       "    }\n",
       "\n",
       "    .dataframe thead th {\n",
       "        text-align: right;\n",
       "    }\n",
       "</style>\n",
       "<table border=\"1\" class=\"dataframe\">\n",
       "  <thead>\n",
       "    <tr style=\"text-align: right;\">\n",
       "      <th></th>\n",
       "      <th>Date</th>\n",
       "      <th>AveragePrice</th>\n",
       "      <th>Total Volume</th>\n",
       "      <th>type</th>\n",
       "      <th>region</th>\n",
       "      <th>day</th>\n",
       "      <th>Month</th>\n",
       "      <th>Year</th>\n",
       "    </tr>\n",
       "  </thead>\n",
       "  <tbody>\n",
       "    <tr>\n",
       "      <th>0</th>\n",
       "      <td>2015-01-29</td>\n",
       "      <td>1.75</td>\n",
       "      <td>27365.89</td>\n",
       "      <td>organic</td>\n",
       "      <td>Southeast</td>\n",
       "      <td>29</td>\n",
       "      <td>1</td>\n",
       "      <td>2015</td>\n",
       "    </tr>\n",
       "    <tr>\n",
       "      <th>1</th>\n",
       "      <td>2015-01-29</td>\n",
       "      <td>1.49</td>\n",
       "      <td>17723.17</td>\n",
       "      <td>organic</td>\n",
       "      <td>Chicago</td>\n",
       "      <td>29</td>\n",
       "      <td>1</td>\n",
       "      <td>2015</td>\n",
       "    </tr>\n",
       "    <tr>\n",
       "      <th>2</th>\n",
       "      <td>2015-01-29</td>\n",
       "      <td>1.68</td>\n",
       "      <td>2896.72</td>\n",
       "      <td>organic</td>\n",
       "      <td>HarrisburgScranton</td>\n",
       "      <td>29</td>\n",
       "      <td>1</td>\n",
       "      <td>2015</td>\n",
       "    </tr>\n",
       "    <tr>\n",
       "      <th>3</th>\n",
       "      <td>2015-01-29</td>\n",
       "      <td>1.52</td>\n",
       "      <td>54956.80</td>\n",
       "      <td>conventional</td>\n",
       "      <td>Pittsburgh</td>\n",
       "      <td>29</td>\n",
       "      <td>1</td>\n",
       "      <td>2015</td>\n",
       "    </tr>\n",
       "    <tr>\n",
       "      <th>4</th>\n",
       "      <td>2015-01-29</td>\n",
       "      <td>1.64</td>\n",
       "      <td>1505.12</td>\n",
       "      <td>organic</td>\n",
       "      <td>Boise</td>\n",
       "      <td>29</td>\n",
       "      <td>1</td>\n",
       "      <td>2015</td>\n",
       "    </tr>\n",
       "    <tr>\n",
       "      <th>...</th>\n",
       "      <td>...</td>\n",
       "      <td>...</td>\n",
       "      <td>...</td>\n",
       "      <td>...</td>\n",
       "      <td>...</td>\n",
       "      <td>...</td>\n",
       "      <td>...</td>\n",
       "      <td>...</td>\n",
       "    </tr>\n",
       "    <tr>\n",
       "      <th>18244</th>\n",
       "      <td>2018-03-31</td>\n",
       "      <td>1.36</td>\n",
       "      <td>908202.13</td>\n",
       "      <td>conventional</td>\n",
       "      <td>Chicago</td>\n",
       "      <td>31</td>\n",
       "      <td>3</td>\n",
       "      <td>2018</td>\n",
       "    </tr>\n",
       "    <tr>\n",
       "      <th>18245</th>\n",
       "      <td>2018-03-31</td>\n",
       "      <td>0.70</td>\n",
       "      <td>9010588.32</td>\n",
       "      <td>conventional</td>\n",
       "      <td>SouthCentral</td>\n",
       "      <td>31</td>\n",
       "      <td>3</td>\n",
       "      <td>2018</td>\n",
       "    </tr>\n",
       "    <tr>\n",
       "      <th>18246</th>\n",
       "      <td>2018-03-31</td>\n",
       "      <td>1.42</td>\n",
       "      <td>163496.70</td>\n",
       "      <td>organic</td>\n",
       "      <td>SouthCentral</td>\n",
       "      <td>31</td>\n",
       "      <td>3</td>\n",
       "      <td>2018</td>\n",
       "    </tr>\n",
       "    <tr>\n",
       "      <th>18247</th>\n",
       "      <td>2018-03-31</td>\n",
       "      <td>1.70</td>\n",
       "      <td>190257.38</td>\n",
       "      <td>organic</td>\n",
       "      <td>California</td>\n",
       "      <td>31</td>\n",
       "      <td>3</td>\n",
       "      <td>2018</td>\n",
       "    </tr>\n",
       "    <tr>\n",
       "      <th>18248</th>\n",
       "      <td>2018-03-31</td>\n",
       "      <td>1.34</td>\n",
       "      <td>1774776.77</td>\n",
       "      <td>conventional</td>\n",
       "      <td>NewYork</td>\n",
       "      <td>31</td>\n",
       "      <td>3</td>\n",
       "      <td>2018</td>\n",
       "    </tr>\n",
       "  </tbody>\n",
       "</table>\n",
       "<p>18249 rows × 8 columns</p>\n",
       "</div>"
      ],
      "text/plain": [
       "            Date  AveragePrice  Total Volume          type  \\\n",
       "0     2015-01-29          1.75      27365.89       organic   \n",
       "1     2015-01-29          1.49      17723.17       organic   \n",
       "2     2015-01-29          1.68       2896.72       organic   \n",
       "3     2015-01-29          1.52      54956.80  conventional   \n",
       "4     2015-01-29          1.64       1505.12       organic   \n",
       "...          ...           ...           ...           ...   \n",
       "18244 2018-03-31          1.36     908202.13  conventional   \n",
       "18245 2018-03-31          0.70    9010588.32  conventional   \n",
       "18246 2018-03-31          1.42     163496.70       organic   \n",
       "18247 2018-03-31          1.70     190257.38       organic   \n",
       "18248 2018-03-31          1.34    1774776.77  conventional   \n",
       "\n",
       "                   region  day  Month  Year  \n",
       "0               Southeast   29      1  2015  \n",
       "1                 Chicago   29      1  2015  \n",
       "2      HarrisburgScranton   29      1  2015  \n",
       "3              Pittsburgh   29      1  2015  \n",
       "4                   Boise   29      1  2015  \n",
       "...                   ...  ...    ...   ...  \n",
       "18244             Chicago   31      3  2018  \n",
       "18245        SouthCentral   31      3  2018  \n",
       "18246        SouthCentral   31      3  2018  \n",
       "18247          California   31      3  2018  \n",
       "18248             NewYork   31      3  2018  \n",
       "\n",
       "[18249 rows x 8 columns]"
      ]
     },
     "execution_count": 65,
     "metadata": {},
     "output_type": "execute_result"
    }
   ],
   "source": [
    "avocado_df['Year'] = avocado_df['Date'].dt.year\n",
    "avocado_df"
   ]
  },
  {
   "cell_type": "code",
   "execution_count": 66,
   "metadata": {
    "id": "Gr0trW7pDq6V"
   },
   "outputs": [
    {
     "data": {
      "text/html": [
       "<div>\n",
       "<style scoped>\n",
       "    .dataframe tbody tr th:only-of-type {\n",
       "        vertical-align: middle;\n",
       "    }\n",
       "\n",
       "    .dataframe tbody tr th {\n",
       "        vertical-align: top;\n",
       "    }\n",
       "\n",
       "    .dataframe thead th {\n",
       "        text-align: right;\n",
       "    }\n",
       "</style>\n",
       "<table border=\"1\" class=\"dataframe\">\n",
       "  <thead>\n",
       "    <tr style=\"text-align: right;\">\n",
       "      <th></th>\n",
       "      <th>AveragePrice</th>\n",
       "      <th>Total Volume</th>\n",
       "      <th>type</th>\n",
       "      <th>region</th>\n",
       "      <th>day</th>\n",
       "      <th>Month</th>\n",
       "      <th>Year</th>\n",
       "    </tr>\n",
       "    <tr>\n",
       "      <th>Date</th>\n",
       "      <th></th>\n",
       "      <th></th>\n",
       "      <th></th>\n",
       "      <th></th>\n",
       "      <th></th>\n",
       "      <th></th>\n",
       "      <th></th>\n",
       "    </tr>\n",
       "  </thead>\n",
       "  <tbody>\n",
       "    <tr>\n",
       "      <th>2015-01-29</th>\n",
       "      <td>1.75</td>\n",
       "      <td>27365.89</td>\n",
       "      <td>organic</td>\n",
       "      <td>Southeast</td>\n",
       "      <td>29</td>\n",
       "      <td>1</td>\n",
       "      <td>2015</td>\n",
       "    </tr>\n",
       "    <tr>\n",
       "      <th>2015-01-29</th>\n",
       "      <td>1.49</td>\n",
       "      <td>17723.17</td>\n",
       "      <td>organic</td>\n",
       "      <td>Chicago</td>\n",
       "      <td>29</td>\n",
       "      <td>1</td>\n",
       "      <td>2015</td>\n",
       "    </tr>\n",
       "    <tr>\n",
       "      <th>2015-01-29</th>\n",
       "      <td>1.68</td>\n",
       "      <td>2896.72</td>\n",
       "      <td>organic</td>\n",
       "      <td>HarrisburgScranton</td>\n",
       "      <td>29</td>\n",
       "      <td>1</td>\n",
       "      <td>2015</td>\n",
       "    </tr>\n",
       "    <tr>\n",
       "      <th>2015-01-29</th>\n",
       "      <td>1.52</td>\n",
       "      <td>54956.80</td>\n",
       "      <td>conventional</td>\n",
       "      <td>Pittsburgh</td>\n",
       "      <td>29</td>\n",
       "      <td>1</td>\n",
       "      <td>2015</td>\n",
       "    </tr>\n",
       "    <tr>\n",
       "      <th>2015-01-29</th>\n",
       "      <td>1.64</td>\n",
       "      <td>1505.12</td>\n",
       "      <td>organic</td>\n",
       "      <td>Boise</td>\n",
       "      <td>29</td>\n",
       "      <td>1</td>\n",
       "      <td>2015</td>\n",
       "    </tr>\n",
       "    <tr>\n",
       "      <th>...</th>\n",
       "      <td>...</td>\n",
       "      <td>...</td>\n",
       "      <td>...</td>\n",
       "      <td>...</td>\n",
       "      <td>...</td>\n",
       "      <td>...</td>\n",
       "      <td>...</td>\n",
       "    </tr>\n",
       "    <tr>\n",
       "      <th>2018-03-31</th>\n",
       "      <td>1.36</td>\n",
       "      <td>908202.13</td>\n",
       "      <td>conventional</td>\n",
       "      <td>Chicago</td>\n",
       "      <td>31</td>\n",
       "      <td>3</td>\n",
       "      <td>2018</td>\n",
       "    </tr>\n",
       "    <tr>\n",
       "      <th>2018-03-31</th>\n",
       "      <td>0.70</td>\n",
       "      <td>9010588.32</td>\n",
       "      <td>conventional</td>\n",
       "      <td>SouthCentral</td>\n",
       "      <td>31</td>\n",
       "      <td>3</td>\n",
       "      <td>2018</td>\n",
       "    </tr>\n",
       "    <tr>\n",
       "      <th>2018-03-31</th>\n",
       "      <td>1.42</td>\n",
       "      <td>163496.70</td>\n",
       "      <td>organic</td>\n",
       "      <td>SouthCentral</td>\n",
       "      <td>31</td>\n",
       "      <td>3</td>\n",
       "      <td>2018</td>\n",
       "    </tr>\n",
       "    <tr>\n",
       "      <th>2018-03-31</th>\n",
       "      <td>1.70</td>\n",
       "      <td>190257.38</td>\n",
       "      <td>organic</td>\n",
       "      <td>California</td>\n",
       "      <td>31</td>\n",
       "      <td>3</td>\n",
       "      <td>2018</td>\n",
       "    </tr>\n",
       "    <tr>\n",
       "      <th>2018-03-31</th>\n",
       "      <td>1.34</td>\n",
       "      <td>1774776.77</td>\n",
       "      <td>conventional</td>\n",
       "      <td>NewYork</td>\n",
       "      <td>31</td>\n",
       "      <td>3</td>\n",
       "      <td>2018</td>\n",
       "    </tr>\n",
       "  </tbody>\n",
       "</table>\n",
       "<p>18249 rows × 7 columns</p>\n",
       "</div>"
      ],
      "text/plain": [
       "            AveragePrice  Total Volume          type              region  day  \\\n",
       "Date                                                                            \n",
       "2015-01-29          1.75      27365.89       organic           Southeast   29   \n",
       "2015-01-29          1.49      17723.17       organic             Chicago   29   \n",
       "2015-01-29          1.68       2896.72       organic  HarrisburgScranton   29   \n",
       "2015-01-29          1.52      54956.80  conventional          Pittsburgh   29   \n",
       "2015-01-29          1.64       1505.12       organic               Boise   29   \n",
       "...                  ...           ...           ...                 ...  ...   \n",
       "2018-03-31          1.36     908202.13  conventional             Chicago   31   \n",
       "2018-03-31          0.70    9010588.32  conventional        SouthCentral   31   \n",
       "2018-03-31          1.42     163496.70       organic        SouthCentral   31   \n",
       "2018-03-31          1.70     190257.38       organic          California   31   \n",
       "2018-03-31          1.34    1774776.77  conventional             NewYork   31   \n",
       "\n",
       "            Month  Year  \n",
       "Date                     \n",
       "2015-01-29      1  2015  \n",
       "2015-01-29      1  2015  \n",
       "2015-01-29      1  2015  \n",
       "2015-01-29      1  2015  \n",
       "2015-01-29      1  2015  \n",
       "...           ...   ...  \n",
       "2018-03-31      3  2018  \n",
       "2018-03-31      3  2018  \n",
       "2018-03-31      3  2018  \n",
       "2018-03-31      3  2018  \n",
       "2018-03-31      3  2018  \n",
       "\n",
       "[18249 rows x 7 columns]"
      ]
     },
     "execution_count": 66,
     "metadata": {},
     "output_type": "execute_result"
    }
   ],
   "source": [
    "# Don't forget to set the Date to be in the index for the DataFrame\n",
    "avocado_df.set_index(keys=['Date'], inplace=True)\n",
    "avocado_df"
   ]
  },
  {
   "cell_type": "markdown",
   "metadata": {
    "id": "V7a9DzIQDJtE"
   },
   "source": [
    "**MINI CHALLENGE #4:**\n",
    "- **Calculate the average avocado price per quarter end**"
   ]
  },
  {
   "cell_type": "code",
   "execution_count": 67,
   "metadata": {
    "id": "5l65kp3fDSCE"
   },
   "outputs": [
    {
     "name": "stderr",
     "output_type": "stream",
     "text": [
      "/var/folders/7w/96n4332d1k95m5_ly0gmyjw00000gn/T/ipykernel_72216/4000384498.py:1: FutureWarning: The default value of numeric_only in DataFrameGroupBy.mean is deprecated. In a future version, numeric_only will default to False. Either specify numeric_only or select only columns which should be valid for the function.\n",
      "  avocado_df.resample(rule='Q').mean()\n"
     ]
    },
    {
     "data": {
      "text/html": [
       "<div>\n",
       "<style scoped>\n",
       "    .dataframe tbody tr th:only-of-type {\n",
       "        vertical-align: middle;\n",
       "    }\n",
       "\n",
       "    .dataframe tbody tr th {\n",
       "        vertical-align: top;\n",
       "    }\n",
       "\n",
       "    .dataframe thead th {\n",
       "        text-align: right;\n",
       "    }\n",
       "</style>\n",
       "<table border=\"1\" class=\"dataframe\">\n",
       "  <thead>\n",
       "    <tr style=\"text-align: right;\">\n",
       "      <th></th>\n",
       "      <th>AveragePrice</th>\n",
       "      <th>Total Volume</th>\n",
       "      <th>day</th>\n",
       "      <th>Month</th>\n",
       "      <th>Year</th>\n",
       "    </tr>\n",
       "    <tr>\n",
       "      <th>Date</th>\n",
       "      <th></th>\n",
       "      <th></th>\n",
       "      <th></th>\n",
       "      <th></th>\n",
       "      <th></th>\n",
       "    </tr>\n",
       "  </thead>\n",
       "  <tbody>\n",
       "    <tr>\n",
       "      <th>2015-03-31</th>\n",
       "      <td>1.352144</td>\n",
       "      <td>7.829814e+05</td>\n",
       "      <td>29.230769</td>\n",
       "      <td>2.000000</td>\n",
       "      <td>2015.0</td>\n",
       "    </tr>\n",
       "    <tr>\n",
       "      <th>2015-06-30</th>\n",
       "      <td>1.373348</td>\n",
       "      <td>8.616490e+05</td>\n",
       "      <td>30.384615</td>\n",
       "      <td>5.000000</td>\n",
       "      <td>2015.0</td>\n",
       "    </tr>\n",
       "    <tr>\n",
       "      <th>2015-09-30</th>\n",
       "      <td>1.435135</td>\n",
       "      <td>7.871549e+05</td>\n",
       "      <td>30.692308</td>\n",
       "      <td>8.000000</td>\n",
       "      <td>2015.0</td>\n",
       "    </tr>\n",
       "    <tr>\n",
       "      <th>2015-12-31</th>\n",
       "      <td>1.341711</td>\n",
       "      <td>6.922609e+05</td>\n",
       "      <td>30.615110</td>\n",
       "      <td>10.999287</td>\n",
       "      <td>2015.0</td>\n",
       "    </tr>\n",
       "    <tr>\n",
       "      <th>2016-03-31</th>\n",
       "      <td>1.234323</td>\n",
       "      <td>9.225527e+05</td>\n",
       "      <td>29.923077</td>\n",
       "      <td>2.000000</td>\n",
       "      <td>2016.0</td>\n",
       "    </tr>\n",
       "    <tr>\n",
       "      <th>2016-06-30</th>\n",
       "      <td>1.226994</td>\n",
       "      <td>9.781990e+05</td>\n",
       "      <td>30.307692</td>\n",
       "      <td>4.923077</td>\n",
       "      <td>2016.0</td>\n",
       "    </tr>\n",
       "    <tr>\n",
       "      <th>2016-09-30</th>\n",
       "      <td>1.412507</td>\n",
       "      <td>8.549684e+05</td>\n",
       "      <td>30.692308</td>\n",
       "      <td>7.923077</td>\n",
       "      <td>2016.0</td>\n",
       "    </tr>\n",
       "    <tr>\n",
       "      <th>2016-12-31</th>\n",
       "      <td>1.466157</td>\n",
       "      <td>6.986160e+05</td>\n",
       "      <td>30.714286</td>\n",
       "      <td>11.000000</td>\n",
       "      <td>2016.0</td>\n",
       "    </tr>\n",
       "    <tr>\n",
       "      <th>2017-03-31</th>\n",
       "      <td>1.297145</td>\n",
       "      <td>9.716475e+05</td>\n",
       "      <td>29.333333</td>\n",
       "      <td>2.000000</td>\n",
       "      <td>2017.0</td>\n",
       "    </tr>\n",
       "    <tr>\n",
       "      <th>2017-06-30</th>\n",
       "      <td>1.524971</td>\n",
       "      <td>9.457601e+05</td>\n",
       "      <td>30.308131</td>\n",
       "      <td>4.921541</td>\n",
       "      <td>2017.0</td>\n",
       "    </tr>\n",
       "    <tr>\n",
       "      <th>2017-09-30</th>\n",
       "      <td>1.703968</td>\n",
       "      <td>7.712518e+05</td>\n",
       "      <td>30.642857</td>\n",
       "      <td>8.000000</td>\n",
       "      <td>2017.0</td>\n",
       "    </tr>\n",
       "    <tr>\n",
       "      <th>2017-12-31</th>\n",
       "      <td>1.521489</td>\n",
       "      <td>7.681721e+05</td>\n",
       "      <td>30.692308</td>\n",
       "      <td>11.076923</td>\n",
       "      <td>2017.0</td>\n",
       "    </tr>\n",
       "    <tr>\n",
       "      <th>2018-03-31</th>\n",
       "      <td>1.347531</td>\n",
       "      <td>1.066928e+06</td>\n",
       "      <td>29.333333</td>\n",
       "      <td>2.000000</td>\n",
       "      <td>2018.0</td>\n",
       "    </tr>\n",
       "  </tbody>\n",
       "</table>\n",
       "</div>"
      ],
      "text/plain": [
       "            AveragePrice  Total Volume        day      Month    Year\n",
       "Date                                                                \n",
       "2015-03-31      1.352144  7.829814e+05  29.230769   2.000000  2015.0\n",
       "2015-06-30      1.373348  8.616490e+05  30.384615   5.000000  2015.0\n",
       "2015-09-30      1.435135  7.871549e+05  30.692308   8.000000  2015.0\n",
       "2015-12-31      1.341711  6.922609e+05  30.615110  10.999287  2015.0\n",
       "2016-03-31      1.234323  9.225527e+05  29.923077   2.000000  2016.0\n",
       "2016-06-30      1.226994  9.781990e+05  30.307692   4.923077  2016.0\n",
       "2016-09-30      1.412507  8.549684e+05  30.692308   7.923077  2016.0\n",
       "2016-12-31      1.466157  6.986160e+05  30.714286  11.000000  2016.0\n",
       "2017-03-31      1.297145  9.716475e+05  29.333333   2.000000  2017.0\n",
       "2017-06-30      1.524971  9.457601e+05  30.308131   4.921541  2017.0\n",
       "2017-09-30      1.703968  7.712518e+05  30.642857   8.000000  2017.0\n",
       "2017-12-31      1.521489  7.681721e+05  30.692308  11.076923  2017.0\n",
       "2018-03-31      1.347531  1.066928e+06  29.333333   2.000000  2018.0"
      ]
     },
     "execution_count": 67,
     "metadata": {},
     "output_type": "execute_result"
    }
   ],
   "source": [
    "avocado_df.resample(rule='Q').mean()"
   ]
  },
  {
   "cell_type": "markdown",
   "metadata": {
    "id": "Mna3C1O7Jv8n"
   },
   "source": [
    "# 5. DATA PLOTTING (STRETCH ASSIGNMENT!)"
   ]
  },
  {
   "cell_type": "code",
   "execution_count": null,
   "metadata": {
    "id": "yGryL8-lNn2j"
   },
   "outputs": [],
   "source": [
    "# Once you have index set to DateTime, this unlocks its power by performing aggregation\n",
    "# Aggregating the data by month end\n"
   ]
  },
  {
   "cell_type": "code",
   "execution_count": null,
   "metadata": {
    "id": "rwCOh88XHdVZ"
   },
   "outputs": [],
   "source": [
    "# plot the avocado average price per month \n"
   ]
  },
  {
   "cell_type": "code",
   "execution_count": null,
   "metadata": {
    "id": "4I_nDbCAQkeq"
   },
   "outputs": [],
   "source": [
    "# plot the avocado average price per quarter  \n"
   ]
  },
  {
   "cell_type": "code",
   "execution_count": null,
   "metadata": {
    "id": "xc_sWoDOQeC8"
   },
   "outputs": [],
   "source": [
    "# plot the avocado average price per annual basis \n"
   ]
  },
  {
   "cell_type": "code",
   "execution_count": null,
   "metadata": {
    "id": "7xskq2hLKmy_"
   },
   "outputs": [],
   "source": []
  },
  {
   "cell_type": "code",
   "execution_count": null,
   "metadata": {
    "id": "1o30--2-KiAJ"
   },
   "outputs": [],
   "source": [
    "\n",
    "\n",
    "plt.figure(figsize = (10, 7))\n",
    "sns.violinplot(y = 'AveragePrice', x = 'type', data = avocado_df)"
   ]
  },
  {
   "cell_type": "code",
   "execution_count": null,
   "metadata": {
    "id": "CiikBFv3KkCz"
   },
   "outputs": [],
   "source": [
    "# plot the distribution plot of avocado prices (histogram + Kernel Denisty Estimate)\n"
   ]
  },
  {
   "cell_type": "code",
   "execution_count": null,
   "metadata": {
    "id": "xyHS1Ad3K0TR"
   },
   "outputs": [],
   "source": [
    "# Catplot is used to draw categorical plots onto a FacetGrid.\n",
    "# Catplot provides access to several axes-level functions that show the relationship between a numerical and one or more categorical variables.\n",
    "\n"
   ]
  },
  {
   "cell_type": "markdown",
   "metadata": {
    "id": "-eEFmOe5IYD2"
   },
   "source": [
    "**MINI CHALLENGE #5:**\n",
    "- **Plot the average price of avocado on a weekly basis**\n",
    "- **Plot Catplot for price vs. region for organic food**"
   ]
  },
  {
   "cell_type": "code",
   "execution_count": null,
   "metadata": {
    "id": "fn27iFz5Juv0"
   },
   "outputs": [],
   "source": []
  },
  {
   "cell_type": "code",
   "execution_count": null,
   "metadata": {
    "id": "xavziF1-NAs8"
   },
   "outputs": [],
   "source": []
  }
 ],
 "metadata": {
  "colab": {
   "authorship_tag": "ABX9TyPHfw16DcGeMVjK01omV7wX",
   "collapsed_sections": [],
   "name": "Pandas with Date/Time - Skeleton.ipynb",
   "provenance": []
  },
  "kernelspec": {
   "display_name": "Python 3 (ipykernel)",
   "language": "python",
   "name": "python3"
  },
  "language_info": {
   "codemirror_mode": {
    "name": "ipython",
    "version": 3
   },
   "file_extension": ".py",
   "mimetype": "text/x-python",
   "name": "python",
   "nbconvert_exporter": "python",
   "pygments_lexer": "ipython3",
   "version": "3.11.3"
  }
 },
 "nbformat": 4,
 "nbformat_minor": 1
}
