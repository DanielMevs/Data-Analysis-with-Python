{
 "cells": [
  {
   "cell_type": "markdown",
   "metadata": {
    "id": "Azicxc7eswin"
   },
   "source": [
    "# 1. BASIC PYTHON DATETIME MODULE"
   ]
  },
  {
   "cell_type": "code",
   "execution_count": 1,
   "metadata": {
    "id": "0pSS3MBa2rUJ"
   },
   "outputs": [],
   "source": [
    "# datetime is one of Python's core standard libraries \n",
    "# We are going to use two methods to deal with dates/times: (1) date and (2) dateime\n",
    "# date: helps us define dates only without including time (month, day, year)\n",
    "# datetime: helps us define times and dates together (month, day, year, hour, second, microsecond)\n",
    "# Let's import datetime module as dt\n",
    "import pandas as pd\n",
    "import datetime as dt"
   ]
  },
  {
   "cell_type": "code",
   "execution_count": 2,
   "metadata": {
    "id": "Y1AOz1zns44L"
   },
   "outputs": [
    {
     "data": {
      "text/plain": [
       "datetime.date(2020, 3, 22)"
      ]
     },
     "execution_count": 2,
     "metadata": {},
     "output_type": "execute_result"
    }
   ],
   "source": [
    "# Pick a date using Python's date method inside the datetime module\n",
    "my_date = dt.date(2020, 3, 22)\n",
    "my_date"
   ]
  },
  {
   "cell_type": "code",
   "execution_count": 3,
   "metadata": {
    "id": "v7qSLVYts46b"
   },
   "outputs": [
    {
     "data": {
      "text/plain": [
       "datetime.date"
      ]
     },
     "execution_count": 3,
     "metadata": {},
     "output_type": "execute_result"
    }
   ],
   "source": [
    "# Check the data type (datetime object)\n",
    "type(my_date)"
   ]
  },
  {
   "cell_type": "code",
   "execution_count": 4,
   "metadata": {
    "id": "K6ju34njub2L"
   },
   "outputs": [
    {
     "data": {
      "text/plain": [
       "'2020-03-22'"
      ]
     },
     "execution_count": 4,
     "metadata": {},
     "output_type": "execute_result"
    }
   ],
   "source": [
    "# Convert it into string to view the date and time\n",
    "str(my_date)"
   ]
  },
  {
   "cell_type": "code",
   "execution_count": 5,
   "metadata": {
    "id": "AJTH-Ie4s48y"
   },
   "outputs": [
    {
     "data": {
      "text/plain": [
       "22"
      ]
     },
     "execution_count": 5,
     "metadata": {},
     "output_type": "execute_result"
    }
   ],
   "source": [
    "# Attribute day will return the day contained in the datetime object\n",
    "my_date.day"
   ]
  },
  {
   "cell_type": "code",
   "execution_count": 6,
   "metadata": {
    "id": "7p_ZgtQss4-v"
   },
   "outputs": [
    {
     "data": {
      "text/plain": [
       "3"
      ]
     },
     "execution_count": 6,
     "metadata": {},
     "output_type": "execute_result"
    }
   ],
   "source": [
    "# Month attribute will return the month contained in the datetime object\n",
    "my_date.month"
   ]
  },
  {
   "cell_type": "code",
   "execution_count": 7,
   "metadata": {
    "id": "B3eMUWlqs5A1"
   },
   "outputs": [
    {
     "data": {
      "text/plain": [
       "2020"
      ]
     },
     "execution_count": 7,
     "metadata": {},
     "output_type": "execute_result"
    }
   ],
   "source": [
    "# year attribute will return the year contained in the datetime object\n",
    "my_date.year"
   ]
  },
  {
   "cell_type": "code",
   "execution_count": 8,
   "metadata": {
    "id": "YEvHXbdks5DG"
   },
   "outputs": [],
   "source": [
    "# Let's define a datetime using datetime method as follows\n",
    "my_datetime = dt.datetime(2020, 3, 22, 8, 20, 50)"
   ]
  },
  {
   "cell_type": "code",
   "execution_count": 10,
   "metadata": {},
   "outputs": [
    {
     "data": {
      "text/plain": [
       "'2020-03-22 08:20:50'"
      ]
     },
     "execution_count": 10,
     "metadata": {},
     "output_type": "execute_result"
    }
   ],
   "source": [
    "# - Convert it into string to view the date time\n",
    "str(my_datetime)"
   ]
  },
  {
   "cell_type": "code",
   "execution_count": 11,
   "metadata": {
    "id": "x0k3Ku8Os5Fd"
   },
   "outputs": [
    {
     "data": {
      "text/plain": [
       "8"
      ]
     },
     "execution_count": 11,
     "metadata": {},
     "output_type": "execute_result"
    }
   ],
   "source": [
    "# Obtain the hour contained in the datetime object\n",
    "my_datetime.hour"
   ]
  },
  {
   "cell_type": "code",
   "execution_count": 12,
   "metadata": {
    "id": "OgGX520fs5IG"
   },
   "outputs": [
    {
     "data": {
      "text/plain": [
       "20"
      ]
     },
     "execution_count": 12,
     "metadata": {},
     "output_type": "execute_result"
    }
   ],
   "source": [
    "# Obtain the minutes contained in the datetime object\n",
    "my_datetime.minute"
   ]
  },
  {
   "cell_type": "code",
   "execution_count": 13,
   "metadata": {
    "id": "xwrRCXpts5KW"
   },
   "outputs": [
    {
     "name": "stdout",
     "output_type": "stream",
     "text": [
      "     March 2021\n",
      "Mo Tu We Th Fr Sa Su\n",
      " 1  2  3  4  5  6  7\n",
      " 8  9 10 11 12 13 14\n",
      "15 16 17 18 19 20 21\n",
      "22 23 24 25 26 27 28\n",
      "29 30 31\n",
      "\n"
     ]
    }
   ],
   "source": [
    "# print out calendar!\n",
    "import calendar\n",
    "print(calendar.month(2021, 3))"
   ]
  },
  {
   "cell_type": "code",
   "execution_count": 14,
   "metadata": {
    "id": "J93BnJPdwG8Z"
   },
   "outputs": [
    {
     "data": {
      "text/plain": [
       "0         2020/03/22\n",
       "1         2020-08-25\n",
       "2    March 22nd 2020\n",
       "dtype: object"
      ]
     },
     "execution_count": 14,
     "metadata": {},
     "output_type": "execute_result"
    }
   ],
   "source": [
    "# You can also use pd.datetime to convert a regular Pandas Series into datetime as follows:\n",
    "dates = pd.Series(['2020/03/22', '2020-08-25', 'March 22nd 2020'])\n",
    "dates"
   ]
  },
  {
   "cell_type": "code",
   "execution_count": 15,
   "metadata": {
    "id": "5D5F0rzPwG-a"
   },
   "outputs": [
    {
     "data": {
      "text/plain": [
       "0   2020-03-22\n",
       "1   2020-08-25\n",
       "2   2020-03-22\n",
       "dtype: datetime64[ns]"
      ]
     },
     "execution_count": 15,
     "metadata": {},
     "output_type": "execute_result"
    }
   ],
   "source": [
    "# The to_datetime() method converts the date and time in string format to a DateTime object:\n",
    "my_dates = pd.to_datetime(dates)\n",
    "my_dates"
   ]
  },
  {
   "cell_type": "markdown",
   "metadata": {
    "id": "kbr9clmQ5WUk"
   },
   "source": [
    "**MINI CHALLENGE #1:**\n",
    "- **Use Python's datetime method to write your date and time of your birth! Convert it into string format**"
   ]
  },
  {
   "cell_type": "code",
   "execution_count": 16,
   "metadata": {
    "id": "h02MiRhS5n86"
   },
   "outputs": [
    {
     "data": {
      "text/plain": [
       "'1992-10-25 08:09:20'"
      ]
     },
     "execution_count": 16,
     "metadata": {},
     "output_type": "execute_result"
    }
   ],
   "source": [
    "import datetime as dt\n",
    "my_birth = dt.datetime(1992, 10, 25, 8, 9, 20)\n",
    "str(my_birth)"
   ]
  },
  {
   "cell_type": "markdown",
   "metadata": {
    "id": "IhF0O0zXuxT1"
   },
   "source": [
    "# 2. HANDLING DATES AND TIMES USING PANDAS "
   ]
  },
  {
   "cell_type": "code",
   "execution_count": 2,
   "metadata": {
    "id": "LAHEi5Q1w53a"
   },
   "outputs": [
    {
     "data": {
      "text/plain": [
       "Timestamp('2020-03-22 00:00:00')"
      ]
     },
     "execution_count": 2,
     "metadata": {},
     "output_type": "execute_result"
    }
   ],
   "source": [
    "# Timestamp is the pandas equivalent of python’s Datetime and is interchangeable with it in most cases. \n",
    "# It’s the type used for the entries that make up a DatetimeIndex, and other timeseries oriented data structures in pandas.\n",
    "# Check this out: https://pandas.pydata.org/docs/reference/api/pandas.Timestamp.html\n",
    "pd.Timestamp('2020-3-22')"
   ]
  },
  {
   "cell_type": "code",
   "execution_count": 3,
   "metadata": {
    "id": "dqiHOkhrxaNr"
   },
   "outputs": [
    {
     "data": {
      "text/plain": [
       "Timestamp('2020-03-22 10:00:00')"
      ]
     },
     "execution_count": 3,
     "metadata": {},
     "output_type": "execute_result"
    }
   ],
   "source": [
    "pd.Timestamp('2020, 3, 22, 10')"
   ]
  },
  {
   "cell_type": "code",
   "execution_count": 4,
   "metadata": {
    "id": "35dsjcjrx0D5"
   },
   "outputs": [
    {
     "data": {
      "text/plain": [
       "Timestamp('2020-03-22 08:20:50')"
      ]
     },
     "execution_count": 4,
     "metadata": {},
     "output_type": "execute_result"
    }
   ],
   "source": [
    "# Or you can define a Pandas Timestamp using Python datetime object \n",
    "pd.Timestamp(dt.datetime(2020, 3, 22, 8, 20, 50))"
   ]
  },
  {
   "cell_type": "code",
   "execution_count": 5,
   "metadata": {
    "id": "td8kITUAE3YH"
   },
   "outputs": [
    {
     "name": "stdout",
     "output_type": "stream",
     "text": [
      "8401 days 00:00:00\n"
     ]
    }
   ],
   "source": [
    "# Calculate difference between two dates\n",
    "day_1 = pd.Timestamp('1998, 3, 22, 10')\n",
    "day_2 = pd.Timestamp('2021, 3, 22, 10')\n",
    "delta = day_2 - day_1\n",
    "print(delta)"
   ]
  },
  {
   "cell_type": "code",
   "execution_count": 6,
   "metadata": {
    "id": "AL1PFalLu6f6"
   },
   "outputs": [],
   "source": [
    "# Let's define 3 dates for 3 separate transactions\n",
    "date_1 = dt.date(2020, 3, 22)\n",
    "date_2 = dt.date(2020, 4, 22)\n",
    "date_3 = dt.date(2020, 5, 22)"
   ]
  },
  {
   "cell_type": "code",
   "execution_count": 7,
   "metadata": {
    "id": "RMWAfRpHu1KO"
   },
   "outputs": [],
   "source": [
    "# Let's put the 3 dates in a list as follows\n",
    "dates_list = [date_1, date_2, date_3]\n",
    "\n",
    "# Use Pandas DateTimeIndex to convert the list into datetime datatype as follows\n",
    "# Datetime index constructor method creates a collection of dates\n",
    "dates_index = pd.DatetimeIndex(dates_list)"
   ]
  },
  {
   "cell_type": "code",
   "execution_count": 8,
   "metadata": {
    "id": "Pkc4X8d8vYp9"
   },
   "outputs": [
    {
     "data": {
      "text/plain": [
       "DatetimeIndex(['2020-03-22', '2020-04-22', '2020-05-22'], dtype='datetime64[ns]', freq=None)"
      ]
     },
     "execution_count": 8,
     "metadata": {},
     "output_type": "execute_result"
    }
   ],
   "source": [
    "dates_index"
   ]
  },
  {
   "cell_type": "code",
   "execution_count": 9,
   "metadata": {
    "id": "T44po-w-u3vg"
   },
   "outputs": [],
   "source": [
    "# Define a list that carries 3 values corresponding to store sales\n",
    "sales = [50, 55, 60]"
   ]
  },
  {
   "cell_type": "code",
   "execution_count": 10,
   "metadata": {
    "id": "Cc_GFSRYu3x5"
   },
   "outputs": [
    {
     "data": {
      "text/plain": [
       "2020-03-22    50\n",
       "2020-04-22    55\n",
       "2020-05-22    60\n",
       "dtype: int64"
      ]
     },
     "execution_count": 10,
     "metadata": {},
     "output_type": "execute_result"
    }
   ],
   "source": [
    "# Define a Pandas Series using datetime and values as follows:\n",
    "sales = pd.Series(data=sales, index=dates_index)\n",
    "sales"
   ]
  },
  {
   "cell_type": "code",
   "execution_count": 12,
   "metadata": {
    "id": "AjqYmkTJwHA4"
   },
   "outputs": [
    {
     "data": {
      "text/plain": [
       "DatetimeIndex(['2020-01-01', '2020-01-02', '2020-01-03', '2020-01-04',\n",
       "               '2020-01-05', '2020-01-06', '2020-01-07', '2020-01-08',\n",
       "               '2020-01-09', '2020-01-10', '2020-01-11', '2020-01-12',\n",
       "               '2020-01-13', '2020-01-14', '2020-01-15', '2020-01-16',\n",
       "               '2020-01-17', '2020-01-18', '2020-01-19', '2020-01-20',\n",
       "               '2020-01-21', '2020-01-22', '2020-01-23', '2020-01-24',\n",
       "               '2020-01-25', '2020-01-26', '2020-01-27', '2020-01-28',\n",
       "               '2020-01-29', '2020-01-30', '2020-01-31', '2020-02-01',\n",
       "               '2020-02-02', '2020-02-03', '2020-02-04', '2020-02-05',\n",
       "               '2020-02-06', '2020-02-07', '2020-02-08', '2020-02-09',\n",
       "               '2020-02-10', '2020-02-11', '2020-02-12', '2020-02-13',\n",
       "               '2020-02-14', '2020-02-15', '2020-02-16', '2020-02-17',\n",
       "               '2020-02-18', '2020-02-19', '2020-02-20', '2020-02-21',\n",
       "               '2020-02-22', '2020-02-23', '2020-02-24', '2020-02-25',\n",
       "               '2020-02-26', '2020-02-27', '2020-02-28', '2020-02-29',\n",
       "               '2020-03-01', '2020-03-02', '2020-03-03', '2020-03-04',\n",
       "               '2020-03-05', '2020-03-06', '2020-03-07', '2020-03-08',\n",
       "               '2020-03-09', '2020-03-10', '2020-03-11', '2020-03-12',\n",
       "               '2020-03-13', '2020-03-14', '2020-03-15', '2020-03-16',\n",
       "               '2020-03-17', '2020-03-18', '2020-03-19', '2020-03-20',\n",
       "               '2020-03-21', '2020-03-22', '2020-03-23', '2020-03-24',\n",
       "               '2020-03-25', '2020-03-26', '2020-03-27', '2020-03-28',\n",
       "               '2020-03-29', '2020-03-30', '2020-03-31', '2020-04-01'],\n",
       "              dtype='datetime64[ns]', freq='D')"
      ]
     },
     "execution_count": 12,
     "metadata": {},
     "output_type": "execute_result"
    }
   ],
   "source": [
    "# you can also define a range of dates as follows:\n",
    "my_days = pd.date_range(start='2020-01-01', end='2020-04-01', freq='D')\n",
    "my_days"
   ]
  },
  {
   "cell_type": "code",
   "execution_count": 13,
   "metadata": {
    "id": "oa2FdXw9wHC1"
   },
   "outputs": [
    {
     "data": {
      "text/plain": [
       "pandas.core.indexes.datetimes.DatetimeIndex"
      ]
     },
     "execution_count": 13,
     "metadata": {},
     "output_type": "execute_result"
    }
   ],
   "source": [
    "# Datatype is a datetimeindex (which is a collection of dates!)\n",
    "type(my_days)"
   ]
  },
  {
   "cell_type": "code",
   "execution_count": 15,
   "metadata": {
    "id": "L0nzpo8KwHE1"
   },
   "outputs": [
    {
     "data": {
      "text/plain": [
       "pandas._libs.tslibs.timestamps.Timestamp"
      ]
     },
     "execution_count": 15,
     "metadata": {},
     "output_type": "execute_result"
    }
   ],
   "source": [
    "# If you pick any sample date, it's represented in timestamp datatype\n",
    "my_days[4]\n",
    "type(my_days[4])"
   ]
  },
  {
   "cell_type": "code",
   "execution_count": 16,
   "metadata": {
    "id": "QZcDmwfVwHHB"
   },
   "outputs": [
    {
     "data": {
      "text/plain": [
       "DatetimeIndex(['2020-01-31', '2020-02-29', '2020-03-31', '2020-04-30',\n",
       "               '2020-05-31', '2020-06-30', '2020-07-31'],\n",
       "              dtype='datetime64[ns]', freq='M')"
      ]
     },
     "execution_count": 16,
     "metadata": {},
     "output_type": "execute_result"
    }
   ],
   "source": [
    "# you can also define a range of dates using M which stands for month end as follows:\n",
    "my_days = pd.date_range(start='2020-01-01', end='2020-08-01', freq='M')\n",
    "my_days"
   ]
  },
  {
   "cell_type": "code",
   "execution_count": 17,
   "metadata": {
    "id": "uYTptOj-wHLa"
   },
   "outputs": [
    {
     "data": {
      "text/plain": [
       "DatetimeIndex(['2020-01-01', '2020-01-02', '2020-01-03', '2020-01-04',\n",
       "               '2020-01-05', '2020-01-06', '2020-01-07', '2020-01-08',\n",
       "               '2020-01-09', '2020-01-10', '2020-01-11', '2020-01-12',\n",
       "               '2020-01-13', '2020-01-14', '2020-01-15', '2020-01-16',\n",
       "               '2020-01-17', '2020-01-18', '2020-01-19', '2020-01-20'],\n",
       "              dtype='datetime64[ns]', freq='D')"
      ]
     },
     "execution_count": 17,
     "metadata": {},
     "output_type": "execute_result"
    }
   ],
   "source": [
    "# Alternative way of defining a list of dates\n",
    "pd.date_range(start='2020-01-01', periods=20, freq='D')"
   ]
  },
  {
   "cell_type": "markdown",
   "metadata": {
    "id": "BHMfOyBs9gS7"
   },
   "source": [
    "**MINI CHALLENGE #2:**\n",
    "- **Obtain the business days between 2020-01-01 and 2020-04-01**"
   ]
  },
  {
   "cell_type": "code",
   "execution_count": 18,
   "metadata": {
    "id": "IaW6dZor9zkz"
   },
   "outputs": [
    {
     "data": {
      "text/plain": [
       "DatetimeIndex(['2020-01-01', '2020-01-02', '2020-01-03', '2020-01-06',\n",
       "               '2020-01-07', '2020-01-08', '2020-01-09', '2020-01-10',\n",
       "               '2020-01-13', '2020-01-14', '2020-01-15', '2020-01-16',\n",
       "               '2020-01-17', '2020-01-20', '2020-01-21', '2020-01-22',\n",
       "               '2020-01-23', '2020-01-24', '2020-01-27', '2020-01-28',\n",
       "               '2020-01-29', '2020-01-30', '2020-01-31', '2020-02-03',\n",
       "               '2020-02-04', '2020-02-05', '2020-02-06', '2020-02-07',\n",
       "               '2020-02-10', '2020-02-11', '2020-02-12', '2020-02-13',\n",
       "               '2020-02-14', '2020-02-17', '2020-02-18', '2020-02-19',\n",
       "               '2020-02-20', '2020-02-21', '2020-02-24', '2020-02-25',\n",
       "               '2020-02-26', '2020-02-27', '2020-02-28', '2020-03-02',\n",
       "               '2020-03-03', '2020-03-04', '2020-03-05', '2020-03-06',\n",
       "               '2020-03-09', '2020-03-10', '2020-03-11', '2020-03-12',\n",
       "               '2020-03-13', '2020-03-16', '2020-03-17', '2020-03-18',\n",
       "               '2020-03-19', '2020-03-20', '2020-03-23', '2020-03-24',\n",
       "               '2020-03-25', '2020-03-26', '2020-03-27', '2020-03-30',\n",
       "               '2020-03-31', '2020-04-01'],\n",
       "              dtype='datetime64[ns]', freq='B')"
      ]
     },
     "execution_count": 18,
     "metadata": {},
     "output_type": "execute_result"
    }
   ],
   "source": [
    "my_days = pd.date_range(start='2020-01-01', end='2020-04-01', freq='B')\n",
    "my_days"
   ]
  },
  {
   "cell_type": "markdown",
   "metadata": {
    "id": "U3R2xjdR0x5-"
   },
   "source": [
    "# 3. DATETIME IN ACTION! PRACTICAL EXAMPLE PART #1"
   ]
  },
  {
   "cell_type": "code",
   "execution_count": null,
   "metadata": {
    "id": "1NjpBi756zak"
   },
   "outputs": [],
   "source": [
    "# dataframes creation for both training and testing datasets \n",
    "\n",
    "\n",
    "# Convert date column to datetime format\n",
    "\n",
    "\n",
    "# Date: The date of the observation\n",
    "# AveragePrice: the average price of a single avocado\n",
    "# type: conventional or organic\n",
    "# Region: the city or region of the observation\n",
    "# Total Volume: Total number of avocados sold\n"
   ]
  },
  {
   "cell_type": "code",
   "execution_count": null,
   "metadata": {
    "id": "yf_fG1Ef9vQs"
   },
   "outputs": [],
   "source": []
  },
  {
   "cell_type": "code",
   "execution_count": null,
   "metadata": {
    "id": "nVtAGtzM8JIs"
   },
   "outputs": [],
   "source": [
    "# You can select any column to be the index for the DataFrame\n"
   ]
  },
  {
   "cell_type": "code",
   "execution_count": null,
   "metadata": {
    "id": "KTN4aJhw6zdL"
   },
   "outputs": [],
   "source": []
  },
  {
   "cell_type": "code",
   "execution_count": null,
   "metadata": {
    "id": "Ey4dPiMy6zfX"
   },
   "outputs": [],
   "source": []
  },
  {
   "cell_type": "code",
   "execution_count": null,
   "metadata": {
    "id": "SyWOD0bh6zhW"
   },
   "outputs": [],
   "source": []
  },
  {
   "cell_type": "code",
   "execution_count": null,
   "metadata": {
    "id": "mtpQ_hXv6zjf"
   },
   "outputs": [],
   "source": []
  },
  {
   "cell_type": "markdown",
   "metadata": {
    "id": "0DYU3FMZ_Yk9"
   },
   "source": [
    "**MINI CHALLENGE #3:**\n",
    "- **What are the datatypes of each column in the avocado_df DataFrame?**"
   ]
  },
  {
   "cell_type": "code",
   "execution_count": null,
   "metadata": {
    "id": "_VXt8bNK_9Lg"
   },
   "outputs": [],
   "source": []
  },
  {
   "cell_type": "code",
   "execution_count": null,
   "metadata": {
    "id": "bcBpISZb6rio"
   },
   "outputs": [],
   "source": []
  },
  {
   "cell_type": "markdown",
   "metadata": {
    "id": "_Tiuffmn-2kR"
   },
   "source": [
    "# 4. DATETIME IN ACTION! PRACTICAL EXAMPLE PART #2"
   ]
  },
  {
   "cell_type": "code",
   "execution_count": null,
   "metadata": {
    "id": "O-R350EbA6XK"
   },
   "outputs": [],
   "source": []
  },
  {
   "cell_type": "code",
   "execution_count": null,
   "metadata": {
    "id": "9mD5ActQ6zn0"
   },
   "outputs": [],
   "source": [
    "# access elements with a specific datetime index using .loc\n"
   ]
  },
  {
   "cell_type": "code",
   "execution_count": null,
   "metadata": {
    "id": "KOjDPhv68lez"
   },
   "outputs": [],
   "source": [
    "# You can use iloc if you decide to use numeric indexes\n"
   ]
  },
  {
   "cell_type": "code",
   "execution_count": null,
   "metadata": {
    "id": "emKJuvvw8qtf"
   },
   "outputs": [],
   "source": [
    "# Access more than one element within a given date range\n"
   ]
  },
  {
   "cell_type": "code",
   "execution_count": null,
   "metadata": {
    "id": "W1X2fquY88di"
   },
   "outputs": [],
   "source": [
    "# Truncate a sorted DataFrame given index bounds.\n",
    "# Make sure to sort the dataframe before applying truncate \n"
   ]
  },
  {
   "cell_type": "code",
   "execution_count": null,
   "metadata": {
    "id": "rjiweg_sO2kY"
   },
   "outputs": [],
   "source": []
  },
  {
   "cell_type": "code",
   "execution_count": null,
   "metadata": {
    "id": "WI_Dkrgp92RF"
   },
   "outputs": [],
   "source": [
    "# you can offset (shift) all dates by days or month as follows\n"
   ]
  },
  {
   "cell_type": "code",
   "execution_count": null,
   "metadata": {
    "id": "drn-hO-c_Qa1"
   },
   "outputs": [],
   "source": []
  },
  {
   "cell_type": "code",
   "execution_count": null,
   "metadata": {
    "id": "wqeXpBc7N3O5"
   },
   "outputs": [],
   "source": [
    "# Let's revert back to the original dataset!\n"
   ]
  },
  {
   "cell_type": "code",
   "execution_count": null,
   "metadata": {
    "id": "goISv50Y_Vh-"
   },
   "outputs": [],
   "source": [
    "# Once you have the index set to DateTime, this unlocks its power by performing aggregation\n",
    "# Aggregating the data by year (A = annual)\n"
   ]
  },
  {
   "cell_type": "code",
   "execution_count": null,
   "metadata": {
    "id": "Nvtiy-iYASt4"
   },
   "outputs": [],
   "source": [
    "# Aggregating the data by month (M = Month)\n"
   ]
  },
  {
   "cell_type": "code",
   "execution_count": null,
   "metadata": {
    "id": "LTsyVhasAmUK"
   },
   "outputs": [],
   "source": [
    "# You can obtain the maximum value for each Quarter end as follows: \n"
   ]
  },
  {
   "cell_type": "code",
   "execution_count": null,
   "metadata": {
    "id": "GK71MFPZDPMi"
   },
   "outputs": [],
   "source": [
    "# You can locate the rows that satisfies a given critirea as follows: \n"
   ]
  },
  {
   "cell_type": "code",
   "execution_count": null,
   "metadata": {
    "id": "5RrgwoTQBW7w"
   },
   "outputs": [],
   "source": []
  },
  {
   "cell_type": "code",
   "execution_count": null,
   "metadata": {
    "id": "j2b9IeLwDLRU"
   },
   "outputs": [],
   "source": [
    "# You can create new features from the date time information as follows\n"
   ]
  },
  {
   "cell_type": "code",
   "execution_count": null,
   "metadata": {
    "id": "GnoeyXH6H8li"
   },
   "outputs": [],
   "source": []
  },
  {
   "cell_type": "code",
   "execution_count": null,
   "metadata": {
    "id": "zA_M8V5bHdSZ"
   },
   "outputs": [],
   "source": []
  },
  {
   "cell_type": "code",
   "execution_count": null,
   "metadata": {
    "id": "s4Kr_VrOEfo4"
   },
   "outputs": [],
   "source": []
  },
  {
   "cell_type": "code",
   "execution_count": null,
   "metadata": {
    "id": "qbe6swiREmY_"
   },
   "outputs": [],
   "source": []
  },
  {
   "cell_type": "code",
   "execution_count": null,
   "metadata": {
    "id": "Gr0trW7pDq6V"
   },
   "outputs": [],
   "source": [
    "# Don't forget to set the Date to be in the index for the DataFrame\n"
   ]
  },
  {
   "cell_type": "code",
   "execution_count": null,
   "metadata": {
    "id": "SRoZ9MZoD5Yn"
   },
   "outputs": [],
   "source": []
  },
  {
   "cell_type": "markdown",
   "metadata": {
    "id": "V7a9DzIQDJtE"
   },
   "source": [
    "**MINI CHALLENGE #4:**\n",
    "- **Calculate the average avocado price per quarter end**"
   ]
  },
  {
   "cell_type": "code",
   "execution_count": null,
   "metadata": {
    "id": "5l65kp3fDSCE"
   },
   "outputs": [],
   "source": []
  },
  {
   "cell_type": "markdown",
   "metadata": {
    "id": "Mna3C1O7Jv8n"
   },
   "source": [
    "# 5. DATA PLOTTING (STRETCH ASSIGNMENT!)"
   ]
  },
  {
   "cell_type": "code",
   "execution_count": null,
   "metadata": {
    "id": "yGryL8-lNn2j"
   },
   "outputs": [],
   "source": [
    "# Once you have index set to DateTime, this unlocks its power by performing aggregation\n",
    "# Aggregating the data by month end\n"
   ]
  },
  {
   "cell_type": "code",
   "execution_count": null,
   "metadata": {
    "id": "rwCOh88XHdVZ"
   },
   "outputs": [],
   "source": [
    "# plot the avocado average price per month \n"
   ]
  },
  {
   "cell_type": "code",
   "execution_count": null,
   "metadata": {
    "id": "4I_nDbCAQkeq"
   },
   "outputs": [],
   "source": [
    "# plot the avocado average price per quarter  \n"
   ]
  },
  {
   "cell_type": "code",
   "execution_count": null,
   "metadata": {
    "id": "xc_sWoDOQeC8"
   },
   "outputs": [],
   "source": [
    "# plot the avocado average price per annual basis \n"
   ]
  },
  {
   "cell_type": "code",
   "execution_count": null,
   "metadata": {
    "id": "7xskq2hLKmy_"
   },
   "outputs": [],
   "source": []
  },
  {
   "cell_type": "code",
   "execution_count": null,
   "metadata": {
    "id": "1o30--2-KiAJ"
   },
   "outputs": [],
   "source": [
    "\n",
    "\n",
    "plt.figure(figsize = (10, 7))\n",
    "sns.violinplot(y = 'AveragePrice', x = 'type', data = avocado_df)"
   ]
  },
  {
   "cell_type": "code",
   "execution_count": null,
   "metadata": {
    "id": "CiikBFv3KkCz"
   },
   "outputs": [],
   "source": [
    "# plot the distribution plot of avocado prices (histogram + Kernel Denisty Estimate)\n"
   ]
  },
  {
   "cell_type": "code",
   "execution_count": null,
   "metadata": {
    "id": "xyHS1Ad3K0TR"
   },
   "outputs": [],
   "source": [
    "# Catplot is used to draw categorical plots onto a FacetGrid.\n",
    "# Catplot provides access to several axes-level functions that show the relationship between a numerical and one or more categorical variables.\n",
    "\n"
   ]
  },
  {
   "cell_type": "markdown",
   "metadata": {
    "id": "-eEFmOe5IYD2"
   },
   "source": [
    "**MINI CHALLENGE #5:**\n",
    "- **Plot the average price of avocado on a weekly basis**\n",
    "- **Plot Catplot for price vs. region for organic food**"
   ]
  },
  {
   "cell_type": "code",
   "execution_count": null,
   "metadata": {
    "id": "fn27iFz5Juv0"
   },
   "outputs": [],
   "source": []
  },
  {
   "cell_type": "code",
   "execution_count": null,
   "metadata": {
    "id": "xavziF1-NAs8"
   },
   "outputs": [],
   "source": []
  }
 ],
 "metadata": {
  "colab": {
   "authorship_tag": "ABX9TyPHfw16DcGeMVjK01omV7wX",
   "collapsed_sections": [],
   "name": "Pandas with Date/Time - Skeleton.ipynb",
   "provenance": []
  },
  "kernelspec": {
   "display_name": "Python 3 (ipykernel)",
   "language": "python",
   "name": "python3"
  },
  "language_info": {
   "codemirror_mode": {
    "name": "ipython",
    "version": 3
   },
   "file_extension": ".py",
   "mimetype": "text/x-python",
   "name": "python",
   "nbconvert_exporter": "python",
   "pygments_lexer": "ipython3",
   "version": "3.11.3"
  }
 },
 "nbformat": 4,
 "nbformat_minor": 1
}
