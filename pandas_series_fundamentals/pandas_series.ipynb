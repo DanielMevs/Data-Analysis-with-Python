{
 "cells": [
  {
   "cell_type": "markdown",
   "metadata": {
    "id": "1ivPDcc7p8lD"
   },
   "source": [
    "# 1. DEFINE A PANDAS SERIES (WITH NUMERIC DEFAULT INDEX)"
   ]
  },
  {
   "cell_type": "code",
   "execution_count": null,
   "metadata": {
    "id": "4YdCraz8p_XF"
   },
   "outputs": [],
   "source": [
    "# Pandas is a data manipulation and analysis tool that is built on Numpy.\n",
    "# Pandas uses a data structure known as DataFrame (think of it as Microsoft excel in Python). \n",
    "# DataFrames empower programmers to store and manipulate data in a tabular fashion (rows and columns).\n",
    "# Series Vs. DataFrame? Series is considered a single column of a DataFrame."
   ]
  },
  {
   "cell_type": "code",
   "execution_count": 1,
   "metadata": {
    "id": "6H2808pkqKIR"
   },
   "outputs": [],
   "source": [
    "import pandas as pd"
   ]
  },
  {
   "cell_type": "code",
   "execution_count": 4,
   "metadata": {
    "colab": {
     "base_uri": "https://localhost:8080/"
    },
    "executionInfo": {
     "elapsed": 2854,
     "status": "ok",
     "timestamp": 1618858274558,
     "user": {
      "displayName": "Stemplicity",
      "photoUrl": "https://lh3.googleusercontent.com/a-/AOh14Gj2vCFt-bD5mPBhUWX0QA6xiBgoXQXtwUm2jgjaCg=s64",
      "userId": "10668071569687886186"
     },
     "user_tz": 240
    },
    "id": "SA9m0RD3K2TF",
    "outputId": "26cc61d4-5858-4a5f-e1b8-e8b7dce26b31"
   },
   "outputs": [
    {
     "data": {
      "text/plain": [
       "['NVDA', 'MSFT', 'FB', 'AMZN', 'BA']"
      ]
     },
     "execution_count": 4,
     "metadata": {},
     "output_type": "execute_result"
    }
   ],
   "source": [
    "# Let's define a Python list that contains 5 stocks: Nvidia, Microsoft, FaceBook, Amazon, and Boeing\n",
    "my_list = ['NVDA', 'MSFT', 'FB', 'AMZN', 'BA']\n",
    "my_list"
   ]
  },
  {
   "cell_type": "code",
   "execution_count": 3,
   "metadata": {
    "colab": {
     "base_uri": "https://localhost:8080/"
    },
    "executionInfo": {
     "elapsed": 2842,
     "status": "ok",
     "timestamp": 1618858274558,
     "user": {
      "displayName": "Stemplicity",
      "photoUrl": "https://lh3.googleusercontent.com/a-/AOh14Gj2vCFt-bD5mPBhUWX0QA6xiBgoXQXtwUm2jgjaCg=s64",
      "userId": "10668071569687886186"
     },
     "user_tz": 240
    },
    "id": "G-fooAckNafC",
    "outputId": "dedb005a-3e3a-4e3f-a9e3-f9a0fb91948a"
   },
   "outputs": [
    {
     "data": {
      "text/plain": [
       "list"
      ]
     },
     "execution_count": 3,
     "metadata": {},
     "output_type": "execute_result"
    }
   ],
   "source": [
    "# Let's confirm the Datatype\n",
    "type(my_list)"
   ]
  },
  {
   "cell_type": "code",
   "execution_count": 5,
   "metadata": {
    "colab": {
     "base_uri": "https://localhost:8080/"
    },
    "executionInfo": {
     "elapsed": 2831,
     "status": "ok",
     "timestamp": 1618858274559,
     "user": {
      "displayName": "Stemplicity",
      "photoUrl": "https://lh3.googleusercontent.com/a-/AOh14Gj2vCFt-bD5mPBhUWX0QA6xiBgoXQXtwUm2jgjaCg=s64",
      "userId": "10668071569687886186"
     },
     "user_tz": 240
    },
    "id": "hle4zw51K6-P",
    "outputId": "6cd50b46-ecce-41ad-c688-ca3a662d3d5c"
   },
   "outputs": [
    {
     "data": {
      "text/plain": [
       "0    NVDA\n",
       "1    MSFT\n",
       "2      FB\n",
       "3    AMZN\n",
       "4      BA\n",
       "dtype: object"
      ]
     },
     "execution_count": 5,
     "metadata": {},
     "output_type": "execute_result"
    }
   ],
   "source": [
    "# Let's create a one dimensional Pandas \"series\" \n",
    "# Let's use Pandas Constructor Method to create a series from a Python list\n",
    "# Note that series is formed of data and associated index (numeric index has been automatically generated) \n",
    "# Check Pandas Documentation for More information: https://pandas.pydata.org/pandas-docs/stable/reference/api/pandas.Series.html#pandas.Series\n",
    "# Object datatype is used for text data (String)\n",
    "series1 = pd.Series(my_list)\n",
    "series1"
   ]
  },
  {
   "cell_type": "code",
   "execution_count": 6,
   "metadata": {
    "colab": {
     "base_uri": "https://localhost:8080/"
    },
    "executionInfo": {
     "elapsed": 2818,
     "status": "ok",
     "timestamp": 1618858274559,
     "user": {
      "displayName": "Stemplicity",
      "photoUrl": "https://lh3.googleusercontent.com/a-/AOh14Gj2vCFt-bD5mPBhUWX0QA6xiBgoXQXtwUm2jgjaCg=s64",
      "userId": "10668071569687886186"
     },
     "user_tz": 240
    },
    "id": "-HNCtPcoNUyf",
    "outputId": "de6ed879-617b-454d-e792-7a7cb300b903"
   },
   "outputs": [
    {
     "data": {
      "text/plain": [
       "pandas.core.series.Series"
      ]
     },
     "execution_count": 6,
     "metadata": {},
     "output_type": "execute_result"
    }
   ],
   "source": [
    "# Let's confirm the Pandas Series Datatype\n",
    "type(series1)"
   ]
  },
  {
   "cell_type": "code",
   "execution_count": 8,
   "metadata": {
    "colab": {
     "base_uri": "https://localhost:8080/"
    },
    "executionInfo": {
     "elapsed": 2806,
     "status": "ok",
     "timestamp": 1618858274560,
     "user": {
      "displayName": "Stemplicity",
      "photoUrl": "https://lh3.googleusercontent.com/a-/AOh14Gj2vCFt-bD5mPBhUWX0QA6xiBgoXQXtwUm2jgjaCg=s64",
      "userId": "10668071569687886186"
     },
     "user_tz": 240
    },
    "id": "LB2J-qw5LdQI",
    "outputId": "b094c6c0-9091-4998-9cfe-01c00ac51933"
   },
   "outputs": [
    {
     "data": {
      "text/plain": [
       "0     100\n",
       "1     200\n",
       "2     500\n",
       "3    1000\n",
       "4    5000\n",
       "dtype: int64"
      ]
     },
     "execution_count": 8,
     "metadata": {},
     "output_type": "execute_result"
    }
   ],
   "source": [
    "# Let's define another Pandas Series that contains numeric values (stock prices) instead of text data\n",
    "# Note that we have int64 datatype which means it's integer stored in 64 bits in memory\n",
    "series2 = pd.Series(data = [100, 200, 500, 1000, 5000])\n",
    "series2"
   ]
  },
  {
   "cell_type": "markdown",
   "metadata": {
    "id": "8C0UN46KIntM"
   },
   "source": [
    "**MINI CHALLENGE #1:**\n",
    "- **Define a Pandas Series named \"my_series\" that contains your top 3 favourite movies. Confirm the datatype of \"my_series\"**"
   ]
  },
  {
   "cell_type": "code",
   "execution_count": 17,
   "metadata": {
    "id": "l2aMAKvpJyWH"
   },
   "outputs": [
    {
     "data": {
      "text/plain": [
       "pandas.core.series.Series"
      ]
     },
     "execution_count": 17,
     "metadata": {},
     "output_type": "execute_result"
    }
   ],
   "source": [
    "movies = ['Shrek', 'Die Hard', 'Top Gun']\n",
    "my_series = pd.Series(movies)\n",
    "my_series\n",
    "type(my_series)"
   ]
  },
  {
   "cell_type": "markdown",
   "metadata": {
    "id": "XN92TgiQOD7I"
   },
   "source": [
    "# 2. DEFINE A PANDAS SERIES WITH CUSTOM INDEX"
   ]
  },
  {
   "cell_type": "code",
   "execution_count": 18,
   "metadata": {
    "colab": {
     "base_uri": "https://localhost:8080/"
    },
    "executionInfo": {
     "elapsed": 2793,
     "status": "ok",
     "timestamp": 1618858274561,
     "user": {
      "displayName": "Stemplicity",
      "photoUrl": "https://lh3.googleusercontent.com/a-/AOh14Gj2vCFt-bD5mPBhUWX0QA6xiBgoXQXtwUm2jgjaCg=s64",
      "userId": "10668071569687886186"
     },
     "user_tz": 240
    },
    "id": "K4Y9jVx1OaN4",
    "outputId": "bb27d7de-b628-4d2e-d514-b372f8028f3c"
   },
   "outputs": [
    {
     "data": {
      "text/plain": [
       "['NVDA', 'MSFT', 'FB', 'AMZN', 'BA']"
      ]
     },
     "execution_count": 18,
     "metadata": {},
     "output_type": "execute_result"
    }
   ],
   "source": [
    "# Let's define a Python list that contains 5 stocks: Nvidia, Microsoft, FaceBook, Amazon, and Boeing\n",
    "my_list = ['NVDA', 'MSFT', 'FB', 'AMZN', 'BA']\n",
    "my_list"
   ]
  },
  {
   "cell_type": "code",
   "execution_count": 19,
   "metadata": {
    "colab": {
     "base_uri": "https://localhost:8080/"
    },
    "executionInfo": {
     "elapsed": 2782,
     "status": "ok",
     "timestamp": 1618858274561,
     "user": {
      "displayName": "Stemplicity",
      "photoUrl": "https://lh3.googleusercontent.com/a-/AOh14Gj2vCFt-bD5mPBhUWX0QA6xiBgoXQXtwUm2jgjaCg=s64",
      "userId": "10668071569687886186"
     },
     "user_tz": 240
    },
    "id": "ZSxdgs_xJvxx",
    "outputId": "6236c8f5-d62a-4ef9-9f12-8df4561ea8eb"
   },
   "outputs": [
    {
     "data": {
      "text/plain": [
       "['stock#1', 'stock#2', 'stock#3', 'stock#4', 'stock#5']"
      ]
     },
     "execution_count": 19,
     "metadata": {},
     "output_type": "execute_result"
    }
   ],
   "source": [
    "# Let's define a python list as shown below. This python list will be used for the Series index:\n",
    "my_labels = ['stock#1', 'stock#2', 'stock#3', 'stock#4', 'stock#5']\n",
    "my_labels"
   ]
  },
  {
   "cell_type": "code",
   "execution_count": 20,
   "metadata": {
    "id": "U4Fq06XwqX9v"
   },
   "outputs": [],
   "source": [
    "# Let's create a one dimensional Pandas \"series\" \n",
    "# Let's use Pandas Constructor Method to create a series from a Python list\n",
    "# Note that this series is formed of data and associated labels \n",
    "series3 = pd.Series(data=my_list, index=my_labels)"
   ]
  },
  {
   "cell_type": "code",
   "execution_count": 21,
   "metadata": {
    "colab": {
     "base_uri": "https://localhost:8080/"
    },
    "executionInfo": {
     "elapsed": 3263,
     "status": "ok",
     "timestamp": 1618858275058,
     "user": {
      "displayName": "Stemplicity",
      "photoUrl": "https://lh3.googleusercontent.com/a-/AOh14Gj2vCFt-bD5mPBhUWX0QA6xiBgoXQXtwUm2jgjaCg=s64",
      "userId": "10668071569687886186"
     },
     "user_tz": 240
    },
    "id": "YhPzprisqX_8",
    "outputId": "bbc1914a-67a3-4226-9827-da1657710c5d"
   },
   "outputs": [
    {
     "data": {
      "text/plain": [
       "stock#1    NVDA\n",
       "stock#2    MSFT\n",
       "stock#3      FB\n",
       "stock#4    AMZN\n",
       "stock#5      BA\n",
       "dtype: object"
      ]
     },
     "execution_count": 21,
     "metadata": {},
     "output_type": "execute_result"
    }
   ],
   "source": [
    "# Let's view the series\n",
    "series3"
   ]
  },
  {
   "cell_type": "code",
   "execution_count": 22,
   "metadata": {
    "colab": {
     "base_uri": "https://localhost:8080/"
    },
    "executionInfo": {
     "elapsed": 3251,
     "status": "ok",
     "timestamp": 1618858275058,
     "user": {
      "displayName": "Stemplicity",
      "photoUrl": "https://lh3.googleusercontent.com/a-/AOh14Gj2vCFt-bD5mPBhUWX0QA6xiBgoXQXtwUm2jgjaCg=s64",
      "userId": "10668071569687886186"
     },
     "user_tz": 240
    },
    "id": "4LPwMO8fsvi1",
    "outputId": "1d1a2f35-2932-49f3-e4b0-e6176c34d1a8"
   },
   "outputs": [
    {
     "data": {
      "text/plain": [
       "pandas.core.series.Series"
      ]
     },
     "execution_count": 22,
     "metadata": {},
     "output_type": "execute_result"
    }
   ],
   "source": [
    "# Let's obtain the datatype\n",
    "type(series3)\n"
   ]
  },
  {
   "cell_type": "markdown",
   "metadata": {
    "id": "13icipAKL4W5"
   },
   "source": [
    "**MINI CHALLENGE #2:**\n",
    "- **Define a Pandas Series named \"my_series\" that contains your top 3 favourite movies. Instead of using default numeric indexes (similar to mini challenge #1), use the following indexes \"movie #1\", \"Movie #2\", and \"movie #3\"**"
   ]
  },
  {
   "cell_type": "code",
   "execution_count": 23,
   "metadata": {
    "id": "NZBRmbbuL8OC"
   },
   "outputs": [
    {
     "data": {
      "text/plain": [
       "movie#1       Shrek\n",
       "movie#2    Die Hard\n",
       "movie#3     Top Gun\n",
       "dtype: object"
      ]
     },
     "execution_count": 23,
     "metadata": {},
     "output_type": "execute_result"
    }
   ],
   "source": [
    "movies = ['Shrek', 'Die Hard', 'Top Gun']\n",
    "indices = ['movie#1', 'movie#2', 'movie#3']\n",
    "series4 = pd.Series(data=movies, index=indices)\n",
    "series4"
   ]
  },
  {
   "cell_type": "markdown",
   "metadata": {
    "id": "96EH6h9SQYW1"
   },
   "source": [
    "# 3. DEFINE A PANDAS SERIES FROM A DICTIONARY"
   ]
  },
  {
   "cell_type": "code",
   "execution_count": 24,
   "metadata": {
    "id": "fk9R_fZlML_y"
   },
   "outputs": [],
   "source": [
    "# A Dictionary consists of a collection of key-value pairs. Each key-value pair maps the key to its corresponding value.\n",
    "# Keys are unique within a dictionary while values may not be. \n",
    "# List elements are accessed by their position in the list, via indexing while Dictionary elements are accessed via keys\n",
    "# Define a dictionary named \"my_dict\" using key-value pairs\n",
    "\n",
    "my_dict= {'Bank Client Name': 'Steve',\n",
    " 'Bank client ID': 111,\n",
    " 'Net worth [$]': 3500,\n",
    " 'Years with bank': 9}"
   ]
  },
  {
   "cell_type": "code",
   "execution_count": 25,
   "metadata": {
    "colab": {
     "base_uri": "https://localhost:8080/"
    },
    "executionInfo": {
     "elapsed": 3235,
     "status": "ok",
     "timestamp": 1618858275060,
     "user": {
      "displayName": "Stemplicity",
      "photoUrl": "https://lh3.googleusercontent.com/a-/AOh14Gj2vCFt-bD5mPBhUWX0QA6xiBgoXQXtwUm2jgjaCg=s64",
      "userId": "10668071569687886186"
     },
     "user_tz": 240
    },
    "id": "BlHhf-YPQdrB",
    "outputId": "8b32d4de-c0e0-4399-a67a-b90d33b99dd0"
   },
   "outputs": [
    {
     "data": {
      "text/plain": [
       "{'Bank Client Name': 'Steve',\n",
       " 'Bank client ID': 111,\n",
       " 'Net worth [$]': 3500,\n",
       " 'Years with bank': 9}"
      ]
     },
     "execution_count": 25,
     "metadata": {},
     "output_type": "execute_result"
    }
   ],
   "source": [
    "# Show the dictionary\n",
    "my_dict"
   ]
  },
  {
   "cell_type": "code",
   "execution_count": 26,
   "metadata": {
    "colab": {
     "base_uri": "https://localhost:8080/"
    },
    "executionInfo": {
     "elapsed": 3223,
     "status": "ok",
     "timestamp": 1618858275061,
     "user": {
      "displayName": "Stemplicity",
      "photoUrl": "https://lh3.googleusercontent.com/a-/AOh14Gj2vCFt-bD5mPBhUWX0QA6xiBgoXQXtwUm2jgjaCg=s64",
      "userId": "10668071569687886186"
     },
     "user_tz": 240
    },
    "id": "0b4KQo3JMcI0",
    "outputId": "0223f43e-a5a1-4759-96db-357481a582ab"
   },
   "outputs": [
    {
     "data": {
      "text/plain": [
       "dict"
      ]
     },
     "execution_count": 26,
     "metadata": {},
     "output_type": "execute_result"
    }
   ],
   "source": [
    "# Confirm the dictionary datatype \n",
    "type(my_dict)"
   ]
  },
  {
   "cell_type": "code",
   "execution_count": 28,
   "metadata": {
    "colab": {
     "base_uri": "https://localhost:8080/"
    },
    "executionInfo": {
     "elapsed": 3212,
     "status": "ok",
     "timestamp": 1618858275061,
     "user": {
      "displayName": "Stemplicity",
      "photoUrl": "https://lh3.googleusercontent.com/a-/AOh14Gj2vCFt-bD5mPBhUWX0QA6xiBgoXQXtwUm2jgjaCg=s64",
      "userId": "10668071569687886186"
     },
     "user_tz": 240
    },
    "id": "LeH27Q4aQeXe",
    "outputId": "e7e8c45a-7c15-4975-dc3f-d04526840b0e"
   },
   "outputs": [
    {
     "data": {
      "text/plain": [
       "Bank Client Name    Steve\n",
       "Bank client ID        111\n",
       "Net worth [$]        3500\n",
       "Years with bank         9\n",
       "dtype: object"
      ]
     },
     "execution_count": 28,
     "metadata": {},
     "output_type": "execute_result"
    }
   ],
   "source": [
    "# Let's define a Pandas Series Using the dictionary\n",
    "series4 = pd.Series(my_dict)\n",
    "series4"
   ]
  },
  {
   "cell_type": "markdown",
   "metadata": {
    "id": "_Tk4kxlLNI85"
   },
   "source": [
    "**MINI CHALLENGE #3:**\n",
    "- **Create a Pandas Series from a dictionary with 3 of your favourite stocks and their corresponding prices** "
   ]
  },
  {
   "cell_type": "code",
   "execution_count": 30,
   "metadata": {
    "id": "nlG7J4oKNLuY"
   },
   "outputs": [
    {
     "data": {
      "text/plain": [
       "NVDA    481.68\n",
       "AMZN    149.93\n",
       "MSFT    370.87\n",
       "dtype: float64"
      ]
     },
     "execution_count": 30,
     "metadata": {},
     "output_type": "execute_result"
    }
   ],
   "source": [
    "my_stocks = {'NVDA': 481.68, 'AMZN': 149.93, 'MSFT': 370.87}\n",
    "series5 = pd.Series(my_stocks)\n",
    "series5"
   ]
  },
  {
   "cell_type": "markdown",
   "metadata": {
    "id": "VGlb7t7WRIR3"
   },
   "source": [
    "# 4. PANDAS ATTRIBUTES"
   ]
  },
  {
   "cell_type": "code",
   "execution_count": 31,
   "metadata": {
    "colab": {
     "base_uri": "https://localhost:8080/"
    },
    "executionInfo": {
     "elapsed": 3200,
     "status": "ok",
     "timestamp": 1618858275063,
     "user": {
      "displayName": "Stemplicity",
      "photoUrl": "https://lh3.googleusercontent.com/a-/AOh14Gj2vCFt-bD5mPBhUWX0QA6xiBgoXQXtwUm2jgjaCg=s64",
      "userId": "10668071569687886186"
     },
     "user_tz": 240
    },
    "id": "p4FauWQlRRD8",
    "outputId": "e4886437-037a-4c0d-d101-4ae420394a55"
   },
   "outputs": [
    {
     "data": {
      "text/plain": [
       "0    NVDA\n",
       "1    MSFT\n",
       "2      FB\n",
       "3    AMZN\n",
       "4      BA\n",
       "dtype: object"
      ]
     },
     "execution_count": 31,
     "metadata": {},
     "output_type": "execute_result"
    }
   ],
   "source": [
    "# Attributes/Properties: do not use parantheses \"()\" and are used to get Pandas Series Properties. Ex: my_series.values, my_series.shape\n",
    "# Methods: use parantheses \"()\" and might include arguments and they actually alter/change the Pandas Series. Ex: my_series.tail(), my_series.head(), my_series.drop_duplicates()\n",
    "# Indexers: use square brackets \"[]\" and are used to access specific elements in a Pandas Series or DataFrame. Ex: my_series.loc[], my_series.iloc[]\n",
    "\n",
    "# Let's redefine a Pandas Series containing our favourite 5 stocks \n",
    "# Nvidia, Microsoft, FaceBook, Amazon, and Boeing\n",
    "\n",
    "my_list = ['NVDA', 'MSFT', 'FB', 'AMZN', 'BA']\n",
    "my_series = pd.Series(data = my_list)\n",
    "my_series"
   ]
  },
  {
   "cell_type": "code",
   "execution_count": 32,
   "metadata": {
    "colab": {
     "base_uri": "https://localhost:8080/"
    },
    "executionInfo": {
     "elapsed": 3191,
     "status": "ok",
     "timestamp": 1618858275063,
     "user": {
      "displayName": "Stemplicity",
      "photoUrl": "https://lh3.googleusercontent.com/a-/AOh14Gj2vCFt-bD5mPBhUWX0QA6xiBgoXQXtwUm2jgjaCg=s64",
      "userId": "10668071569687886186"
     },
     "user_tz": 240
    },
    "id": "KBgZI_vHQeeA",
    "outputId": "15e55866-6ba6-4092-d147-ebd9ea3db158"
   },
   "outputs": [
    {
     "data": {
      "text/plain": [
       "array(['NVDA', 'MSFT', 'FB', 'AMZN', 'BA'], dtype=object)"
      ]
     },
     "execution_count": 32,
     "metadata": {},
     "output_type": "execute_result"
    }
   ],
   "source": [
    "# \".Values\" attribute is used to return Series as ndarray depending on its dtype\n",
    "# Check this for more information: https://pandas.pydata.org/docs/reference/api/pandas.Series.values.html#pandas.Series.values\n",
    "my_series.values"
   ]
  },
  {
   "cell_type": "code",
   "execution_count": 33,
   "metadata": {
    "colab": {
     "base_uri": "https://localhost:8080/"
    },
    "executionInfo": {
     "elapsed": 3181,
     "status": "ok",
     "timestamp": 1618858275064,
     "user": {
      "displayName": "Stemplicity",
      "photoUrl": "https://lh3.googleusercontent.com/a-/AOh14Gj2vCFt-bD5mPBhUWX0QA6xiBgoXQXtwUm2jgjaCg=s64",
      "userId": "10668071569687886186"
     },
     "user_tz": 240
    },
    "id": "YDunyBEQRtoJ",
    "outputId": "b871c285-8973-4076-9c77-61898c193f42"
   },
   "outputs": [
    {
     "data": {
      "text/plain": [
       "RangeIndex(start=0, stop=5, step=1)"
      ]
     },
     "execution_count": 33,
     "metadata": {},
     "output_type": "execute_result"
    }
   ],
   "source": [
    "# index is used to return the index (axis labels) of the Series\n",
    "my_series.index"
   ]
  },
  {
   "cell_type": "code",
   "execution_count": 34,
   "metadata": {
    "colab": {
     "base_uri": "https://localhost:8080/"
    },
    "executionInfo": {
     "elapsed": 3171,
     "status": "ok",
     "timestamp": 1618858275065,
     "user": {
      "displayName": "Stemplicity",
      "photoUrl": "https://lh3.googleusercontent.com/a-/AOh14Gj2vCFt-bD5mPBhUWX0QA6xiBgoXQXtwUm2jgjaCg=s64",
      "userId": "10668071569687886186"
     },
     "user_tz": 240
    },
    "id": "7bgfGfQaSrqw",
    "outputId": "1500e3b0-a9da-4d61-cbe2-fdf8fe296a1e"
   },
   "outputs": [
    {
     "data": {
      "text/plain": [
       "dtype('O')"
      ]
     },
     "execution_count": 34,
     "metadata": {},
     "output_type": "execute_result"
    }
   ],
   "source": [
    "# dtype is used to return the datatype of the Series ('O' stands for 'object' datatype)\n",
    "my_series.dtype"
   ]
  },
  {
   "cell_type": "code",
   "execution_count": 35,
   "metadata": {
    "colab": {
     "base_uri": "https://localhost:8080/"
    },
    "executionInfo": {
     "elapsed": 3154,
     "status": "ok",
     "timestamp": 1618858275066,
     "user": {
      "displayName": "Stemplicity",
      "photoUrl": "https://lh3.googleusercontent.com/a-/AOh14Gj2vCFt-bD5mPBhUWX0QA6xiBgoXQXtwUm2jgjaCg=s64",
      "userId": "10668071569687886186"
     },
     "user_tz": 240
    },
    "id": "XeQtP9v2dxzu",
    "outputId": "6689f7de-159f-48d3-9abf-bba1c6f6b198"
   },
   "outputs": [
    {
     "data": {
      "text/plain": [
       "True"
      ]
     },
     "execution_count": 35,
     "metadata": {},
     "output_type": "execute_result"
    }
   ],
   "source": [
    "# Check if all elements are unique or not\n",
    "my_series.is_unique"
   ]
  },
  {
   "cell_type": "code",
   "execution_count": 36,
   "metadata": {
    "colab": {
     "base_uri": "https://localhost:8080/"
    },
    "executionInfo": {
     "elapsed": 3133,
     "status": "ok",
     "timestamp": 1618858275066,
     "user": {
      "displayName": "Stemplicity",
      "photoUrl": "https://lh3.googleusercontent.com/a-/AOh14Gj2vCFt-bD5mPBhUWX0QA6xiBgoXQXtwUm2jgjaCg=s64",
      "userId": "10668071569687886186"
     },
     "user_tz": 240
    },
    "id": "8VWnKVh0d7Kw",
    "outputId": "dca8b133-a9c1-432d-ed9d-9f9056224e62"
   },
   "outputs": [
    {
     "data": {
      "text/plain": [
       "(5,)"
      ]
     },
     "execution_count": 36,
     "metadata": {},
     "output_type": "execute_result"
    }
   ],
   "source": [
    "# Check the shape of the Series\n",
    "# note that a Series is one dimensional\n",
    "my_series.shape\n"
   ]
  },
  {
   "cell_type": "markdown",
   "metadata": {
    "id": "gPL7KbA3XGr1"
   },
   "source": [
    "**MINI CHALLENGE #4:** \n",
    "- **What is the size of the Pandas Series? (External Research for the proper attribute is Required)**"
   ]
  },
  {
   "cell_type": "code",
   "execution_count": 37,
   "metadata": {
    "id": "SyfddtryXbmX"
   },
   "outputs": [
    {
     "data": {
      "text/plain": [
       "5"
      ]
     },
     "execution_count": 37,
     "metadata": {},
     "output_type": "execute_result"
    }
   ],
   "source": [
    "my_series.size"
   ]
  },
  {
   "cell_type": "markdown",
   "metadata": {
    "id": "Qc7sVau-UtYt"
   },
   "source": [
    "# 5. PANDAS METHODS"
   ]
  },
  {
   "cell_type": "code",
   "execution_count": 47,
   "metadata": {
    "colab": {
     "base_uri": "https://localhost:8080/"
    },
    "executionInfo": {
     "elapsed": 3125,
     "status": "ok",
     "timestamp": 1618858275068,
     "user": {
      "displayName": "Stemplicity",
      "photoUrl": "https://lh3.googleusercontent.com/a-/AOh14Gj2vCFt-bD5mPBhUWX0QA6xiBgoXQXtwUm2jgjaCg=s64",
      "userId": "10668071569687886186"
     },
     "user_tz": 240
    },
    "id": "5gwWM4VvUxI2",
    "outputId": "7cb2d91b-0317-4708-9140-053a2ac721c2"
   },
   "outputs": [],
   "source": [
    "# Methods have parentheses and they actually alter/change the Pandas Series\n",
    "# Methods: use parantheses \"()\" and might include arguments. Ex: my_series.tail(), my_series.head(), my_series.drop_duplicates()\n",
    "\n",
    "# Let's define another Pandas Series that contains numeric values (stock prices) instead of text data\n",
    "# Note that we have int64 datatype which means it contains integer values stored in 64 bits in memory\n",
    "my_series = pd.Series([100, 200, 500, 1000, 5000])"
   ]
  },
  {
   "cell_type": "code",
   "execution_count": 40,
   "metadata": {
    "colab": {
     "base_uri": "https://localhost:8080/"
    },
    "executionInfo": {
     "elapsed": 3116,
     "status": "ok",
     "timestamp": 1618858275069,
     "user": {
      "displayName": "Stemplicity",
      "photoUrl": "https://lh3.googleusercontent.com/a-/AOh14Gj2vCFt-bD5mPBhUWX0QA6xiBgoXQXtwUm2jgjaCg=s64",
      "userId": "10668071569687886186"
     },
     "user_tz": 240
    },
    "id": "ImwFgVASUxLa",
    "outputId": "9f7b7f3b-b8fb-4ebf-e224-fa7c43197d3f"
   },
   "outputs": [
    {
     "data": {
      "text/plain": [
       "6800"
      ]
     },
     "execution_count": 40,
     "metadata": {},
     "output_type": "execute_result"
    }
   ],
   "source": [
    "# Let's obtain the sum of all elements in the Pandas Series\n",
    "my_series.sum()"
   ]
  },
  {
   "cell_type": "code",
   "execution_count": 41,
   "metadata": {
    "colab": {
     "base_uri": "https://localhost:8080/"
    },
    "executionInfo": {
     "elapsed": 3100,
     "status": "ok",
     "timestamp": 1618858275071,
     "user": {
      "displayName": "Stemplicity",
      "photoUrl": "https://lh3.googleusercontent.com/a-/AOh14Gj2vCFt-bD5mPBhUWX0QA6xiBgoXQXtwUm2jgjaCg=s64",
      "userId": "10668071569687886186"
     },
     "user_tz": 240
    },
    "id": "OLa69YwxUxOa",
    "outputId": "158234c1-4535-45b8-ae26-677f57238f08"
   },
   "outputs": [
    {
     "data": {
      "text/plain": [
       "50000000000000"
      ]
     },
     "execution_count": 41,
     "metadata": {},
     "output_type": "execute_result"
    }
   ],
   "source": [
    "# Let's obtain the multiplication of all elements in the Pandas Series\n",
    "my_series.product()"
   ]
  },
  {
   "cell_type": "code",
   "execution_count": 42,
   "metadata": {
    "colab": {
     "base_uri": "https://localhost:8080/"
    },
    "executionInfo": {
     "elapsed": 3079,
     "status": "ok",
     "timestamp": 1618858275072,
     "user": {
      "displayName": "Stemplicity",
      "photoUrl": "https://lh3.googleusercontent.com/a-/AOh14Gj2vCFt-bD5mPBhUWX0QA6xiBgoXQXtwUm2jgjaCg=s64",
      "userId": "10668071569687886186"
     },
     "user_tz": 240
    },
    "id": "xVMJtbtkUxQ-",
    "outputId": "650e2e87-2838-460a-98ae-09d1eb01cdcb"
   },
   "outputs": [
    {
     "data": {
      "text/plain": [
       "1360.0"
      ]
     },
     "execution_count": 42,
     "metadata": {},
     "output_type": "execute_result"
    }
   ],
   "source": [
    "# Let's obtain the average\n",
    "my_series.mean()"
   ]
  },
  {
   "cell_type": "code",
   "execution_count": 43,
   "metadata": {
    "colab": {
     "base_uri": "https://localhost:8080/"
    },
    "executionInfo": {
     "elapsed": 3069,
     "status": "ok",
     "timestamp": 1618858275073,
     "user": {
      "displayName": "Stemplicity",
      "photoUrl": "https://lh3.googleusercontent.com/a-/AOh14Gj2vCFt-bD5mPBhUWX0QA6xiBgoXQXtwUm2jgjaCg=s64",
      "userId": "10668071569687886186"
     },
     "user_tz": 240
    },
    "id": "FgqSFr98YTUw",
    "outputId": "afaf3e7b-b5c1-4d1c-b99d-dd1bc9af90e3"
   },
   "outputs": [
    {
     "data": {
      "text/plain": [
       "0    100\n",
       "1    200\n",
       "dtype: int64"
      ]
     },
     "execution_count": 43,
     "metadata": {},
     "output_type": "execute_result"
    }
   ],
   "source": [
    "# Let's show the first couple of elements in the Pandas Series\n",
    "my_series.head(2)"
   ]
  },
  {
   "cell_type": "code",
   "execution_count": 48,
   "metadata": {
    "colab": {
     "base_uri": "https://localhost:8080/"
    },
    "executionInfo": {
     "elapsed": 3070,
     "status": "ok",
     "timestamp": 1618858275083,
     "user": {
      "displayName": "Stemplicity",
      "photoUrl": "https://lh3.googleusercontent.com/a-/AOh14Gj2vCFt-bD5mPBhUWX0QA6xiBgoXQXtwUm2jgjaCg=s64",
      "userId": "10668071569687886186"
     },
     "user_tz": 240
    },
    "id": "GFoxw41LZrBs",
    "outputId": "3aefbee8-0c98-44f4-a0b1-fd3b8a08899e"
   },
   "outputs": [],
   "source": [
    "# Note that head creates a new dataframe \n",
    "new_series = my_series.head(3)"
   ]
  },
  {
   "cell_type": "markdown",
   "metadata": {
    "id": "DHknLT4PTrjn"
   },
   "source": [
    "**MINI CHALLENGE #5:** \n",
    "- **Show the last 2 rows in the Pandas Series (External Research is Required)** \n",
    "- **How many bytes does this Pandas Series consume in memory? (External Research is Required)**"
   ]
  },
  {
   "cell_type": "code",
   "execution_count": 51,
   "metadata": {
    "colab": {
     "base_uri": "https://localhost:8080/"
    },
    "executionInfo": {
     "elapsed": 3063,
     "status": "ok",
     "timestamp": 1618858275085,
     "user": {
      "displayName": "Stemplicity",
      "photoUrl": "https://lh3.googleusercontent.com/a-/AOh14Gj2vCFt-bD5mPBhUWX0QA6xiBgoXQXtwUm2jgjaCg=s64",
      "userId": "10668071569687886186"
     },
     "user_tz": 240
    },
    "id": "UUiOynSPSshX",
    "outputId": "a3eb0c0b-1456-40aa-8fa6-2303e8396fad"
   },
   "outputs": [
    {
     "data": {
      "text/plain": [
       "172"
      ]
     },
     "execution_count": 51,
     "metadata": {},
     "output_type": "execute_result"
    }
   ],
   "source": [
    "my_series.tail(2)\n",
    "my_series.memory_usage()"
   ]
  },
  {
   "cell_type": "markdown",
   "metadata": {
    "id": "vzu3jPDbasz5"
   },
   "source": [
    "# 6. IMPORT CSV DATA (1-D) USING PANDAS"
   ]
  },
  {
   "cell_type": "code",
   "execution_count": 58,
   "metadata": {
    "colab": {
     "base_uri": "https://localhost:8080/",
     "height": 404
    },
    "executionInfo": {
     "elapsed": 3588,
     "status": "error",
     "timestamp": 1618858275613,
     "user": {
      "displayName": "Stemplicity",
      "photoUrl": "https://lh3.googleusercontent.com/a-/AOh14Gj2vCFt-bD5mPBhUWX0QA6xiBgoXQXtwUm2jgjaCg=s64",
      "userId": "10668071569687886186"
     },
     "user_tz": 240
    },
    "id": "zLiVpmH2asz6",
    "outputId": "165b683c-727d-4eee-aab4-be8aee65801c"
   },
   "outputs": [
    {
     "data": {
      "text/plain": [
       "0       1295.500000\n",
       "1       1289.089966\n",
       "2       1293.670044\n",
       "3       1308.040039\n",
       "4       1314.500000\n",
       "           ...     \n",
       "2154    3327.770020\n",
       "2155    3349.159912\n",
       "2156    3351.280029\n",
       "2157    3360.469971\n",
       "2158    3333.689941\n",
       "Name: sp500, Length: 2159, dtype: float64"
      ]
     },
     "execution_count": 58,
     "metadata": {},
     "output_type": "execute_result"
    }
   ],
   "source": [
    "# Pandas read_csv is used to read a csv file and store data in a DataFrame by default (DataFrames will be covered shortly!)\n",
    "# Use Squeeze to convert it into a Pandas Series (One-dimensional)\n",
    "# Notice that no foramtting exists when a Series is plotted\n",
    "sp500 = pd.read_csv('S_P500_Prices.csv').squeeze(\"columns\")\n",
    "sp500\n"
   ]
  },
  {
   "cell_type": "code",
   "execution_count": 57,
   "metadata": {
    "id": "Py1fYuPFasz6"
   },
   "outputs": [
    {
     "data": {
      "text/plain": [
       "pandas.core.series.Series"
      ]
     },
     "execution_count": 57,
     "metadata": {},
     "output_type": "execute_result"
    }
   ],
   "source": [
    "type(sp500)"
   ]
  },
  {
   "cell_type": "markdown",
   "metadata": {
    "id": "CykEEAr9S--X"
   },
   "source": [
    "**MINI CHALLENGE #6:**\n",
    "- **Set Squeeze = False and rerun the cell, what do you notice? Use Type to compare both outputs**"
   ]
  },
  {
   "cell_type": "code",
   "execution_count": 62,
   "metadata": {
    "id": "DVEio_JnTArn"
   },
   "outputs": [
    {
     "data": {
      "text/plain": [
       "pandas.core.frame.DataFrame"
      ]
     },
     "execution_count": 62,
     "metadata": {},
     "output_type": "execute_result"
    }
   ],
   "source": [
    "sp500 = pd.read_csv('S_P500_Prices.csv')\n",
    "sp500\n",
    "type(sp500)"
   ]
  },
  {
   "cell_type": "markdown",
   "metadata": {
    "id": "8HBGOWjKaK_i"
   },
   "source": [
    "# 7. PANDAS BUILT-IN FUNCTIONS"
   ]
  },
  {
   "cell_type": "code",
   "execution_count": 64,
   "metadata": {
    "id": "-Q-1iWEqaP6y"
   },
   "outputs": [],
   "source": [
    "# Pandas works great with pre-existing python functions \n",
    "# You don't have to play with pandas methods and directly leverage Python functions\n",
    "# Check Python built-in functions here: https://docs.python.org/3/library/functions.html\n",
    "sp500 = pd.read_csv('S_P500_Prices.csv').squeeze(\"columns\")"
   ]
  },
  {
   "cell_type": "code",
   "execution_count": 65,
   "metadata": {
    "id": "g759k2IPdVH-"
   },
   "outputs": [
    {
     "data": {
      "text/plain": [
       "pandas.core.series.Series"
      ]
     },
     "execution_count": 65,
     "metadata": {},
     "output_type": "execute_result"
    }
   ],
   "source": [
    "# Obtain the Data Type of the Pandas Series\n",
    "type(sp500)"
   ]
  },
  {
   "cell_type": "code",
   "execution_count": 66,
   "metadata": {
    "id": "NbKysqrSaQ32"
   },
   "outputs": [
    {
     "data": {
      "text/plain": [
       "2159"
      ]
     },
     "execution_count": 66,
     "metadata": {},
     "output_type": "execute_result"
    }
   ],
   "source": [
    "# Obtain the length of the Pandas Series\n",
    "len(sp500)"
   ]
  },
  {
   "cell_type": "code",
   "execution_count": 67,
   "metadata": {
    "id": "FeeA8actaQ6P"
   },
   "outputs": [
    {
     "data": {
      "text/plain": [
       "3386.149902"
      ]
     },
     "execution_count": 67,
     "metadata": {},
     "output_type": "execute_result"
    }
   ],
   "source": [
    "# Obtain the maximum value of the Pandas Series\n",
    "max(sp500)"
   ]
  },
  {
   "cell_type": "code",
   "execution_count": 68,
   "metadata": {
    "id": "fyhw96-JaQ8a"
   },
   "outputs": [
    {
     "data": {
      "text/plain": [
       "1278.040039"
      ]
     },
     "execution_count": 68,
     "metadata": {},
     "output_type": "execute_result"
    }
   ],
   "source": [
    "# Obtain the minimum value of the Pandas Series\n",
    "min(sp500)"
   ]
  },
  {
   "cell_type": "markdown",
   "metadata": {
    "id": "NCnRK6oMVCtg"
   },
   "source": [
    "**MINI CHALLENGE #7:**\n",
    "- **Given the following Pandas Series, convert all negative values to positive using python built-in functions**\n",
    "- **Obtain only unique values (ie: Remove duplicates) using python built-in functions**\n",
    "- **my_series = pd.Series(data = [-10, 100, -30, 50, 100])**\n"
   ]
  },
  {
   "cell_type": "code",
   "execution_count": 73,
   "metadata": {
    "id": "DG-Tjp6PVEpW"
   },
   "outputs": [
    {
     "data": {
      "text/plain": [
       "{-30, -10, 50, 100}"
      ]
     },
     "execution_count": 73,
     "metadata": {},
     "output_type": "execute_result"
    }
   ],
   "source": [
    "my_series = pd.Series(data=[-10, 100, -30, 50, 100])\n",
    "abs(my_series)\n",
    "set(my_series)"
   ]
  },
  {
   "cell_type": "markdown",
   "metadata": {
    "id": "LKDuJ94RvB85"
   },
   "source": [
    "# 8. SORTING PANDAS SERIES"
   ]
  },
  {
   "cell_type": "code",
   "execution_count": 100,
   "metadata": {
    "id": "f-aRTmn9u7DA"
   },
   "outputs": [],
   "source": [
    "# Let's import CSV data as follows:\n",
    "sp500 = pd.read_csv('S_P500_Prices.csv').squeeze(\"columns\").copy()"
   ]
  },
  {
   "cell_type": "code",
   "execution_count": 101,
   "metadata": {
    "id": "DaglhPNevFYC"
   },
   "outputs": [
    {
     "data": {
      "text/plain": [
       "97      1278.040039\n",
       "98      1278.180054\n",
       "99      1285.500000\n",
       "1       1289.089966\n",
       "2       1293.670044\n",
       "           ...     \n",
       "2038    3373.229980\n",
       "2034    3373.939941\n",
       "2033    3379.449951\n",
       "2035    3380.159912\n",
       "2037    3386.149902\n",
       "Name: sp500, Length: 2159, dtype: float64"
      ]
     },
     "execution_count": 101,
     "metadata": {},
     "output_type": "execute_result"
    }
   ],
   "source": [
    "# You can sort the values in the dataframe as follows\n",
    "sp500.sort_values()"
   ]
  },
  {
   "cell_type": "code",
   "execution_count": 102,
   "metadata": {
    "id": "AjzLtDlevFaW"
   },
   "outputs": [
    {
     "data": {
      "text/plain": [
       "0       1295.500000\n",
       "1       1289.089966\n",
       "2       1293.670044\n",
       "3       1308.040039\n",
       "4       1314.500000\n",
       "           ...     \n",
       "2154    3327.770020\n",
       "2155    3349.159912\n",
       "2156    3351.280029\n",
       "2157    3360.469971\n",
       "2158    3333.689941\n",
       "Name: sp500, Length: 2159, dtype: float64"
      ]
     },
     "execution_count": 102,
     "metadata": {},
     "output_type": "execute_result"
    }
   ],
   "source": [
    "# Let's view Pandas Series again after sorting, Note that nothing changed in memory! you have to make sure that inplace is set to True\n",
    "sp500"
   ]
  },
  {
   "cell_type": "code",
   "execution_count": 103,
   "metadata": {
    "id": "Pgt25eXmvFce"
   },
   "outputs": [],
   "source": [
    "# Set inplace = True to ensure that change has taken place in memory \n",
    "sp500.sort_values(inplace = True)"
   ]
  },
  {
   "cell_type": "code",
   "execution_count": 105,
   "metadata": {
    "id": "jEw2Gw_hu7Fo"
   },
   "outputs": [
    {
     "data": {
      "text/plain": [
       "97      1278.040039\n",
       "98      1278.180054\n",
       "99      1285.500000\n",
       "1       1289.089966\n",
       "2       1293.670044\n",
       "           ...     \n",
       "2038    3373.229980\n",
       "2034    3373.939941\n",
       "2033    3379.449951\n",
       "2035    3380.159912\n",
       "2037    3386.149902\n",
       "Name: sp500, Length: 2159, dtype: float64"
      ]
     },
     "execution_count": 105,
     "metadata": {},
     "output_type": "execute_result"
    }
   ],
   "source": [
    "# Note that now the change (ordering) took place \n",
    "sp500"
   ]
  },
  {
   "cell_type": "code",
   "execution_count": 106,
   "metadata": {
    "id": "6wi0QnU5iGk8"
   },
   "outputs": [
    {
     "data": {
      "text/plain": [
       "0       1295.500000\n",
       "1       1289.089966\n",
       "2       1293.670044\n",
       "3       1308.040039\n",
       "4       1314.500000\n",
       "           ...     \n",
       "2154    3327.770020\n",
       "2155    3349.159912\n",
       "2156    3351.280029\n",
       "2157    3360.469971\n",
       "2158    3333.689941\n",
       "Name: sp500, Length: 2159, dtype: float64"
      ]
     },
     "execution_count": 106,
     "metadata": {},
     "output_type": "execute_result"
    }
   ],
   "source": [
    "# Notice that the indexes are now changed \n",
    "# You can also sort by index (revert back to the original Pandas Series) as follows: \n",
    "sp500.sort_index(inplace = True)\n",
    "sp500"
   ]
  },
  {
   "cell_type": "markdown",
   "metadata": {
    "id": "7bV_Yaq46ZTg"
   },
   "source": [
    "**MINI CHALLENGE #8:**\n",
    "- **Sort the S&P500 values in a decending order instead. Make sure to update values in-memory.**\n"
   ]
  },
  {
   "cell_type": "code",
   "execution_count": 108,
   "metadata": {
    "id": "zw0acoYEkDJB"
   },
   "outputs": [
    {
     "data": {
      "text/plain": [
       "2037    3386.149902\n",
       "2035    3380.159912\n",
       "2033    3379.449951\n",
       "2034    3373.939941\n",
       "2038    3373.229980\n",
       "           ...     \n",
       "2       1293.670044\n",
       "1       1289.089966\n",
       "99      1285.500000\n",
       "98      1278.180054\n",
       "97      1278.040039\n",
       "Name: sp500, Length: 2159, dtype: float64"
      ]
     },
     "execution_count": 108,
     "metadata": {},
     "output_type": "execute_result"
    }
   ],
   "source": [
    "sp500.sort_values(ascending=False, inplace = True)\n",
    "sp500"
   ]
  },
  {
   "cell_type": "markdown",
   "metadata": {
    "id": "1QT7bBFCkDhh"
   },
   "source": [
    "# 9. PERFORM MATH OPERATIONS ON PANDAS SERIES"
   ]
  },
  {
   "cell_type": "code",
   "execution_count": 109,
   "metadata": {
    "id": "UXFGCV4SkI4O"
   },
   "outputs": [],
   "source": [
    "# Let's import CSV data as follows:\n",
    "sp500 = pd.read_csv('S_P500_Prices.csv').squeeze(\"columns\").copy()"
   ]
  },
  {
   "cell_type": "code",
   "execution_count": 110,
   "metadata": {
    "id": "Qpo7M9yYkJPQ"
   },
   "outputs": [
    {
     "data": {
      "text/plain": [
       "4790280.287214"
      ]
     },
     "execution_count": 110,
     "metadata": {},
     "output_type": "execute_result"
    }
   ],
   "source": [
    "# Apply Sum Method on Pandas Series\n",
    "sp500.sum()"
   ]
  },
  {
   "cell_type": "code",
   "execution_count": 113,
   "metadata": {
    "id": "FTSaQpjokJSM"
   },
   "outputs": [
    {
     "data": {
      "text/plain": [
       "2159"
      ]
     },
     "execution_count": 113,
     "metadata": {},
     "output_type": "execute_result"
    }
   ],
   "source": [
    "# Apply count Method on Pandas Series; equivalent to len(sp500)\n",
    "sp500.count()\n"
   ]
  },
  {
   "cell_type": "code",
   "execution_count": 114,
   "metadata": {
    "id": "I8vVnB_5kj7C"
   },
   "outputs": [
    {
     "data": {
      "text/plain": [
       "3386.149902"
      ]
     },
     "execution_count": 114,
     "metadata": {},
     "output_type": "execute_result"
    }
   ],
   "source": [
    "# Obtain the maximum value\n",
    "sp500.max()"
   ]
  },
  {
   "cell_type": "code",
   "execution_count": 115,
   "metadata": {
    "id": "u3-XBu-vko2y"
   },
   "outputs": [
    {
     "data": {
      "text/plain": [
       "1278.040039"
      ]
     },
     "execution_count": 115,
     "metadata": {},
     "output_type": "execute_result"
    }
   ],
   "source": [
    "# Obtain the minimum value\n",
    "sp500.min()"
   ]
  },
  {
   "cell_type": "code",
   "execution_count": 116,
   "metadata": {
    "id": "jfaK3BsckvAK"
   },
   "outputs": [
    {
     "data": {
      "text/plain": [
       "count    2159.000000\n",
       "mean     2218.749554\n",
       "std       537.321727\n",
       "min      1278.040039\n",
       "25%      1847.984985\n",
       "50%      2106.629883\n",
       "75%      2705.810059\n",
       "max      3386.149902\n",
       "Name: sp500, dtype: float64"
      ]
     },
     "execution_count": 116,
     "metadata": {},
     "output_type": "execute_result"
    }
   ],
   "source": [
    "# My favourite: Describe! \n",
    "# Describe is used to obtain all statistical information in one place \n",
    "sp500.describe()"
   ]
  },
  {
   "cell_type": "markdown",
   "metadata": {
    "id": "wfpnZiwxk1cb"
   },
   "source": [
    "**MINI CHALLENGE #9:**\n",
    "- **Obtain the average price of the S&P500 using two different methods**"
   ]
  },
  {
   "cell_type": "code",
   "execution_count": 121,
   "metadata": {
    "id": "MFL9i8NWlIH5"
   },
   "outputs": [
    {
     "data": {
      "text/plain": [
       "2218.7495540592868"
      ]
     },
     "execution_count": 121,
     "metadata": {},
     "output_type": "execute_result"
    }
   ],
   "source": [
    "sp500.mean()\n",
    "sp500.sum()/sp500.count()"
   ]
  },
  {
   "cell_type": "markdown",
   "metadata": {
    "id": "Yi8uUb_eiqxo"
   },
   "source": [
    "# 10. CHECK IF A GIVEN ELEMENT EXISTS IN A PANDAS SERIES"
   ]
  },
  {
   "cell_type": "code",
   "execution_count": 130,
   "metadata": {
    "id": "nEQ94a2RiuiR"
   },
   "outputs": [],
   "source": [
    "# Let's import CSV data as follows:\n",
    "sp500 = pd.read_csv('S_P500_Prices.csv').squeeze(\"columns\").copy()"
   ]
  },
  {
   "cell_type": "code",
   "execution_count": 122,
   "metadata": {
    "id": "x0T4h0CWi-p7"
   },
   "outputs": [
    {
     "data": {
      "text/plain": [
       "True"
      ]
     },
     "execution_count": 122,
     "metadata": {},
     "output_type": "execute_result"
    }
   ],
   "source": [
    "# Check if a given number exists in a Pandas Series values\n",
    "# Returns a boolean \"True\" or \"False\"\n",
    "1295.500000 in sp500.values"
   ]
  },
  {
   "cell_type": "code",
   "execution_count": 123,
   "metadata": {
    "id": "xa7GXwbhi-sh"
   },
   "outputs": [
    {
     "data": {
      "text/plain": [
       "False"
      ]
     },
     "execution_count": 123,
     "metadata": {},
     "output_type": "execute_result"
    }
   ],
   "source": [
    "# Check if a given number exists in a Pandas Series index\n",
    "1295.500000 in sp500.index"
   ]
  },
  {
   "cell_type": "code",
   "execution_count": 124,
   "metadata": {
    "id": "GyN5iG1ki-vC"
   },
   "outputs": [
    {
     "data": {
      "text/plain": [
       "False"
      ]
     },
     "execution_count": 124,
     "metadata": {},
     "output_type": "execute_result"
    }
   ],
   "source": [
    "# Note that by default 'in' will search in Pandas index and not values\n",
    "1295.500000 in sp500"
   ]
  },
  {
   "cell_type": "markdown",
   "metadata": {
    "id": "DjNoVv5vb9ij"
   },
   "source": [
    "**MINI CHALLENGE #10:**\n",
    "- **Check if the stock price 3349 exists in the sp500 Pandas Series or not**\n",
    "- **Round stock prices to the nearest integer and check again**"
   ]
  },
  {
   "cell_type": "code",
   "execution_count": 129,
   "metadata": {
    "id": "3BYcu1gpb_Vo"
   },
   "outputs": [
    {
     "data": {
      "text/plain": [
       "True"
      ]
     },
     "execution_count": 129,
     "metadata": {},
     "output_type": "execute_result"
    }
   ],
   "source": [
    "sp500 = round(sp500)\n",
    "3349.000000 in sp500.values"
   ]
  },
  {
   "cell_type": "markdown",
   "metadata": {
    "id": "Vrv6ZboqmGmx"
   },
   "source": [
    "# 11. INDEXING: OBTAIN SPECIFIC ELEMENTS FROM PANDAS SERIES"
   ]
  },
  {
   "cell_type": "code",
   "execution_count": 132,
   "metadata": {
    "id": "XlMcpqkbjMI1"
   },
   "outputs": [
    {
     "data": {
      "text/plain": [
       "0       1295.500000\n",
       "1       1289.089966\n",
       "2       1293.670044\n",
       "3       1308.040039\n",
       "4       1314.500000\n",
       "           ...     \n",
       "2154    3327.770020\n",
       "2155    3349.159912\n",
       "2156    3351.280029\n",
       "2157    3360.469971\n",
       "2158    3333.689941\n",
       "Name: sp500, Length: 2159, dtype: float64"
      ]
     },
     "execution_count": 132,
     "metadata": {},
     "output_type": "execute_result"
    }
   ],
   "source": [
    "# Let's import CSV data as follows:\n",
    "sp500 = pd.read_csv('S_P500_Prices.csv').squeeze(\"columns\").copy()\n",
    "sp500"
   ]
  },
  {
   "cell_type": "code",
   "execution_count": 131,
   "metadata": {
    "id": "5O_wKHmmmY2E"
   },
   "outputs": [
    {
     "data": {
      "text/plain": [
       "1295.5"
      ]
     },
     "execution_count": 131,
     "metadata": {},
     "output_type": "execute_result"
    }
   ],
   "source": [
    "# Obtain the first element in a Pandas Series\n",
    "# Note that first element has an index 0\n",
    "sp500[0]"
   ]
  },
  {
   "cell_type": "code",
   "execution_count": 134,
   "metadata": {
    "id": "QV7zW7ecmY4l"
   },
   "outputs": [
    {
     "data": {
      "text/plain": [
       "1308.040039"
      ]
     },
     "execution_count": 134,
     "metadata": {},
     "output_type": "execute_result"
    }
   ],
   "source": [
    "sp500[3]"
   ]
  },
  {
   "cell_type": "code",
   "execution_count": 136,
   "metadata": {
    "id": "7wsOMwrvnHdJ"
   },
   "outputs": [
    {
     "data": {
      "text/plain": [
       "3333.689941"
      ]
     },
     "execution_count": 136,
     "metadata": {},
     "output_type": "execute_result"
    }
   ],
   "source": [
    "# Obtain the last element in the Pandas Series\n",
    "sp500[2158]"
   ]
  },
  {
   "cell_type": "markdown",
   "metadata": {
    "id": "mIsxBKz0cUZz"
   },
   "source": [
    "**MINI CHALLENGE #11:**\n",
    "- **Obtain the fifth element in the Pandas Series**"
   ]
  },
  {
   "cell_type": "code",
   "execution_count": 137,
   "metadata": {
    "id": "hPzW6L__crcc"
   },
   "outputs": [
    {
     "data": {
      "text/plain": [
       "1314.5"
      ]
     },
     "execution_count": 137,
     "metadata": {},
     "output_type": "execute_result"
    }
   ],
   "source": [
    "sp500[4]"
   ]
  },
  {
   "cell_type": "markdown",
   "metadata": {
    "id": "FqV5utBLnQuk"
   },
   "source": [
    "# 12. SLICING: OBTAIN MULTIPLE ELEMENTS FROM PANDAS SERIES"
   ]
  },
  {
   "cell_type": "code",
   "execution_count": null,
   "metadata": {
    "id": "FnZ_HXFcnY5-"
   },
   "outputs": [],
   "source": [
    "# Let's import CSV data as follows:\n",
    "sp500 = pd.read_csv('S_P500_Prices.csv').squeeze(\"columns\").copy()\n",
    "sp500"
   ]
  },
  {
   "cell_type": "code",
   "execution_count": 138,
   "metadata": {
    "id": "QVdRqhsbmY6X"
   },
   "outputs": [
    {
     "data": {
      "text/plain": [
       "0    1295.500000\n",
       "1    1289.089966\n",
       "2    1293.670044\n",
       "3    1308.040039\n",
       "4    1314.500000\n",
       "Name: sp500, dtype: float64"
      ]
     },
     "execution_count": 138,
     "metadata": {},
     "output_type": "execute_result"
    }
   ],
   "source": [
    "# Slice elements from a Pandas Series\n",
    "# Let's obtain elements starting from index 0 up until and not including index 5 (ie: indexes 0-4)\n",
    "sp500[:5]"
   ]
  },
  {
   "cell_type": "code",
   "execution_count": 139,
   "metadata": {
    "id": "YtZ4bhPKmY8S"
   },
   "outputs": [
    {
     "data": {
      "text/plain": [
       "0    1295.500000\n",
       "1    1289.089966\n",
       "2    1293.670044\n",
       "3    1308.040039\n",
       "4    1314.500000\n",
       "5    1315.380005\n",
       "6    1316.000000\n",
       "7    1314.650024\n",
       "8    1326.060059\n",
       "9    1318.430054\n",
       "Name: sp500, dtype: float64"
      ]
     },
     "execution_count": 139,
     "metadata": {},
     "output_type": "execute_result"
    }
   ],
   "source": [
    "# obtain all elements starting from index 0 up until and not including index 10\n",
    "sp500[:10]"
   ]
  },
  {
   "cell_type": "code",
   "execution_count": 140,
   "metadata": {
    "id": "tShJSc6Bmv6d"
   },
   "outputs": [
    {
     "data": {
      "text/plain": [
       "5       1315.380005\n",
       "6       1316.000000\n",
       "7       1314.650024\n",
       "8       1326.060059\n",
       "9       1318.430054\n",
       "           ...     \n",
       "2154    3327.770020\n",
       "2155    3349.159912\n",
       "2156    3351.280029\n",
       "2157    3360.469971\n",
       "2158    3333.689941\n",
       "Name: sp500, Length: 2154, dtype: float64"
      ]
     },
     "execution_count": 140,
     "metadata": {},
     "output_type": "execute_result"
    }
   ],
   "source": [
    "# obtain all elements starting from index 5 up until the end of the Pandas Series\n",
    "sp500[5:]"
   ]
  },
  {
   "cell_type": "markdown",
   "metadata": {
    "id": "BOIQH-R7dSDy"
   },
   "source": [
    "**MINI CHALLENGE #12:**\n",
    "- **Obtain all elements in Pandas Series except for the last 3 elements**"
   ]
  },
  {
   "cell_type": "markdown",
   "metadata": {
    "id": "i1gJS3K7vlxd"
   },
   "source": [
    "# EXCELLENT JOB!"
   ]
  },
  {
   "cell_type": "markdown",
   "metadata": {
    "id": "MF2SdJZ_vn4z"
   },
   "source": [
    "# MINI CHALLENGE SOLUTIONS"
   ]
  },
  {
   "cell_type": "markdown",
   "metadata": {
    "id": "08v_y7IaJrvt"
   },
   "source": [
    "**MINI CHALLENGE #1 SOLUTION:**\n",
    "- **Define a Pandas Series named \"my_series\" that contains your top 3 favourite movies. Confirm the datatype of \"my_series\"**"
   ]
  },
  {
   "cell_type": "code",
   "execution_count": null,
   "metadata": {
    "id": "syn8_3JiJrvt"
   },
   "outputs": [],
   "source": [
    "# Let's define a Python list that contains 3 top movies\n",
    "my_list = ['The Godfather','Star Wars','The Wolf of Wall Street'] \n",
    "my_series = pd.Series(data = my_list) \n",
    "my_series"
   ]
  },
  {
   "cell_type": "code",
   "execution_count": null,
   "metadata": {
    "id": "12MuwJ5eJrvu"
   },
   "outputs": [],
   "source": [
    "type(my_series)"
   ]
  },
  {
   "cell_type": "markdown",
   "metadata": {
    "id": "1x6d0qzMKg-A"
   },
   "source": [
    "**MINI CHALLENGE #2 SOLUTION:**\n",
    "- **Define a Pandas Series named \"my_series\" that contains your top 3 favourite movies. Instead of using default numeric indexes (similar to mini challenge #1), use the following indexes \"movie #1\", \"Movie #2\", and \"movie #3\"**"
   ]
  },
  {
   "cell_type": "code",
   "execution_count": null,
   "metadata": {
    "id": "ddjSNsHBK-ll"
   },
   "outputs": [],
   "source": [
    "# Let's define a Python list that contains 3 movies as follows\n",
    "my_list = ['The Godfather','Star Wars','The Wolf of Wall Street'] \n",
    "\n",
    "# Let's define a python list as shown below. This python list will be used for the Series index:\n",
    "my_labels = ['movie #1', 'movie #2', 'movie #3']\n"
   ]
  },
  {
   "cell_type": "code",
   "execution_count": null,
   "metadata": {
    "id": "4iNEgSEtK8kl"
   },
   "outputs": [],
   "source": [
    "# Let's create a one dimensional Pandas \"series\" \n",
    "# Let's use Pandas Constructor Method to create a series from a Python list\n",
    "# Note that this series is formed of data and associated labels \n",
    "my_series = pd.Series(data = my_list, index = my_labels)\n",
    "my_series"
   ]
  },
  {
   "cell_type": "markdown",
   "metadata": {
    "id": "r6btEnxmMy_G"
   },
   "source": [
    "**MINI CHALLENGE #3 SOLUTION:**\n",
    "- **Create a Pandas Series from a dictionary with 3 of your favourite stocks and their corresponding prices** \n"
   ]
  },
  {
   "cell_type": "code",
   "execution_count": null,
   "metadata": {
    "id": "PzkBjyLHM7Do"
   },
   "outputs": [],
   "source": [
    "stocks = {'SP500': 3000, \n",
    "          'AAPL': 400,\n",
    "          'TSLA': 2200}\n",
    "print(stocks)"
   ]
  },
  {
   "cell_type": "code",
   "execution_count": null,
   "metadata": {
    "id": "QeDCPO9hNAKj"
   },
   "outputs": [],
   "source": [
    "# Let's define a Pandas Series Using the dictionary\n",
    "my_series = pd.Series(stocks)\n",
    "my_series"
   ]
  },
  {
   "cell_type": "markdown",
   "metadata": {
    "id": "lB8OYAVJXRYe"
   },
   "source": [
    "**MINI CHALLENGE #4 SOLUTION:** \n",
    "- **What is the size of the Pandas Series? (External Research is Required)**"
   ]
  },
  {
   "cell_type": "code",
   "execution_count": null,
   "metadata": {
    "id": "D5D0wFlmXRYf"
   },
   "outputs": [],
   "source": [
    "# size is used to return the size of the series\n",
    "series_3.size"
   ]
  },
  {
   "cell_type": "markdown",
   "metadata": {
    "id": "5D7QSEf7Y8aa"
   },
   "source": [
    "**MINI CHALLENGE #5 SOLUTION:** \n",
    "- **Show the last 2 rows in the Pandas Series (External Research is Required)** \n",
    "- **How many bytes does this Pandas Series consume in memory? (External Research is Required)**"
   ]
  },
  {
   "cell_type": "code",
   "execution_count": null,
   "metadata": {
    "id": "FsSGV7I3Y_ja"
   },
   "outputs": [],
   "source": [
    "my_series.tail(2)"
   ]
  },
  {
   "cell_type": "code",
   "execution_count": null,
   "metadata": {
    "id": "s8g0WhX6Y8aa"
   },
   "outputs": [],
   "source": [
    "my_series.memory_usage()"
   ]
  },
  {
   "cell_type": "code",
   "execution_count": null,
   "metadata": {
    "id": "k27pa4L1fv7-"
   },
   "outputs": [],
   "source": []
  },
  {
   "cell_type": "markdown",
   "metadata": {
    "id": "Thrv0augRv88"
   },
   "source": [
    "**MINI CHALLENGE #6 SOLUTION:**\n",
    "- **Set Squeeze = False and rerun the cell, what do you notice? Use Type to compare both outputs**"
   ]
  },
  {
   "cell_type": "code",
   "execution_count": null,
   "metadata": {
    "id": "Ebt-VMfccjR6"
   },
   "outputs": [],
   "source": [
    "sp500 = pd.read_csv('S&P500_Prices.csv', squeeze = False)\n",
    "# Note that when you set Squeeze = False, the data is stored in a DataFrame by default. \n",
    "# DataFrame is simply used to store multi dimensional data as compares to Pandas Series that only holds 1-D dataset \n",
    "# Note that DataFrames has proper formatting when you attempt to view them as shown below \n",
    "# Note that Pandas Series has no formatting\n"
   ]
  },
  {
   "cell_type": "code",
   "execution_count": null,
   "metadata": {
    "id": "WsTIJJlRSFkJ"
   },
   "outputs": [],
   "source": [
    "sp500"
   ]
  },
  {
   "cell_type": "code",
   "execution_count": null,
   "metadata": {
    "id": "NJXOLvacSjh9"
   },
   "outputs": [],
   "source": [
    "type(sp500)"
   ]
  },
  {
   "cell_type": "code",
   "execution_count": null,
   "metadata": {
    "id": "VqShdXDGSjnD"
   },
   "outputs": [],
   "source": [
    "sp500 = pd.read_csv('S&P500_Prices.csv', squeeze = True)\n",
    "type(sp500)"
   ]
  },
  {
   "cell_type": "markdown",
   "metadata": {
    "id": "c9aEM3KTT619"
   },
   "source": [
    "**MINI CHALLENGE #7 SOLUTION:**\n",
    "- **Given the following Pandas Series, convert all positive values to negative using python built-in functions**\n",
    "- **Obtain only unique values (ie: Remove duplicates) using python built-in functions**\n",
    "- **my_series = pd.Series(data = [-10, 100, -30, 50, 100])**\n"
   ]
  },
  {
   "cell_type": "code",
   "execution_count": null,
   "metadata": {
    "id": "VP5bBkaOUIpo"
   },
   "outputs": [],
   "source": [
    "my_series = pd.Series(data = [-10, 100, -30, 50, 100])\n",
    "my_series"
   ]
  },
  {
   "cell_type": "code",
   "execution_count": null,
   "metadata": {
    "id": "NFKY2ZNRaQ-s"
   },
   "outputs": [],
   "source": [
    "abs(my_series)"
   ]
  },
  {
   "cell_type": "code",
   "execution_count": null,
   "metadata": {
    "id": "xqWCYc0n6V-d"
   },
   "outputs": [],
   "source": [
    "set(my_series)"
   ]
  },
  {
   "cell_type": "markdown",
   "metadata": {
    "id": "5hAgN4ITfwPZ"
   },
   "source": [
    "**MINI CHALLENGE #8 SOLUTION:**\n",
    "- **Sort the S&P500 values in a decending order instead. Make sure to update values in-memory.**"
   ]
  },
  {
   "cell_type": "code",
   "execution_count": null,
   "metadata": {
    "id": "XbMv5fujfwPa"
   },
   "outputs": [],
   "source": [
    "sp500.sort_values(ascending = False, inplace = True) \n",
    "sp500"
   ]
  },
  {
   "cell_type": "code",
   "execution_count": null,
   "metadata": {
    "id": "dFlqKzfQlDS-"
   },
   "outputs": [],
   "source": []
  },
  {
   "cell_type": "markdown",
   "metadata": {
    "id": "BJJRSL5jlDlV"
   },
   "source": [
    "**MINI CHALLENGE #9 SOLUTION:**\n",
    "- **Obtain the average price using two different methods**"
   ]
  },
  {
   "cell_type": "code",
   "execution_count": null,
   "metadata": {
    "id": "PPjFgt5FlDlW"
   },
   "outputs": [],
   "source": [
    "# Obtain the average - Solution #1\n",
    "sp500.sum()/sp500.count()"
   ]
  },
  {
   "cell_type": "code",
   "execution_count": null,
   "metadata": {
    "id": "P10NuBnslDlW"
   },
   "outputs": [],
   "source": [
    "# Obtain the average - Solution #s\n",
    "sp500.mean()"
   ]
  },
  {
   "cell_type": "code",
   "execution_count": null,
   "metadata": {
    "id": "TZkayhzAby14"
   },
   "outputs": [],
   "source": []
  },
  {
   "cell_type": "markdown",
   "metadata": {
    "id": "VUaaCo_5a8h0"
   },
   "source": [
    "**MINI CHALLENGE #10 SOLUTION:**\n",
    "- **Check if the stock price 3349 exists in the sp500 Pandas Series or not**\n",
    "- **Round stock prices to the nearest integer and check again**"
   ]
  },
  {
   "cell_type": "code",
   "execution_count": null,
   "metadata": {
    "id": "650WOhWVjMGx"
   },
   "outputs": [],
   "source": [
    "3349 in sp500.values"
   ]
  },
  {
   "cell_type": "code",
   "execution_count": null,
   "metadata": {
    "id": "8T7B5PhsbVB0"
   },
   "outputs": [],
   "source": [
    "sp500 = round(sp500)\n",
    "sp500"
   ]
  },
  {
   "cell_type": "code",
   "execution_count": null,
   "metadata": {
    "id": "Ads3YyW_bhVh"
   },
   "outputs": [],
   "source": [
    "3349 in sp500.values"
   ]
  },
  {
   "cell_type": "markdown",
   "metadata": {
    "id": "vAJPyYxMcmoo"
   },
   "source": [
    "**MINI CHALLENGE #11 SOLUTION:**\n",
    "- **Obtain the fifth element in the Pandas Series**"
   ]
  },
  {
   "cell_type": "code",
   "execution_count": null,
   "metadata": {
    "id": "4RDUq1phcmop"
   },
   "outputs": [],
   "source": [
    "# Note that the fifth element has an index = 4\n",
    "sp500[4]"
   ]
  },
  {
   "cell_type": "markdown",
   "metadata": {
    "id": "d3mdLBq2dicZ"
   },
   "source": [
    "**MINI CHALLENGE #12 SOLUTION:**\n",
    "- **Obtain all elements in Pandas Series except for the last 3 elements**"
   ]
  },
  {
   "cell_type": "code",
   "execution_count": null,
   "metadata": {
    "id": "0CaYXe_udFyA"
   },
   "outputs": [],
   "source": [
    "sp500[:-3]"
   ]
  }
 ],
 "metadata": {
  "colab": {
   "authorship_tag": "ABX9TyOUiTqimgZeJoNXvjNCIkpX",
   "collapsed_sections": [],
   "name": "Pandas Series Fundamentals - Skeleton backup.ipynb",
   "provenance": []
  },
  "kernelspec": {
   "display_name": "Python 3 (ipykernel)",
   "language": "python",
   "name": "python3"
  },
  "language_info": {
   "codemirror_mode": {
    "name": "ipython",
    "version": 3
   },
   "file_extension": ".py",
   "mimetype": "text/x-python",
   "name": "python",
   "nbconvert_exporter": "python",
   "pygments_lexer": "ipython3",
   "version": "3.11.3"
  }
 },
 "nbformat": 4,
 "nbformat_minor": 1
}
